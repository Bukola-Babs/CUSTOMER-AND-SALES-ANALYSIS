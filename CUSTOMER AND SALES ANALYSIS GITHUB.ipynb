{
 "cells": [
  {
   "cell_type": "markdown",
   "metadata": {
    "id": "2tf8ylo3rXq-"
   },
   "source": [
    "## **BIG DATA PROCESSING AND ANALYTICS FOCUSING ON CUSTOMERS, SALES AND PRODUCTS**\n",
    "\n",
    "                      "
   ]
  },
  {
   "cell_type": "code",
   "execution_count": null,
   "metadata": {
    "id": "L02gzqt5u4cs"
   },
   "outputs": [],
   "source": [
    "from google.colab import drive\n",
    "drive.mount('/content/drive')"
   ]
  },
  {
   "cell_type": "markdown",
   "metadata": {
    "id": "X8fuM6xov61P"
   },
   "source": []
  },
  {
   "cell_type": "markdown",
   "metadata": {
    "id": "iREEVxjJ66bh"
   },
   "source": [
    "## **INSTALLING LIBRARIES**"
   ]
  },
  {
   "cell_type": "code",
   "execution_count": null,
   "metadata": {
    "colab": {
     "base_uri": "https://localhost:8080/"
    },
    "executionInfo": {
     "elapsed": 54254,
     "status": "ok",
     "timestamp": 1705087482336,
     "user": {
      "displayName": "Bukola Babalola",
      "userId": "06679246117258314799"
     },
     "user_tz": 0
    },
    "id": "aJTAKNvh4FWa",
    "outputId": "7028a491-5ae5-4241-b3e1-3b8c6bacd6dc"
   },
   "outputs": [
    {
     "name": "stdout",
     "output_type": "stream",
     "text": [
      "Collecting pyspark\n",
      "  Downloading pyspark-3.5.0.tar.gz (316.9 MB)\n",
      "\u001b[2K     \u001b[90m━━━━━━━━━━━━━━━━━━━━━━━━━━━━━━━━━━━━━━━━\u001b[0m \u001b[32m316.9/316.9 MB\u001b[0m \u001b[31m3.4 MB/s\u001b[0m eta \u001b[36m0:00:00\u001b[0m\n",
      "\u001b[?25h  Preparing metadata (setup.py) ... \u001b[?25l\u001b[?25hdone\n",
      "Requirement already satisfied: py4j==0.10.9.7 in /usr/local/lib/python3.10/dist-packages (from pyspark) (0.10.9.7)\n",
      "Building wheels for collected packages: pyspark\n",
      "  Building wheel for pyspark (setup.py) ... \u001b[?25l\u001b[?25hdone\n",
      "  Created wheel for pyspark: filename=pyspark-3.5.0-py2.py3-none-any.whl size=317425345 sha256=578aca005089fbfa4b2e125e91beaf41629ea17f8e6bcaad061179449d7ed0c8\n",
      "  Stored in directory: /root/.cache/pip/wheels/41/4e/10/c2cf2467f71c678cfc8a6b9ac9241e5e44a01940da8fbb17fc\n",
      "Successfully built pyspark\n",
      "Installing collected packages: pyspark\n",
      "Successfully installed pyspark-3.5.0\n"
     ]
    }
   ],
   "source": [
    "# Installing the latest version of PySpark\n",
    "!pip install pyspark\n"
   ]
  },
  {
   "cell_type": "markdown",
   "metadata": {
    "id": "gGY7FhiG4zKE"
   },
   "source": []
  },
  {
   "cell_type": "code",
   "execution_count": null,
   "metadata": {
    "colab": {
     "base_uri": "https://localhost:8080/"
    },
    "executionInfo": {
     "elapsed": 13798,
     "status": "ok",
     "timestamp": 1705087496123,
     "user": {
      "displayName": "Bukola Babalola",
      "userId": "06679246117258314799"
     },
     "user_tz": 0
    },
    "id": "0JZhPYHP5ItU",
    "outputId": "8574680d-ebb0-4176-ff78-16afd386d285"
   },
   "outputs": [
    {
     "name": "stdout",
     "output_type": "stream",
     "text": [
      "Requirement already satisfied: py4j in /usr/local/lib/python3.10/dist-packages (0.10.9.7)\n"
     ]
    }
   ],
   "source": [
    "# Installation of the \"py4j\" which is a dependency for PySpark\n",
    "!pip install py4j"
   ]
  },
  {
   "cell_type": "code",
   "execution_count": null,
   "metadata": {
    "id": "r2EBDbJc7N2x"
   },
   "outputs": [],
   "source": []
  },
  {
   "cell_type": "code",
   "execution_count": null,
   "metadata": {
    "colab": {
     "base_uri": "https://localhost:8080/"
    },
    "executionInfo": {
     "elapsed": 15295,
     "status": "ok",
     "timestamp": 1705087511410,
     "user": {
      "displayName": "Bukola Babalola",
      "userId": "06679246117258314799"
     },
     "user_tz": 0
    },
    "id": "75KFcODw5k6S",
    "outputId": "34ca0d08-2b6b-4740-a421-cd09cd2be974"
   },
   "outputs": [
    {
     "name": "stdout",
     "output_type": "stream",
     "text": [
      "Collecting findspark\n",
      "  Downloading findspark-2.0.1-py2.py3-none-any.whl (4.4 kB)\n",
      "Installing collected packages: findspark\n",
      "Successfully installed findspark-2.0.1\n"
     ]
    }
   ],
   "source": [
    "# Install \"findspark\", which is a utility for locating the Spark installation and making it accessible in your Python environment\n",
    "!pip install findspark"
   ]
  },
  {
   "cell_type": "code",
   "execution_count": null,
   "metadata": {
    "id": "laLBLTtn5mS6"
   },
   "outputs": [],
   "source": [
    "# Note: pyarrow is a library for working with Arrow data, a columnar in-memory analytics layer\n",
    "import findspark\n",
    "findspark.init()"
   ]
  },
  {
   "cell_type": "code",
   "execution_count": null,
   "metadata": {
    "id": "ckyZETgw5sdK"
   },
   "outputs": [],
   "source": [
    "#  Importing the SparkSession class from the pyspark.sql module.\n",
    "from pyspark.sql import SparkSession"
   ]
  },
  {
   "cell_type": "code",
   "execution_count": null,
   "metadata": {
    "id": "hhG0cuNM59oO"
   },
   "outputs": [],
   "source": [
    "# Creating a SparkSession\n",
    "spark = SparkSession.builder.getOrCreate()\n",
    "# Create a Spark session\n",
    "spark = SparkSession.builder.appName(\"example\").getOrCreate()"
   ]
  },
  {
   "cell_type": "code",
   "execution_count": null,
   "metadata": {
    "id": "GdADCvFP6Fc0"
   },
   "outputs": [],
   "source": [
    "# Importing the Pandas and NumPy libraries in Python\n",
    "import pandas as pd\n",
    "import numpy as np"
   ]
  },
  {
   "cell_type": "code",
   "execution_count": null,
   "metadata": {
    "id": "SrStgmy46Ljm"
   },
   "outputs": [],
   "source": [
    "# Importing LabelEncoder from scikit-learn preprocessing module\n",
    "from sklearn.preprocessing import LabelEncoder\n",
    "\n",
    "# Creating an instance of LabelEncoder for encoding categorical variables\n",
    "label_encoder = LabelEncoder()"
   ]
  },
  {
   "cell_type": "code",
   "execution_count": null,
   "metadata": {
    "id": "X34rgMYy6Rcl"
   },
   "outputs": [],
   "source": [
    "#  Importing seaborn for statistical data visualization\n",
    "import seaborn as sns\n",
    "# Importing matplotlib.pyplot for creating visualizations\n",
    "import matplotlib.pyplot as plt\n"
   ]
  },
  {
   "cell_type": "code",
   "execution_count": null,
   "metadata": {
    "id": "2cF1X3AL6WWV"
   },
   "outputs": [],
   "source": [
    "# Importing SparkSession from pyspark.sql to create a Spark application\n",
    "from pyspark.sql import SparkSession\n",
    "\n",
    "## Importing the col function from pyspark.sql.functions for column operations\n",
    "from pyspark.sql.functions import col\n"
   ]
  },
  {
   "cell_type": "code",
   "execution_count": null,
   "metadata": {
    "id": "b-oMEtGN6bE_"
   },
   "outputs": [],
   "source": [
    "# Importing SparkSession from pyspark.sql to create a Spark application\n",
    "# Importing col and renaming the sum function as spark_sum from pyspark.sql.functions for column operations\n",
    "from pyspark.sql import SparkSession\n",
    "from pyspark.sql.functions import col, sum as spark_sum"
   ]
  },
  {
   "cell_type": "code",
   "execution_count": null,
   "metadata": {
    "id": "esQNF-ow6e6d"
   },
   "outputs": [],
   "source": [
    "# Importing the mean function from pyspark.sql.functions for calculating the mean in Spark DataFrame operations\n",
    "from pyspark.sql.functions import mean"
   ]
  },
  {
   "cell_type": "code",
   "execution_count": null,
   "metadata": {
    "id": "vNaY4tmm6icC"
   },
   "outputs": [],
   "source": [
    "# Importing the functions module from PySpark SQL\n",
    "from pyspark.sql import functions as F"
   ]
  },
  {
   "cell_type": "code",
   "execution_count": null,
   "metadata": {
    "id": "sqieUZMx6rgw"
   },
   "outputs": [],
   "source": [
    "from pyspark.sql.functions import col, year, current_date\n",
    "from pyspark.sql.functions import year, current_date"
   ]
  },
  {
   "cell_type": "code",
   "execution_count": null,
   "metadata": {
    "id": "R3O1eoHv6sWK"
   },
   "outputs": [],
   "source": [
    "# Importing the VectorAssembler class from PySpark's machine learning feature module\n",
    "from pyspark.ml.feature import VectorAssembler"
   ]
  },
  {
   "cell_type": "code",
   "execution_count": null,
   "metadata": {
    "id": "Jq_1Jw9r6vdy"
   },
   "outputs": [],
   "source": [
    "# Importing the LinearRegression class from PySpark's machine learning regression module\n",
    "from pyspark.ml.regression import LinearRegression"
   ]
  },
  {
   "cell_type": "code",
   "execution_count": null,
   "metadata": {
    "id": "4f-YEMVx6ygz"
   },
   "outputs": [],
   "source": [
    "# Importing the RegressionEvaluator class from PySpark's machine learning evaluation module\n",
    "from pyspark.ml.evaluation import RegressionEvaluator"
   ]
  },
  {
   "cell_type": "markdown",
   "metadata": {
    "id": "boDzi2_l788I"
   },
   "source": [
    "## **IMPORTING DATASETS**"
   ]
  },
  {
   "cell_type": "code",
   "execution_count": null,
   "metadata": {
    "id": "uxHywApQ7dzp"
   },
   "outputs": [],
   "source": [
    "\n",
    "# importing dataset ,reading \"DimGeography.csv\" into a Spark DataFrame df1.\n",
    "df1= spark.read.csv(\"/content/drive/MyDrive/Colab Notebooks/DimGeography.csv\",header=True, inferSchema=True)"
   ]
  },
  {
   "cell_type": "code",
   "execution_count": null,
   "metadata": {
    "colab": {
     "base_uri": "https://localhost:8080/"
    },
    "executionInfo": {
     "elapsed": 1469,
     "status": "ok",
     "timestamp": 1705087550466,
     "user": {
      "displayName": "Bukola Babalola",
      "userId": "06679246117258314799"
     },
     "user_tz": 0
    },
    "id": "Lq5ohGHl7USG",
    "outputId": "021510d7-6b23-48bb-964f-78a812a97a4e"
   },
   "outputs": [
    {
     "name": "stdout",
     "output_type": "stream",
     "text": [
      "+------------+-------------+-----------------+-----------------+-----------------+------------------------+------------------------+-----------------------+----------+-----------------+----------------+\n",
      "|GeographyKey|         City|StateProvinceCode|StateProvinceName|CountryRegionCode|EnglishCountryRegionName|SpanishCountryRegionName|FrenchCountryRegionName|PostalCode|SalesTerritoryKey|IpAddressLocator|\n",
      "+------------+-------------+-----------------+-----------------+-----------------+------------------------+------------------------+-----------------------+----------+-----------------+----------------+\n",
      "|           1|   Alexandria|              NSW|  New South Wales|               AU|               Australia|               Australia|              Australie|      2015|                9|    198.51.100.2|\n",
      "|           2|Coffs Harbour|              NSW|  New South Wales|               AU|               Australia|               Australia|              Australie|      2450|                9|    198.51.100.3|\n",
      "|           3| Darlinghurst|              NSW|  New South Wales|               AU|               Australia|               Australia|              Australie|      2010|                9|    198.51.100.4|\n",
      "|           4|     Goulburn|              NSW|  New South Wales|               AU|               Australia|               Australia|              Australie|      2580|                9|    198.51.100.5|\n",
      "|           5|    Lane Cove|              NSW|  New South Wales|               AU|               Australia|               Australia|              Australie|      1597|                9|    198.51.100.6|\n",
      "|           6| Lavender Bay|              NSW|  New South Wales|               AU|               Australia|               Australia|              Australie|      2060|                9|    198.51.100.7|\n",
      "+------------+-------------+-----------------+-----------------+-----------------+------------------------+------------------------+-----------------------+----------+-----------------+----------------+\n",
      "only showing top 6 rows\n",
      "\n"
     ]
    }
   ],
   "source": [
    "# Displaying the first 6 rows of the Spark DataFrame df1,\"DimGeography.csv\"\n",
    "df1.show(6)\n"
   ]
  },
  {
   "cell_type": "code",
   "execution_count": null,
   "metadata": {
    "id": "zDYOeqeJ9bKx"
   },
   "outputs": [],
   "source": []
  },
  {
   "cell_type": "code",
   "execution_count": null,
   "metadata": {
    "id": "WeQulOy9H0qF"
   },
   "outputs": [],
   "source": [
    "# importing dataset ,reading \"FactInternetSales.csv\" into a Spark DataFrame df1.\n",
    "df2= spark.read.csv(\"/content/drive/MyDrive/Colab Notebooks/FactInternetSales.csv\",header=True, inferSchema=True)"
   ]
  },
  {
   "cell_type": "code",
   "execution_count": null,
   "metadata": {
    "colab": {
     "base_uri": "https://localhost:8080/"
    },
    "executionInfo": {
     "elapsed": 975,
     "status": "ok",
     "timestamp": 1705087698863,
     "user": {
      "displayName": "Bukola Babalola",
      "userId": "06679246117258314799"
     },
     "user_tz": 0
    },
    "id": "dLrHd0ElJDA3",
    "outputId": "99abbd6d-7d56-4dbc-bfd4-e9038e625f0b"
   },
   "outputs": [
    {
     "name": "stdout",
     "output_type": "stream",
     "text": [
      "+----------+------------+----------+-----------+-----------+------------+-----------+-----------------+----------------+--------------------+--------------+-------------+---------+--------------+--------------------+--------------+-------------------+----------------+-----------+--------+-------+---------------------+----------------+-------------------+-------------------+-------------------+\n",
      "|ProductKey|OrderDateKey|DueDateKey|ShipDateKey|CustomerKey|PromotionKey|CurrencyKey|SalesTerritoryKey|SalesOrderNumber|SalesOrderLineNumber|RevisionNumber|OrderQuantity|UnitPrice|ExtendedAmount|UnitPriceDiscountPct|DiscountAmount|ProductStandardCost|TotalProductCost|SalesAmount|  TaxAmt|Freight|CarrierTrackingNumber|CustomerPONumber|          OrderDate|            DueDate|           ShipDate|\n",
      "+----------+------------+----------+-----------+-----------+------------+-----------+-----------------+----------------+--------------------+--------------+-------------+---------+--------------+--------------------+--------------+-------------------+----------------+-----------+--------+-------+---------------------+----------------+-------------------+-------------------+-------------------+\n",
      "|       310|    20101229|  20110110|   20110105|      21768|           1|         19|                6|         SO43697|                   1|             1|            1|  3578.27|       3578.27|                   0|             0|          2171.2942|       2171.2942|    3578.27|286.2616|89.4568|                 NULL|            NULL|2010-12-29 00:00:00|2011-01-10 00:00:00|2011-01-05 00:00:00|\n",
      "|       346|    20101229|  20110110|   20110105|      28389|           1|         39|                7|         SO43698|                   1|             1|            1|  3399.99|       3399.99|                   0|             0|          1912.1544|       1912.1544|    3399.99|271.9992|84.9998|                 NULL|            NULL|2010-12-29 00:00:00|2011-01-10 00:00:00|2011-01-05 00:00:00|\n",
      "|       346|    20101229|  20110110|   20110105|      25863|           1|        100|                1|         SO43699|                   1|             1|            1|  3399.99|       3399.99|                   0|             0|          1912.1544|       1912.1544|    3399.99|271.9992|84.9998|                 NULL|            NULL|2010-12-29 00:00:00|2011-01-10 00:00:00|2011-01-05 00:00:00|\n",
      "|       336|    20101229|  20110110|   20110105|      14501|           1|        100|                4|         SO43700|                   1|             1|            1| 699.0982|      699.0982|                   0|             0|           413.1463|        413.1463|   699.0982| 55.9279|17.4775|                 NULL|            NULL|2010-12-29 00:00:00|2011-01-10 00:00:00|2011-01-05 00:00:00|\n",
      "|       346|    20101229|  20110110|   20110105|      11003|           1|          6|                9|         SO43701|                   1|             1|            1|  3399.99|       3399.99|                   0|             0|          1912.1544|       1912.1544|    3399.99|271.9992|84.9998|                 NULL|            NULL|2010-12-29 00:00:00|2011-01-10 00:00:00|2011-01-05 00:00:00|\n",
      "|       311|    20101230|  20110111|   20110106|      27645|           1|        100|                4|         SO43702|                   1|             1|            1|  3578.27|       3578.27|                   0|             0|          2171.2942|       2171.2942|    3578.27|286.2616|89.4568|                 NULL|            NULL|2010-12-30 00:00:00|2011-01-11 00:00:00|2011-01-06 00:00:00|\n",
      "+----------+------------+----------+-----------+-----------+------------+-----------+-----------------+----------------+--------------------+--------------+-------------+---------+--------------+--------------------+--------------+-------------------+----------------+-----------+--------+-------+---------------------+----------------+-------------------+-------------------+-------------------+\n",
      "only showing top 6 rows\n",
      "\n"
     ]
    }
   ],
   "source": [
    "# Displaying the first 6 rows of the Spark DataFrame df2,\"FactInternetSales.csv\"\n",
    "df2.show(6)\n"
   ]
  },
  {
   "cell_type": "code",
   "execution_count": null,
   "metadata": {
    "id": "-vgPyxh0JO24"
   },
   "outputs": [],
   "source": []
  },
  {
   "cell_type": "code",
   "execution_count": null,
   "metadata": {
    "id": "aXV2GZ_sJpBl"
   },
   "outputs": [],
   "source": [
    "\n",
    "# importing dataset ,reading \"DimCustomer.csv\" into a Spark DataFrame df3.\n",
    "df3= spark.read.csv(\"/content/drive/MyDrive/Colab Notebooks/DimCustomer.csv\",header=True, inferSchema=True)"
   ]
  },
  {
   "cell_type": "code",
   "execution_count": null,
   "metadata": {
    "id": "XWP3o4CBJzFL"
   },
   "outputs": [],
   "source": []
  },
  {
   "cell_type": "code",
   "execution_count": null,
   "metadata": {
    "colab": {
     "base_uri": "https://localhost:8080/"
    },
    "executionInfo": {
     "elapsed": 1238,
     "status": "ok",
     "timestamp": 1705087831449,
     "user": {
      "displayName": "Bukola Babalola",
      "userId": "06679246117258314799"
     },
     "user_tz": 0
    },
    "id": "PdDW09CLJ1s8",
    "outputId": "33832ba9-a30f-4912-ab80-afac396a4f9e"
   },
   "outputs": [
    {
     "name": "stdout",
     "output_type": "stream",
     "text": [
      "+-----------+------------+--------------------+-----+---------+----------+--------+---------+----------+-------------+------+------+--------------------+------------+-------------+--------------------+----------------+----------------+---------------+-----------------+-----------------+----------------+--------------+---------------+-------------------+------------+-------------------+-----------------+---------------+\n",
      "|CustomerKey|GeographyKey|CustomerAlternateKey|Title|FirstName|MiddleName|LastName|NameStyle| BirthDate|MaritalStatus|Suffix|Gender|        EmailAddress|YearlyIncome|TotalChildren|NumberChildrenAtHome|EnglishEducation|SpanishEducation|FrenchEducation|EnglishOccupation|SpanishOccupation|FrenchOccupation|HouseOwnerFlag|NumberCarsOwned|       AddressLine1|AddressLine2|              Phone|DateFirstPurchase|CommuteDistance|\n",
      "+-----------+------------+--------------------+-----+---------+----------+--------+---------+----------+-------------+------+------+--------------------+------------+-------------+--------------------+----------------+----------------+---------------+-----------------+-----------------+----------------+--------------+---------------+-------------------+------------+-------------------+-----------------+---------------+\n",
      "|      11000|          26|          AW00011000| NULL|      Jon|         V|    Yang|    false|1966-04-08|            M|  NULL|     M|jon24@adventure-w...|       90000|            2|                   0|       Bachelors|    Licenciatura|        Bac + 4|     Professional|      Profesional|           Cadre|             1|              0|    3761 N. 14th St|        NULL|1 (11) 500 555-0162|       2005-07-22|      1-2 Miles|\n",
      "|      11001|          37|          AW00011001| NULL|   Eugene|         L|   Huang|    false|1965-05-14|            S|  NULL|     M|eugene10@adventur...|       60000|            3|                   3|       Bachelors|    Licenciatura|        Bac + 4|     Professional|      Profesional|           Cadre|             0|              1|         2243 W St.|        NULL|1 (11) 500 555-0110|       2005-07-18|      0-1 Miles|\n",
      "|      11002|          31|          AW00011002| NULL|    Ruben|      NULL|  Torres|    false|1965-08-12|            M|  NULL|     M|ruben35@adventure...|       60000|            3|                   3|       Bachelors|    Licenciatura|        Bac + 4|     Professional|      Profesional|           Cadre|             1|              1|   5844 Linden Land|        NULL|1 (11) 500 555-0184|       2005-07-10|      2-5 Miles|\n",
      "|      11003|          11|          AW00011003| NULL|  Christy|      NULL|     Zhu|    false|1968-02-15|            S|  NULL|     F|christy12@adventu...|       70000|            0|                   0|       Bachelors|    Licenciatura|        Bac + 4|     Professional|      Profesional|           Cadre|             0|              1|   1825 Village Pl.|        NULL|1 (11) 500 555-0162|       2005-07-01|     5-10 Miles|\n",
      "|      11004|          19|          AW00011004| NULL|Elizabeth|      NULL| Johnson|    false|1968-08-08|            S|  NULL|     F|elizabeth5@advent...|       80000|            5|                   5|       Bachelors|    Licenciatura|        Bac + 4|     Professional|      Profesional|           Cadre|             1|              4|7553 Harness Circle|        NULL|1 (11) 500 555-0131|       2005-07-26|      1-2 Miles|\n",
      "|      11005|          22|          AW00011005| NULL|    Julio|      NULL|    Ruiz|    false|1965-08-05|            S|  NULL|     M|julio1@adventure-...|       70000|            0|                   0|       Bachelors|    Licenciatura|        Bac + 4|     Professional|      Profesional|           Cadre|             1|              1|7305 Humphrey Drive|        NULL|1 (11) 500 555-0151|       2005-07-02|     5-10 Miles|\n",
      "+-----------+------------+--------------------+-----+---------+----------+--------+---------+----------+-------------+------+------+--------------------+------------+-------------+--------------------+----------------+----------------+---------------+-----------------+-----------------+----------------+--------------+---------------+-------------------+------------+-------------------+-----------------+---------------+\n",
      "only showing top 6 rows\n",
      "\n"
     ]
    }
   ],
   "source": [
    "# Displaying the first 6 rows of the Spark DataFrame df2,\"FactInternetSales.csv\"\n",
    "df3.show(6)\n"
   ]
  },
  {
   "cell_type": "code",
   "execution_count": null,
   "metadata": {
    "id": "kOkaZe_sJ4Z9"
   },
   "outputs": [],
   "source": []
  },
  {
   "cell_type": "code",
   "execution_count": null,
   "metadata": {
    "id": "Ox6l9NTUKTMS"
   },
   "outputs": [],
   "source": [
    "# importing dataset ,reading \"DimProducts.csv\" into a Spark DataFrame df4.\n",
    "df4= spark.read.csv(\"/content/drive/MyDrive/Colab Notebooks/DimProduct.csv\",header=True, inferSchema=True)"
   ]
  },
  {
   "cell_type": "code",
   "execution_count": null,
   "metadata": {
    "id": "FwnLTXTRKdBA"
   },
   "outputs": [],
   "source": []
  },
  {
   "cell_type": "code",
   "execution_count": null,
   "metadata": {
    "colab": {
     "base_uri": "https://localhost:8080/"
    },
    "executionInfo": {
     "elapsed": 1238,
     "status": "ok",
     "timestamp": 1705087831449,
     "user": {
      "displayName": "Bukola Babalola",
      "userId": "06679246117258314799"
     },
     "user_tz": 0
    },
    "id": "9injO-R3KgF2",
    "outputId": "33832ba9-a30f-4912-ab80-afac396a4f9e"
   },
   "outputs": [
    {
     "name": "stdout",
     "output_type": "stream",
     "text": [
      "+-----------+------------+--------------------+-----+---------+----------+--------+---------+----------+-------------+------+------+--------------------+------------+-------------+--------------------+----------------+----------------+---------------+-----------------+-----------------+----------------+--------------+---------------+-------------------+------------+-------------------+-----------------+---------------+\n",
      "|CustomerKey|GeographyKey|CustomerAlternateKey|Title|FirstName|MiddleName|LastName|NameStyle| BirthDate|MaritalStatus|Suffix|Gender|        EmailAddress|YearlyIncome|TotalChildren|NumberChildrenAtHome|EnglishEducation|SpanishEducation|FrenchEducation|EnglishOccupation|SpanishOccupation|FrenchOccupation|HouseOwnerFlag|NumberCarsOwned|       AddressLine1|AddressLine2|              Phone|DateFirstPurchase|CommuteDistance|\n",
      "+-----------+------------+--------------------+-----+---------+----------+--------+---------+----------+-------------+------+------+--------------------+------------+-------------+--------------------+----------------+----------------+---------------+-----------------+-----------------+----------------+--------------+---------------+-------------------+------------+-------------------+-----------------+---------------+\n",
      "|      11000|          26|          AW00011000| NULL|      Jon|         V|    Yang|    false|1966-04-08|            M|  NULL|     M|jon24@adventure-w...|       90000|            2|                   0|       Bachelors|    Licenciatura|        Bac + 4|     Professional|      Profesional|           Cadre|             1|              0|    3761 N. 14th St|        NULL|1 (11) 500 555-0162|       2005-07-22|      1-2 Miles|\n",
      "|      11001|          37|          AW00011001| NULL|   Eugene|         L|   Huang|    false|1965-05-14|            S|  NULL|     M|eugene10@adventur...|       60000|            3|                   3|       Bachelors|    Licenciatura|        Bac + 4|     Professional|      Profesional|           Cadre|             0|              1|         2243 W St.|        NULL|1 (11) 500 555-0110|       2005-07-18|      0-1 Miles|\n",
      "|      11002|          31|          AW00011002| NULL|    Ruben|      NULL|  Torres|    false|1965-08-12|            M|  NULL|     M|ruben35@adventure...|       60000|            3|                   3|       Bachelors|    Licenciatura|        Bac + 4|     Professional|      Profesional|           Cadre|             1|              1|   5844 Linden Land|        NULL|1 (11) 500 555-0184|       2005-07-10|      2-5 Miles|\n",
      "|      11003|          11|          AW00011003| NULL|  Christy|      NULL|     Zhu|    false|1968-02-15|            S|  NULL|     F|christy12@adventu...|       70000|            0|                   0|       Bachelors|    Licenciatura|        Bac + 4|     Professional|      Profesional|           Cadre|             0|              1|   1825 Village Pl.|        NULL|1 (11) 500 555-0162|       2005-07-01|     5-10 Miles|\n",
      "|      11004|          19|          AW00011004| NULL|Elizabeth|      NULL| Johnson|    false|1968-08-08|            S|  NULL|     F|elizabeth5@advent...|       80000|            5|                   5|       Bachelors|    Licenciatura|        Bac + 4|     Professional|      Profesional|           Cadre|             1|              4|7553 Harness Circle|        NULL|1 (11) 500 555-0131|       2005-07-26|      1-2 Miles|\n",
      "|      11005|          22|          AW00011005| NULL|    Julio|      NULL|    Ruiz|    false|1965-08-05|            S|  NULL|     M|julio1@adventure-...|       70000|            0|                   0|       Bachelors|    Licenciatura|        Bac + 4|     Professional|      Profesional|           Cadre|             1|              1|7305 Humphrey Drive|        NULL|1 (11) 500 555-0151|       2005-07-02|     5-10 Miles|\n",
      "+-----------+------------+--------------------+-----+---------+----------+--------+---------+----------+-------------+------+------+--------------------+------------+-------------+--------------------+----------------+----------------+---------------+-----------------+-----------------+----------------+--------------+---------------+-------------------+------------+-------------------+-----------------+---------------+\n",
      "only showing top 6 rows\n",
      "\n"
     ]
    }
   ],
   "source": [
    "# Displaying the first 6 rows of the Spark DataFrame df4,\"DimProduct.csv\"\n",
    "df4.show(6)\n"
   ]
  },
  {
   "cell_type": "code",
   "execution_count": null,
   "metadata": {
    "id": "N7nuEL2KKuMr"
   },
   "outputs": [],
   "source": [
    "\n"
   ]
  },
  {
   "cell_type": "code",
   "execution_count": null,
   "metadata": {
    "id": "TOF4zuQcK8Fc"
   },
   "outputs": [],
   "source": [
    "# importing dataset ,reading \"FactSalesTargets.csv\" into a Spark DataFrame df5.\n",
    "df5= spark.read.csv(\"/content/drive/MyDrive/Colab Notebooks/FactSalesTargets.csv\",header=True, inferSchema=True)"
   ]
  },
  {
   "cell_type": "code",
   "execution_count": null,
   "metadata": {
    "id": "I1IKnD4HKwlB"
   },
   "outputs": [],
   "source": []
  },
  {
   "cell_type": "code",
   "execution_count": null,
   "metadata": {
    "colab": {
     "base_uri": "https://localhost:8080/"
    },
    "executionInfo": {
     "elapsed": 619,
     "status": "ok",
     "timestamp": 1705088180866,
     "user": {
      "displayName": "Bukola Babalola",
      "userId": "06679246117258314799"
     },
     "user_tz": 0
    },
    "id": "CdqTxlAaLKjo",
    "outputId": "aa521006-6a59-424c-8263-c2f61a916413"
   },
   "outputs": [
    {
     "name": "stdout",
     "output_type": "stream",
     "text": [
      "+---+-----------------+--------------------+-------------------+---------------------+------------+----------+----------------+\n",
      "|Row|SalesTerritoryKey|SalesTerritoryRegion|SalesTerritoryGroup|SalesTerritoryCountry|CalendarYear|   DateKey|SalesAmountQuote|\n",
      "+---+-----------------+--------------------+-------------------+---------------------+------------+----------+----------------+\n",
      "|  1|                1|           Northwest|      North America|        United States|        2006|01/01/2006|         2693000|\n",
      "|  2|                1|           Northwest|      North America|        United States|        2007|01/01/2007|         4102000|\n",
      "|  3|                1|           Northwest|      North America|        United States|        2008|01/01/2008|         2321000|\n",
      "|  4|                1|           Northwest|      North America|        United States|        2005|01/01/2005|         1213000|\n",
      "|  5|                2|           Northeast|      North America|        United States|        2005|01/01/2005|          923000|\n",
      "+---+-----------------+--------------------+-------------------+---------------------+------------+----------+----------------+\n",
      "only showing top 5 rows\n",
      "\n"
     ]
    }
   ],
   "source": [
    "# Displaying the first 6 rows of the Spark DataFrame df4,\"DimProduct.csv\"\n",
    "df5.show(5)\n"
   ]
  },
  {
   "cell_type": "code",
   "execution_count": null,
   "metadata": {
    "id": "8dLeKGYOLN3b"
   },
   "outputs": [],
   "source": []
  },
  {
   "cell_type": "markdown",
   "metadata": {
    "id": "f6RM5bN1LpAU"
   },
   "source": [
    "## **JOINING THE DATASETS**"
   ]
  },
  {
   "cell_type": "code",
   "execution_count": null,
   "metadata": {
    "id": "L5gpOO8WLtow"
   },
   "outputs": [],
   "source": [
    "# Joining datasets for DimCustomer(df3) and FactInternetSales(df2) based on the common column CustomerKey\n",
    "df_23 = df2.join(df3, on=\"CustomerKey\", how=\"left\")"
   ]
  },
  {
   "cell_type": "code",
   "execution_count": null,
   "metadata": {
    "colab": {
     "base_uri": "https://localhost:8080/"
    },
    "executionInfo": {
     "elapsed": 5212,
     "status": "ok",
     "timestamp": 1705088367743,
     "user": {
      "displayName": "Bukola Babalola",
      "userId": "06679246117258314799"
     },
     "user_tz": 0
    },
    "id": "K_R5mUPWL1rI",
    "outputId": "5e7d2f41-9c2f-4cf9-ca83-0871d7908369"
   },
   "outputs": [
    {
     "name": "stdout",
     "output_type": "stream",
     "text": [
      "+-----------+----------+------------+----------+-----------+------------+-----------+-----------------+----------------+--------------------+--------------+-------------+---------+--------------+--------------------+--------------+-------------------+----------------+-----------+--------+-------+---------------------+----------------+-------------------+-------------------+-------------------+------------+--------------------+-----+---------+----------+--------+---------+----------+-------------+------+------+--------------------+------------+-------------+--------------------+----------------+--------------------+---------------+-----------------+-----------------+----------------+--------------+---------------+--------------------+------------+-------------------+-----------------+---------------+\n",
      "|CustomerKey|ProductKey|OrderDateKey|DueDateKey|ShipDateKey|PromotionKey|CurrencyKey|SalesTerritoryKey|SalesOrderNumber|SalesOrderLineNumber|RevisionNumber|OrderQuantity|UnitPrice|ExtendedAmount|UnitPriceDiscountPct|DiscountAmount|ProductStandardCost|TotalProductCost|SalesAmount|  TaxAmt|Freight|CarrierTrackingNumber|CustomerPONumber|          OrderDate|            DueDate|           ShipDate|GeographyKey|CustomerAlternateKey|Title|FirstName|MiddleName|LastName|NameStyle| BirthDate|MaritalStatus|Suffix|Gender|        EmailAddress|YearlyIncome|TotalChildren|NumberChildrenAtHome|EnglishEducation|    SpanishEducation|FrenchEducation|EnglishOccupation|SpanishOccupation|FrenchOccupation|HouseOwnerFlag|NumberCarsOwned|        AddressLine1|AddressLine2|              Phone|DateFirstPurchase|CommuteDistance|\n",
      "+-----------+----------+------------+----------+-----------+------------+-----------+-----------------+----------------+--------------------+--------------+-------------+---------+--------------+--------------------+--------------+-------------------+----------------+-----------+--------+-------+---------------------+----------------+-------------------+-------------------+-------------------+------------+--------------------+-----+---------+----------+--------+---------+----------+-------------+------+------+--------------------+------------+-------------+--------------------+----------------+--------------------+---------------+-----------------+-----------------+----------------+--------------+---------------+--------------------+------------+-------------------+-----------------+---------------+\n",
      "|      21768|       310|    20101229|  20110110|   20110105|           1|         19|                6|         SO43697|                   1|             1|            1|  3578.27|       3578.27|                   0|             0|          2171.2942|       2171.2942|    3578.27|286.2616|89.4568|                 NULL|            NULL|2010-12-29 00:00:00|2011-01-10 00:00:00|2011-01-05 00:00:00|          53|          AW00021768| NULL|     Cole|         A|  Watson|    false|1946-08-22|            S|  NULL|     M|cole1@adventure-w...|       70000|            5|                   0|       Bachelors|        Licenciatura|        Bac + 4|       Management|          Gesti�n|       Direction|             1|              3|    601 Asilomar Dr.|        NULL|       110-555-0129|       2005-07-01|      10+ Miles|\n",
      "|      28389|       346|    20101229|  20110110|   20110105|           1|         39|                7|         SO43698|                   1|             1|            1|  3399.99|       3399.99|                   0|             0|          1912.1544|       1912.1544|    3399.99|271.9992|84.9998|                 NULL|            NULL|2010-12-29 00:00:00|2011-01-10 00:00:00|2011-01-05 00:00:00|         222|          AW00028389| NULL|  Rachael|         M|Martinez|    false|1964-12-18|            S|  NULL|     F|rachael16@adventu...|       20000|            3|                   3|     High School|Educaci�n secundaria|        Bac + 2|           Manual|           Obrero|         Ouvrier|             0|              0|  14, avenue du Port|        NULL|1 (11) 500 555-0190|       2005-07-01|      0-1 Miles|\n",
      "|      25863|       346|    20101229|  20110110|   20110105|           1|        100|                1|         SO43699|                   1|             1|            1|  3399.99|       3399.99|                   0|             0|          1912.1544|       1912.1544|    3399.99|271.9992|84.9998|                 NULL|            NULL|2010-12-29 00:00:00|2011-01-10 00:00:00|2011-01-05 00:00:00|         543|          AW00025863| NULL|   Sydney|         S|  Wright|    false|1946-12-03|            S|  NULL|     F|sydney61@adventur...|       40000|            5|                   0|     High School|Educaci�n secundaria|        Bac + 2|     Professional|      Profesional|           Cadre|             1|              3| 4193 E. 28th Street|        NULL|       285-555-0113|       2005-07-01|      10+ Miles|\n",
      "|      14501|       336|    20101229|  20110110|   20110105|           1|        100|                4|         SO43700|                   1|             1|            1| 699.0982|      699.0982|                   0|             0|           413.1463|        413.1463|   699.0982| 55.9279|17.4775|                 NULL|            NULL|2010-12-29 00:00:00|2011-01-10 00:00:00|2011-01-05 00:00:00|         300|          AW00014501| NULL|    Ruben|      NULL|  Prasad|    false|1938-05-13|            M|  NULL|     M|ruben10@adventure...|       80000|            4|                   0| Graduate Degree|Estudios de postg...|        Bac + 3|       Management|          Gesti�n|       Direction|             1|              2|   249 Alexander Pl.|        NULL|       175-555-0159|       2005-07-01|      1-2 Miles|\n",
      "|      11003|       346|    20101229|  20110110|   20110105|           1|          6|                9|         SO43701|                   1|             1|            1|  3399.99|       3399.99|                   0|             0|          1912.1544|       1912.1544|    3399.99|271.9992|84.9998|                 NULL|            NULL|2010-12-29 00:00:00|2011-01-10 00:00:00|2011-01-05 00:00:00|          11|          AW00011003| NULL|  Christy|      NULL|     Zhu|    false|1968-02-15|            S|  NULL|     F|christy12@adventu...|       70000|            0|                   0|       Bachelors|        Licenciatura|        Bac + 4|     Professional|      Profesional|           Cadre|             0|              1|    1825 Village Pl.|        NULL|1 (11) 500 555-0162|       2005-07-01|     5-10 Miles|\n",
      "|      27645|       311|    20101230|  20110111|   20110106|           1|        100|                4|         SO43702|                   1|             1|            1|  3578.27|       3578.27|                   0|             0|          2171.2942|       2171.2942|    3578.27|286.2616|89.4568|                 NULL|            NULL|2010-12-30 00:00:00|2011-01-11 00:00:00|2011-01-06 00:00:00|         312|          AW00027645| NULL|    Colin|         G|   Anand|    false|1961-08-18|            M|  NULL|     M|colin45@adventure...|      120000|            1|                   3|     High School|Educaci�n secundaria|        Bac + 2|     Professional|      Profesional|           Cadre|             1|              4|7626 Sinclair Avenue|        NULL|       199-555-0186|       2005-07-02|     5-10 Miles|\n",
      "+-----------+----------+------------+----------+-----------+------------+-----------+-----------------+----------------+--------------------+--------------+-------------+---------+--------------+--------------------+--------------+-------------------+----------------+-----------+--------+-------+---------------------+----------------+-------------------+-------------------+-------------------+------------+--------------------+-----+---------+----------+--------+---------+----------+-------------+------+------+--------------------+------------+-------------+--------------------+----------------+--------------------+---------------+-----------------+-----------------+----------------+--------------+---------------+--------------------+------------+-------------------+-----------------+---------------+\n",
      "only showing top 6 rows\n",
      "\n"
     ]
    }
   ],
   "source": [
    "# Displaying the first 6 rows of the Spark DataFrame df_23,DimCustomer(df3) and FactInternetSales(df2)\n",
    "df_23.show(6)"
   ]
  },
  {
   "cell_type": "code",
   "execution_count": null,
   "metadata": {
    "id": "ivuKwHvfMEmi"
   },
   "outputs": [],
   "source": [
    "# Joining datasets for DimProduct and FactInternetSales based on the common column 'ProductKey'\n",
    "df_24 = df2.join(df4, on=\"ProductKey\", how=\"left\")"
   ]
  },
  {
   "cell_type": "code",
   "execution_count": null,
   "metadata": {
    "colab": {
     "base_uri": "https://localhost:8080/"
    },
    "executionInfo": {
     "elapsed": 2587,
     "status": "ok",
     "timestamp": 1705088606313,
     "user": {
      "displayName": "Bukola Babalola",
      "userId": "06679246117258314799"
     },
     "user_tz": 0
    },
    "id": "iVamiISvMtI0",
    "outputId": "2758de9f-0ac0-4013-b2ae-acb17653d8b0"
   },
   "outputs": [
    {
     "name": "stdout",
     "output_type": "stream",
     "text": [
      "+----------+------------+----------+-----------+-----------+------------+-----------+-----------------+----------------+--------------------+--------------+-------------+---------+--------------+--------------------+--------------+-------------------+----------------+-----------+--------+-------+---------------------+----------------+-------------------+-------------------+-------------------+-------------------+---------------------+---------------------+-------------------+--------------------+--------------------+--------------------+------------+-----------------+------+----------------+------------+---------+----+---------+------+-----------------+-----------+-----------+-----+-----+------------+--------------------+----------------+----------------+------+\n",
      "|ProductKey|OrderDateKey|DueDateKey|ShipDateKey|CustomerKey|PromotionKey|CurrencyKey|SalesTerritoryKey|SalesOrderNumber|SalesOrderLineNumber|RevisionNumber|OrderQuantity|UnitPrice|ExtendedAmount|UnitPriceDiscountPct|DiscountAmount|ProductStandardCost|TotalProductCost|SalesAmount|  TaxAmt|Freight|CarrierTrackingNumber|CustomerPONumber|          OrderDate|            DueDate|           ShipDate|ProductAlternateKey|ProductSubcategoryKey|WeightUnitMeasureCode|SizeUnitMeasureCode|  EnglishProductName|  SpanishProductName|   FrenchProductName|StandardCost|FinishedGoodsFlag| Color|SafetyStockLevel|ReorderPoint|ListPrice|Size|SizeRange|Weight|DaysToManufacture|ProductLine|DealerPrice|Class|Style|   ModelName|  EnglishDescription|       StartDate|         EndDate|Status|\n",
      "+----------+------------+----------+-----------+-----------+------------+-----------+-----------------+----------------+--------------------+--------------+-------------+---------+--------------+--------------------+--------------+-------------------+----------------+-----------+--------+-------+---------------------+----------------+-------------------+-------------------+-------------------+-------------------+---------------------+---------------------+-------------------+--------------------+--------------------+--------------------+------------+-----------------+------+----------------+------------+---------+----+---------+------+-----------------+-----------+-----------+-----+-----+------------+--------------------+----------------+----------------+------+\n",
      "|       310|    20101229|  20110110|   20110105|      21768|           1|         19|                6|         SO43697|                   1|             1|            1|  3578.27|       3578.27|                   0|             0|          2171.2942|       2171.2942|    3578.27|286.2616|89.4568|                 NULL|            NULL|2010-12-29 00:00:00|2011-01-10 00:00:00|2011-01-05 00:00:00|         BK-R93R-62|                    2|                  LB |                CM |    Road-150 Red, 62|Carretera: 150, r...|V�lo de route 150...|   2171.2942|             true|   Red|             100|          75|  3578.27|  62| 60-62 CM|  15.0|                4|         R |   2146.962|   H |   U |    Road-150|This bike is ridd...|01/07/2005 00:00|30/06/2002 00:00|  NULL|\n",
      "|       346|    20101229|  20110110|   20110105|      28389|           1|         39|                7|         SO43698|                   1|             1|            1|  3399.99|       3399.99|                   0|             0|          1912.1544|       1912.1544|    3399.99|271.9992|84.9998|                 NULL|            NULL|2010-12-29 00:00:00|2011-01-10 00:00:00|2011-01-05 00:00:00|         BK-M82S-44|                    1|                  LB |                CM |Mountain-100 Silv...|Monta�a: 100, pla...|  VTT 100 argent, 44|   1912.1544|             true|Silver|             100|          75|  3399.99|  44| 42-46 CM| 21.13|                4|         M |   2039.994|   H |   U |Mountain-100|Top-of-the-line c...|01/07/2005 00:00|30/06/2002 00:00|  NULL|\n",
      "|       346|    20101229|  20110110|   20110105|      25863|           1|        100|                1|         SO43699|                   1|             1|            1|  3399.99|       3399.99|                   0|             0|          1912.1544|       1912.1544|    3399.99|271.9992|84.9998|                 NULL|            NULL|2010-12-29 00:00:00|2011-01-10 00:00:00|2011-01-05 00:00:00|         BK-M82S-44|                    1|                  LB |                CM |Mountain-100 Silv...|Monta�a: 100, pla...|  VTT 100 argent, 44|   1912.1544|             true|Silver|             100|          75|  3399.99|  44| 42-46 CM| 21.13|                4|         M |   2039.994|   H |   U |Mountain-100|Top-of-the-line c...|01/07/2005 00:00|30/06/2002 00:00|  NULL|\n",
      "|       336|    20101229|  20110110|   20110105|      14501|           1|        100|                4|         SO43700|                   1|             1|            1| 699.0982|      699.0982|                   0|             0|           413.1463|        413.1463|   699.0982| 55.9279|17.4775|                 NULL|            NULL|2010-12-29 00:00:00|2011-01-10 00:00:00|2011-01-05 00:00:00|         BK-R50B-62|                    2|                  LB |                CM |  Road-650 Black, 62|Carretera: 650, n...|V�lo de route 650...|    413.1463|             true| Black|             100|          75| 699.0982|  62| 60-62 CM|  20.0|                4|         R |   419.4589|   L |   U |    Road-650|Value-priced bike...|01/07/2005 00:00|30/06/2002 00:00|  NULL|\n",
      "|       346|    20101229|  20110110|   20110105|      11003|           1|          6|                9|         SO43701|                   1|             1|            1|  3399.99|       3399.99|                   0|             0|          1912.1544|       1912.1544|    3399.99|271.9992|84.9998|                 NULL|            NULL|2010-12-29 00:00:00|2011-01-10 00:00:00|2011-01-05 00:00:00|         BK-M82S-44|                    1|                  LB |                CM |Mountain-100 Silv...|Monta�a: 100, pla...|  VTT 100 argent, 44|   1912.1544|             true|Silver|             100|          75|  3399.99|  44| 42-46 CM| 21.13|                4|         M |   2039.994|   H |   U |Mountain-100|Top-of-the-line c...|01/07/2005 00:00|30/06/2002 00:00|  NULL|\n",
      "|       311|    20101230|  20110111|   20110106|      27645|           1|        100|                4|         SO43702|                   1|             1|            1|  3578.27|       3578.27|                   0|             0|          2171.2942|       2171.2942|    3578.27|286.2616|89.4568|                 NULL|            NULL|2010-12-30 00:00:00|2011-01-11 00:00:00|2011-01-06 00:00:00|         BK-R93R-44|                    2|                  LB |                CM |    Road-150 Red, 44|Carretera: 150, r...|V�lo de route 150...|   2171.2942|             true|   Red|             100|          75|  3578.27|  44| 42-46 CM| 13.77|                4|         R |   2146.962|   H |   U |    Road-150|This bike is ridd...|01/07/2005 00:00|30/06/2002 00:00|  NULL|\n",
      "+----------+------------+----------+-----------+-----------+------------+-----------+-----------------+----------------+--------------------+--------------+-------------+---------+--------------+--------------------+--------------+-------------------+----------------+-----------+--------+-------+---------------------+----------------+-------------------+-------------------+-------------------+-------------------+---------------------+---------------------+-------------------+--------------------+--------------------+--------------------+------------+-----------------+------+----------------+------------+---------+----+---------+------+-----------------+-----------+-----------+-----+-----+------------+--------------------+----------------+----------------+------+\n",
      "only showing top 6 rows\n",
      "\n"
     ]
    }
   ],
   "source": [
    "# Displaying the first 6 rows of the Spark DataFrame df_24,DimProduct df4 and FactInternetSales df\n",
    "df_24.show(6)"
   ]
  },
  {
   "cell_type": "code",
   "execution_count": null,
   "metadata": {
    "id": "3dxOccu_M1QH"
   },
   "outputs": [],
   "source": [
    "# Joining datasets for FactInternetSales(df2) and FactSalesTargets(df5) based on the common column SalesTerritoryKey\n",
    "df_25 = df2.join(df5, on=\"SalesTerritoryKey\", how=\"left\")"
   ]
  },
  {
   "cell_type": "code",
   "execution_count": null,
   "metadata": {
    "colab": {
     "base_uri": "https://localhost:8080/"
    },
    "executionInfo": {
     "elapsed": 1081,
     "status": "ok",
     "timestamp": 1705088721282,
     "user": {
      "displayName": "Bukola Babalola",
      "userId": "06679246117258314799"
     },
     "user_tz": 0
    },
    "id": "vHh9sREBNNUk",
    "outputId": "0a0fb9e8-897f-4783-9707-91e90df9c122"
   },
   "outputs": [
    {
     "name": "stdout",
     "output_type": "stream",
     "text": [
      "+-----------------+----------+------------+----------+-----------+-----------+------------+-----------+----------------+--------------------+--------------+-------------+---------+--------------+--------------------+--------------+-------------------+----------------+-----------+--------+-------+---------------------+----------------+-------------------+-------------------+-------------------+---+--------------------+-------------------+---------------------+------------+----------+----------------+\n",
      "|SalesTerritoryKey|ProductKey|OrderDateKey|DueDateKey|ShipDateKey|CustomerKey|PromotionKey|CurrencyKey|SalesOrderNumber|SalesOrderLineNumber|RevisionNumber|OrderQuantity|UnitPrice|ExtendedAmount|UnitPriceDiscountPct|DiscountAmount|ProductStandardCost|TotalProductCost|SalesAmount|  TaxAmt|Freight|CarrierTrackingNumber|CustomerPONumber|          OrderDate|            DueDate|           ShipDate|Row|SalesTerritoryRegion|SalesTerritoryGroup|SalesTerritoryCountry|CalendarYear|   DateKey|SalesAmountQuote|\n",
      "+-----------------+----------+------------+----------+-----------+-----------+------------+-----------+----------------+--------------------+--------------+-------------+---------+--------------+--------------------+--------------+-------------------+----------------+-----------+--------+-------+---------------------+----------------+-------------------+-------------------+-------------------+---+--------------------+-------------------+---------------------+------------+----------+----------------+\n",
      "|                6|       310|    20101229|  20110110|   20110105|      21768|           1|         19|         SO43697|                   1|             1|            1|  3578.27|       3578.27|                   0|             0|          2171.2942|       2171.2942|    3578.27|286.2616|89.4568|                 NULL|            NULL|2010-12-29 00:00:00|2011-01-10 00:00:00|2011-01-05 00:00:00| 24|              Canada|      North America|               Canada|        2006|01/01/2006|         3592000|\n",
      "|                6|       310|    20101229|  20110110|   20110105|      21768|           1|         19|         SO43697|                   1|             1|            1|  3578.27|       3578.27|                   0|             0|          2171.2942|       2171.2942|    3578.27|286.2616|89.4568|                 NULL|            NULL|2010-12-29 00:00:00|2011-01-10 00:00:00|2011-01-05 00:00:00| 23|              Canada|      North America|               Canada|        2007|01/01/2007|         3910000|\n",
      "|                6|       310|    20101229|  20110110|   20110105|      21768|           1|         19|         SO43697|                   1|             1|            1|  3578.27|       3578.27|                   0|             0|          2171.2942|       2171.2942|    3578.27|286.2616|89.4568|                 NULL|            NULL|2010-12-29 00:00:00|2011-01-10 00:00:00|2011-01-05 00:00:00| 22|              Canada|      North America|               Canada|        2008|01/01/2008|         2069000|\n",
      "|                6|       310|    20101229|  20110110|   20110105|      21768|           1|         19|         SO43697|                   1|             1|            1|  3578.27|       3578.27|                   0|             0|          2171.2942|       2171.2942|    3578.27|286.2616|89.4568|                 NULL|            NULL|2010-12-29 00:00:00|2011-01-10 00:00:00|2011-01-05 00:00:00| 21|              Canada|      North America|               Canada|        2005|01/01/2005|         1892000|\n",
      "|                7|       346|    20101229|  20110110|   20110105|      28389|           1|         39|         SO43698|                   1|             1|            1|  3399.99|       3399.99|                   0|             0|          1912.1544|       1912.1544|    3399.99|271.9992|84.9998|                 NULL|            NULL|2010-12-29 00:00:00|2011-01-10 00:00:00|2011-01-05 00:00:00| 27|              France|             Europe|               France|        2008|01/01/2008|         1615000|\n",
      "|                7|       346|    20101229|  20110110|   20110105|      28389|           1|         39|         SO43698|                   1|             1|            1|  3399.99|       3399.99|                   0|             0|          1912.1544|       1912.1544|    3399.99|271.9992|84.9998|                 NULL|            NULL|2010-12-29 00:00:00|2011-01-10 00:00:00|2011-01-05 00:00:00| 26|              France|             Europe|               France|        2007|01/01/2007|         2940000|\n",
      "+-----------------+----------+------------+----------+-----------+-----------+------------+-----------+----------------+--------------------+--------------+-------------+---------+--------------+--------------------+--------------+-------------------+----------------+-----------+--------+-------+---------------------+----------------+-------------------+-------------------+-------------------+---+--------------------+-------------------+---------------------+------------+----------+----------------+\n",
      "only showing top 6 rows\n",
      "\n"
     ]
    }
   ],
   "source": [
    "# Displaying the first 6 rows of the Spark DataFrame FactInternetSales(df2) and FactSalesTargets(df5)\n",
    "df_25.show(6)"
   ]
  },
  {
   "cell_type": "code",
   "execution_count": null,
   "metadata": {
    "colab": {
     "base_uri": "https://localhost:8080/"
    },
    "executionInfo": {
     "elapsed": 245,
     "status": "ok",
     "timestamp": 1705088756306,
     "user": {
      "displayName": "Bukola Babalola",
      "userId": "06679246117258314799"
     },
     "user_tz": 0
    },
    "id": "5bpVQfO1NRrz",
    "outputId": "790e9c82-ad0e-47ad-f305-107b12668f9d"
   },
   "outputs": [
    {
     "data": {
      "text/plain": [
       "33"
      ]
     },
     "execution_count": 40,
     "metadata": {},
     "output_type": "execute_result"
    }
   ],
   "source": [
    "# Counting the number of columns in the PySpark DataFrame df_25\n",
    "len(df_25.columns)"
   ]
  },
  {
   "cell_type": "code",
   "execution_count": null,
   "metadata": {
    "colab": {
     "base_uri": "https://localhost:8080/"
    },
    "executionInfo": {
     "elapsed": 4065,
     "status": "ok",
     "timestamp": 1705088781076,
     "user": {
      "displayName": "Bukola Babalola",
      "userId": "06679246117258314799"
     },
     "user_tz": 0
    },
    "id": "Inpm1WeRNadL",
    "outputId": "b3326186-287f-42b3-f55e-730ad420eefa"
   },
   "outputs": [
    {
     "data": {
      "text/plain": [
       "191188"
      ]
     },
     "execution_count": 41,
     "metadata": {},
     "output_type": "execute_result"
    }
   ],
   "source": [
    "# Counting the number of rows in the Spark DataFrame df_24\n",
    "df_25.count()"
   ]
  },
  {
   "cell_type": "code",
   "execution_count": null,
   "metadata": {
    "id": "3Y7oRtciNfkK"
   },
   "outputs": [],
   "source": [
    "# Joining datasets for DimCustomer,df3 and df_24(DimProduct,df4 and FactInternetSales,df2) based on 'CustomerKey'\n",
    "df_234 = df_24.join(df3, on=\"CustomerKey\", how=\"left\")"
   ]
  },
  {
   "cell_type": "code",
   "execution_count": null,
   "metadata": {
    "colab": {
     "base_uri": "https://localhost:8080/"
    },
    "executionInfo": {
     "elapsed": 2704,
     "status": "ok",
     "timestamp": 1705088827481,
     "user": {
      "displayName": "Bukola Babalola",
      "userId": "06679246117258314799"
     },
     "user_tz": 0
    },
    "id": "WM--iqOwNm-T",
    "outputId": "d0c9e6ac-ed6a-4494-f8f3-16124b439780"
   },
   "outputs": [
    {
     "name": "stdout",
     "output_type": "stream",
     "text": [
      "+-----------+----------+------------+----------+-----------+------------+-----------+-----------------+----------------+--------------------+--------------+-------------+---------+--------------+--------------------+--------------+-------------------+----------------+-----------+--------+-------+---------------------+----------------+-------------------+-------------------+-------------------+-------------------+---------------------+---------------------+-------------------+--------------------+--------------------+--------------------+------------+-----------------+------+----------------+------------+---------+----+---------+------+-----------------+-----------+-----------+-----+-----+------------+--------------------+----------------+----------------+------+------------+--------------------+-----+---------+----------+--------+---------+----------+-------------+------+------+--------------------+------------+-------------+--------------------+----------------+--------------------+---------------+-----------------+-----------------+----------------+--------------+---------------+--------------------+------------+-------------------+-----------------+---------------+\n",
      "|CustomerKey|ProductKey|OrderDateKey|DueDateKey|ShipDateKey|PromotionKey|CurrencyKey|SalesTerritoryKey|SalesOrderNumber|SalesOrderLineNumber|RevisionNumber|OrderQuantity|UnitPrice|ExtendedAmount|UnitPriceDiscountPct|DiscountAmount|ProductStandardCost|TotalProductCost|SalesAmount|  TaxAmt|Freight|CarrierTrackingNumber|CustomerPONumber|          OrderDate|            DueDate|           ShipDate|ProductAlternateKey|ProductSubcategoryKey|WeightUnitMeasureCode|SizeUnitMeasureCode|  EnglishProductName|  SpanishProductName|   FrenchProductName|StandardCost|FinishedGoodsFlag| Color|SafetyStockLevel|ReorderPoint|ListPrice|Size|SizeRange|Weight|DaysToManufacture|ProductLine|DealerPrice|Class|Style|   ModelName|  EnglishDescription|       StartDate|         EndDate|Status|GeographyKey|CustomerAlternateKey|Title|FirstName|MiddleName|LastName|NameStyle| BirthDate|MaritalStatus|Suffix|Gender|        EmailAddress|YearlyIncome|TotalChildren|NumberChildrenAtHome|EnglishEducation|    SpanishEducation|FrenchEducation|EnglishOccupation|SpanishOccupation|FrenchOccupation|HouseOwnerFlag|NumberCarsOwned|        AddressLine1|AddressLine2|              Phone|DateFirstPurchase|CommuteDistance|\n",
      "+-----------+----------+------------+----------+-----------+------------+-----------+-----------------+----------------+--------------------+--------------+-------------+---------+--------------+--------------------+--------------+-------------------+----------------+-----------+--------+-------+---------------------+----------------+-------------------+-------------------+-------------------+-------------------+---------------------+---------------------+-------------------+--------------------+--------------------+--------------------+------------+-----------------+------+----------------+------------+---------+----+---------+------+-----------------+-----------+-----------+-----+-----+------------+--------------------+----------------+----------------+------+------------+--------------------+-----+---------+----------+--------+---------+----------+-------------+------+------+--------------------+------------+-------------+--------------------+----------------+--------------------+---------------+-----------------+-----------------+----------------+--------------+---------------+--------------------+------------+-------------------+-----------------+---------------+\n",
      "|      21768|       310|    20101229|  20110110|   20110105|           1|         19|                6|         SO43697|                   1|             1|            1|  3578.27|       3578.27|                   0|             0|          2171.2942|       2171.2942|    3578.27|286.2616|89.4568|                 NULL|            NULL|2010-12-29 00:00:00|2011-01-10 00:00:00|2011-01-05 00:00:00|         BK-R93R-62|                    2|                  LB |                CM |    Road-150 Red, 62|Carretera: 150, r...|V�lo de route 150...|   2171.2942|             true|   Red|             100|          75|  3578.27|  62| 60-62 CM|  15.0|                4|         R |   2146.962|   H |   U |    Road-150|This bike is ridd...|01/07/2005 00:00|30/06/2002 00:00|  NULL|          53|          AW00021768| NULL|     Cole|         A|  Watson|    false|1946-08-22|            S|  NULL|     M|cole1@adventure-w...|       70000|            5|                   0|       Bachelors|        Licenciatura|        Bac + 4|       Management|          Gesti�n|       Direction|             1|              3|    601 Asilomar Dr.|        NULL|       110-555-0129|       2005-07-01|      10+ Miles|\n",
      "|      28389|       346|    20101229|  20110110|   20110105|           1|         39|                7|         SO43698|                   1|             1|            1|  3399.99|       3399.99|                   0|             0|          1912.1544|       1912.1544|    3399.99|271.9992|84.9998|                 NULL|            NULL|2010-12-29 00:00:00|2011-01-10 00:00:00|2011-01-05 00:00:00|         BK-M82S-44|                    1|                  LB |                CM |Mountain-100 Silv...|Monta�a: 100, pla...|  VTT 100 argent, 44|   1912.1544|             true|Silver|             100|          75|  3399.99|  44| 42-46 CM| 21.13|                4|         M |   2039.994|   H |   U |Mountain-100|Top-of-the-line c...|01/07/2005 00:00|30/06/2002 00:00|  NULL|         222|          AW00028389| NULL|  Rachael|         M|Martinez|    false|1964-12-18|            S|  NULL|     F|rachael16@adventu...|       20000|            3|                   3|     High School|Educaci�n secundaria|        Bac + 2|           Manual|           Obrero|         Ouvrier|             0|              0|  14, avenue du Port|        NULL|1 (11) 500 555-0190|       2005-07-01|      0-1 Miles|\n",
      "|      25863|       346|    20101229|  20110110|   20110105|           1|        100|                1|         SO43699|                   1|             1|            1|  3399.99|       3399.99|                   0|             0|          1912.1544|       1912.1544|    3399.99|271.9992|84.9998|                 NULL|            NULL|2010-12-29 00:00:00|2011-01-10 00:00:00|2011-01-05 00:00:00|         BK-M82S-44|                    1|                  LB |                CM |Mountain-100 Silv...|Monta�a: 100, pla...|  VTT 100 argent, 44|   1912.1544|             true|Silver|             100|          75|  3399.99|  44| 42-46 CM| 21.13|                4|         M |   2039.994|   H |   U |Mountain-100|Top-of-the-line c...|01/07/2005 00:00|30/06/2002 00:00|  NULL|         543|          AW00025863| NULL|   Sydney|         S|  Wright|    false|1946-12-03|            S|  NULL|     F|sydney61@adventur...|       40000|            5|                   0|     High School|Educaci�n secundaria|        Bac + 2|     Professional|      Profesional|           Cadre|             1|              3| 4193 E. 28th Street|        NULL|       285-555-0113|       2005-07-01|      10+ Miles|\n",
      "|      14501|       336|    20101229|  20110110|   20110105|           1|        100|                4|         SO43700|                   1|             1|            1| 699.0982|      699.0982|                   0|             0|           413.1463|        413.1463|   699.0982| 55.9279|17.4775|                 NULL|            NULL|2010-12-29 00:00:00|2011-01-10 00:00:00|2011-01-05 00:00:00|         BK-R50B-62|                    2|                  LB |                CM |  Road-650 Black, 62|Carretera: 650, n...|V�lo de route 650...|    413.1463|             true| Black|             100|          75| 699.0982|  62| 60-62 CM|  20.0|                4|         R |   419.4589|   L |   U |    Road-650|Value-priced bike...|01/07/2005 00:00|30/06/2002 00:00|  NULL|         300|          AW00014501| NULL|    Ruben|      NULL|  Prasad|    false|1938-05-13|            M|  NULL|     M|ruben10@adventure...|       80000|            4|                   0| Graduate Degree|Estudios de postg...|        Bac + 3|       Management|          Gesti�n|       Direction|             1|              2|   249 Alexander Pl.|        NULL|       175-555-0159|       2005-07-01|      1-2 Miles|\n",
      "|      11003|       346|    20101229|  20110110|   20110105|           1|          6|                9|         SO43701|                   1|             1|            1|  3399.99|       3399.99|                   0|             0|          1912.1544|       1912.1544|    3399.99|271.9992|84.9998|                 NULL|            NULL|2010-12-29 00:00:00|2011-01-10 00:00:00|2011-01-05 00:00:00|         BK-M82S-44|                    1|                  LB |                CM |Mountain-100 Silv...|Monta�a: 100, pla...|  VTT 100 argent, 44|   1912.1544|             true|Silver|             100|          75|  3399.99|  44| 42-46 CM| 21.13|                4|         M |   2039.994|   H |   U |Mountain-100|Top-of-the-line c...|01/07/2005 00:00|30/06/2002 00:00|  NULL|          11|          AW00011003| NULL|  Christy|      NULL|     Zhu|    false|1968-02-15|            S|  NULL|     F|christy12@adventu...|       70000|            0|                   0|       Bachelors|        Licenciatura|        Bac + 4|     Professional|      Profesional|           Cadre|             0|              1|    1825 Village Pl.|        NULL|1 (11) 500 555-0162|       2005-07-01|     5-10 Miles|\n",
      "|      27645|       311|    20101230|  20110111|   20110106|           1|        100|                4|         SO43702|                   1|             1|            1|  3578.27|       3578.27|                   0|             0|          2171.2942|       2171.2942|    3578.27|286.2616|89.4568|                 NULL|            NULL|2010-12-30 00:00:00|2011-01-11 00:00:00|2011-01-06 00:00:00|         BK-R93R-44|                    2|                  LB |                CM |    Road-150 Red, 44|Carretera: 150, r...|V�lo de route 150...|   2171.2942|             true|   Red|             100|          75|  3578.27|  44| 42-46 CM| 13.77|                4|         R |   2146.962|   H |   U |    Road-150|This bike is ridd...|01/07/2005 00:00|30/06/2002 00:00|  NULL|         312|          AW00027645| NULL|    Colin|         G|   Anand|    false|1961-08-18|            M|  NULL|     M|colin45@adventure...|      120000|            1|                   3|     High School|Educaci�n secundaria|        Bac + 2|     Professional|      Profesional|           Cadre|             1|              4|7626 Sinclair Avenue|        NULL|       199-555-0186|       2005-07-02|     5-10 Miles|\n",
      "+-----------+----------+------------+----------+-----------+------------+-----------+-----------------+----------------+--------------------+--------------+-------------+---------+--------------+--------------------+--------------+-------------------+----------------+-----------+--------+-------+---------------------+----------------+-------------------+-------------------+-------------------+-------------------+---------------------+---------------------+-------------------+--------------------+--------------------+--------------------+------------+-----------------+------+----------------+------------+---------+----+---------+------+-----------------+-----------+-----------+-----+-----+------------+--------------------+----------------+----------------+------+------------+--------------------+-----+---------+----------+--------+---------+----------+-------------+------+------+--------------------+------------+-------------+--------------------+----------------+--------------------+---------------+-----------------+-----------------+----------------+--------------+---------------+--------------------+------------+-------------------+-----------------+---------------+\n",
      "only showing top 6 rows\n",
      "\n"
     ]
    }
   ],
   "source": [
    "# Displaying the first 6 rows of the Spark DataFrame df_234,FactInternetSales(df2),DimCustomer(df3) and DimProduct(df4)\n",
    "df_234.show(6)"
   ]
  },
  {
   "cell_type": "code",
   "execution_count": null,
   "metadata": {
    "colab": {
     "base_uri": "https://localhost:8080/"
    },
    "executionInfo": {
     "elapsed": 238,
     "status": "ok",
     "timestamp": 1705088854403,
     "user": {
      "displayName": "Bukola Babalola",
      "userId": "06679246117258314799"
     },
     "user_tz": 0
    },
    "id": "oZkK14n_NrN6",
    "outputId": "fc98b00d-c773-41a3-872b-cea979e66f52"
   },
   "outputs": [
    {
     "data": {
      "text/plain": [
       "80"
      ]
     },
     "execution_count": 44,
     "metadata": {},
     "output_type": "execute_result"
    }
   ],
   "source": [
    "# Counting the number of columns in the PySpark  DataFrame df_234,FactInternetSales(df2),DimCustomer(df3) and DimProduct(df4)\n",
    "len(df_234.columns)"
   ]
  },
  {
   "cell_type": "code",
   "execution_count": null,
   "metadata": {
    "colab": {
     "base_uri": "https://localhost:8080/"
    },
    "executionInfo": {
     "elapsed": 4248,
     "status": "ok",
     "timestamp": 1705088878511,
     "user": {
      "displayName": "Bukola Babalola",
      "userId": "06679246117258314799"
     },
     "user_tz": 0
    },
    "id": "RoxgQan7NyZo",
    "outputId": "42d4b9ba-6dc6-46e9-ea1c-cc17a553181c"
   },
   "outputs": [
    {
     "data": {
      "text/plain": [
       "60398"
      ]
     },
     "execution_count": 45,
     "metadata": {},
     "output_type": "execute_result"
    }
   ],
   "source": [
    "# Counting the number of rows in the PySpark  DataFrame df_234,FactInternetSales(df2),DimCustomer(df3) and DimProduct(df4)\n",
    "df_234.count()"
   ]
  },
  {
   "cell_type": "markdown",
   "metadata": {
    "id": "8sJb3pWlOGfG"
   },
   "source": [
    "## **EXPLORING THE SCHEMA FOR THE DATASETS**"
   ]
  },
  {
   "cell_type": "code",
   "execution_count": null,
   "metadata": {
    "colab": {
     "base_uri": "https://localhost:8080/"
    },
    "executionInfo": {
     "elapsed": 218,
     "status": "ok",
     "timestamp": 1705089100732,
     "user": {
      "displayName": "Bukola Babalola",
      "userId": "06679246117258314799"
     },
     "user_tz": 0
    },
    "id": "7eAKkzbvOW2d",
    "outputId": "bac194c0-34da-44f8-ba1a-33a3a4a9c31d"
   },
   "outputs": [
    {
     "name": "stdout",
     "output_type": "stream",
     "text": [
      "root\n",
      " |-- ProductKey: integer (nullable = true)\n",
      " |-- OrderDateKey: integer (nullable = true)\n",
      " |-- DueDateKey: integer (nullable = true)\n",
      " |-- ShipDateKey: integer (nullable = true)\n",
      " |-- CustomerKey: integer (nullable = true)\n",
      " |-- PromotionKey: integer (nullable = true)\n",
      " |-- CurrencyKey: integer (nullable = true)\n",
      " |-- SalesTerritoryKey: integer (nullable = true)\n",
      " |-- SalesOrderNumber: string (nullable = true)\n",
      " |-- SalesOrderLineNumber: integer (nullable = true)\n",
      " |-- RevisionNumber: integer (nullable = true)\n",
      " |-- OrderQuantity: integer (nullable = true)\n",
      " |-- UnitPrice: double (nullable = true)\n",
      " |-- ExtendedAmount: double (nullable = true)\n",
      " |-- UnitPriceDiscountPct: integer (nullable = true)\n",
      " |-- DiscountAmount: integer (nullable = true)\n",
      " |-- ProductStandardCost: double (nullable = true)\n",
      " |-- TotalProductCost: double (nullable = true)\n",
      " |-- SalesAmount: double (nullable = true)\n",
      " |-- TaxAmt: double (nullable = true)\n",
      " |-- Freight: double (nullable = true)\n",
      " |-- CarrierTrackingNumber: string (nullable = true)\n",
      " |-- CustomerPONumber: string (nullable = true)\n",
      " |-- OrderDate: timestamp (nullable = true)\n",
      " |-- DueDate: timestamp (nullable = true)\n",
      " |-- ShipDate: timestamp (nullable = true)\n",
      "\n"
     ]
    }
   ],
   "source": [
    "# Displaying the schema of the PySpark DataFrame df1\n",
    "df1.printSchema()\n",
    "\n",
    "\n"
   ]
  },
  {
   "cell_type": "markdown",
   "metadata": {
    "id": "yndpYzikOEWg"
   },
   "source": []
  },
  {
   "cell_type": "code",
   "execution_count": null,
   "metadata": {
    "colab": {
     "base_uri": "https://localhost:8080/"
    },
    "executionInfo": {
     "elapsed": 248,
     "status": "ok",
     "timestamp": 1705089123332,
     "user": {
      "displayName": "Bukola Babalola",
      "userId": "06679246117258314799"
     },
     "user_tz": 0
    },
    "id": "kdFZATSCOhgc",
    "outputId": "6a753a22-5a98-4858-9845-6bc5db716717"
   },
   "outputs": [
    {
     "name": "stdout",
     "output_type": "stream",
     "text": [
      "root\n",
      " |-- ProductKey: integer (nullable = true)\n",
      " |-- OrderDateKey: integer (nullable = true)\n",
      " |-- DueDateKey: integer (nullable = true)\n",
      " |-- ShipDateKey: integer (nullable = true)\n",
      " |-- CustomerKey: integer (nullable = true)\n",
      " |-- PromotionKey: integer (nullable = true)\n",
      " |-- CurrencyKey: integer (nullable = true)\n",
      " |-- SalesTerritoryKey: integer (nullable = true)\n",
      " |-- SalesOrderNumber: string (nullable = true)\n",
      " |-- SalesOrderLineNumber: integer (nullable = true)\n",
      " |-- RevisionNumber: integer (nullable = true)\n",
      " |-- OrderQuantity: integer (nullable = true)\n",
      " |-- UnitPrice: double (nullable = true)\n",
      " |-- ExtendedAmount: double (nullable = true)\n",
      " |-- UnitPriceDiscountPct: integer (nullable = true)\n",
      " |-- DiscountAmount: integer (nullable = true)\n",
      " |-- ProductStandardCost: double (nullable = true)\n",
      " |-- TotalProductCost: double (nullable = true)\n",
      " |-- SalesAmount: double (nullable = true)\n",
      " |-- TaxAmt: double (nullable = true)\n",
      " |-- Freight: double (nullable = true)\n",
      " |-- CarrierTrackingNumber: string (nullable = true)\n",
      " |-- CustomerPONumber: string (nullable = true)\n",
      " |-- OrderDate: timestamp (nullable = true)\n",
      " |-- DueDate: timestamp (nullable = true)\n",
      " |-- ShipDate: timestamp (nullable = true)\n",
      "\n"
     ]
    }
   ],
   "source": [
    "# Displaying the schema of the PySpark DataFrame df2\n",
    "df2.printSchema()"
   ]
  },
  {
   "cell_type": "code",
   "execution_count": null,
   "metadata": {
    "colab": {
     "base_uri": "https://localhost:8080/"
    },
    "executionInfo": {
     "elapsed": 261,
     "status": "ok",
     "timestamp": 1705089150388,
     "user": {
      "displayName": "Bukola Babalola",
      "userId": "06679246117258314799"
     },
     "user_tz": 0
    },
    "id": "GVe-7VLUO0DT",
    "outputId": "5dcb82fd-5e50-4c1a-9f82-b70986e3934c"
   },
   "outputs": [
    {
     "name": "stdout",
     "output_type": "stream",
     "text": [
      "root\n",
      " |-- CustomerKey: integer (nullable = true)\n",
      " |-- GeographyKey: integer (nullable = true)\n",
      " |-- CustomerAlternateKey: string (nullable = true)\n",
      " |-- Title: string (nullable = true)\n",
      " |-- FirstName: string (nullable = true)\n",
      " |-- MiddleName: string (nullable = true)\n",
      " |-- LastName: string (nullable = true)\n",
      " |-- NameStyle: boolean (nullable = true)\n",
      " |-- BirthDate: date (nullable = true)\n",
      " |-- MaritalStatus: string (nullable = true)\n",
      " |-- Suffix: string (nullable = true)\n",
      " |-- Gender: string (nullable = true)\n",
      " |-- EmailAddress: string (nullable = true)\n",
      " |-- YearlyIncome: integer (nullable = true)\n",
      " |-- TotalChildren: integer (nullable = true)\n",
      " |-- NumberChildrenAtHome: integer (nullable = true)\n",
      " |-- EnglishEducation: string (nullable = true)\n",
      " |-- SpanishEducation: string (nullable = true)\n",
      " |-- FrenchEducation: string (nullable = true)\n",
      " |-- EnglishOccupation: string (nullable = true)\n",
      " |-- SpanishOccupation: string (nullable = true)\n",
      " |-- FrenchOccupation: string (nullable = true)\n",
      " |-- HouseOwnerFlag: integer (nullable = true)\n",
      " |-- NumberCarsOwned: integer (nullable = true)\n",
      " |-- AddressLine1: string (nullable = true)\n",
      " |-- AddressLine2: string (nullable = true)\n",
      " |-- Phone: string (nullable = true)\n",
      " |-- DateFirstPurchase: date (nullable = true)\n",
      " |-- CommuteDistance: string (nullable = true)\n",
      "\n"
     ]
    }
   ],
   "source": [
    "# Displaying the schema of the PySpark DataFrame df3\n",
    "df3.printSchema()"
   ]
  },
  {
   "cell_type": "code",
   "execution_count": null,
   "metadata": {
    "colab": {
     "base_uri": "https://localhost:8080/"
    },
    "executionInfo": {
     "elapsed": 274,
     "status": "ok",
     "timestamp": 1705089178906,
     "user": {
      "displayName": "Bukola Babalola",
      "userId": "06679246117258314799"
     },
     "user_tz": 0
    },
    "id": "6jbSy4UMO6qL",
    "outputId": "39bf2fca-081c-4873-cd4c-3f155d24312c"
   },
   "outputs": [
    {
     "name": "stdout",
     "output_type": "stream",
     "text": [
      "root\n",
      " |-- ProductKey: integer (nullable = true)\n",
      " |-- ProductAlternateKey: string (nullable = true)\n",
      " |-- ProductSubcategoryKey: integer (nullable = true)\n",
      " |-- WeightUnitMeasureCode: string (nullable = true)\n",
      " |-- SizeUnitMeasureCode: string (nullable = true)\n",
      " |-- EnglishProductName: string (nullable = true)\n",
      " |-- SpanishProductName: string (nullable = true)\n",
      " |-- FrenchProductName: string (nullable = true)\n",
      " |-- StandardCost: double (nullable = true)\n",
      " |-- FinishedGoodsFlag: boolean (nullable = true)\n",
      " |-- Color: string (nullable = true)\n",
      " |-- SafetyStockLevel: integer (nullable = true)\n",
      " |-- ReorderPoint: integer (nullable = true)\n",
      " |-- ListPrice: double (nullable = true)\n",
      " |-- Size: string (nullable = true)\n",
      " |-- SizeRange: string (nullable = true)\n",
      " |-- Weight: double (nullable = true)\n",
      " |-- DaysToManufacture: integer (nullable = true)\n",
      " |-- ProductLine: string (nullable = true)\n",
      " |-- DealerPrice: double (nullable = true)\n",
      " |-- Class: string (nullable = true)\n",
      " |-- Style: string (nullable = true)\n",
      " |-- ModelName: string (nullable = true)\n",
      " |-- EnglishDescription: string (nullable = true)\n",
      " |-- StartDate: string (nullable = true)\n",
      " |-- EndDate: string (nullable = true)\n",
      " |-- Status: string (nullable = true)\n",
      "\n"
     ]
    }
   ],
   "source": [
    "# Displaying the schema of the PySpark DataFrame df4\n",
    "df4.printSchema()\n"
   ]
  },
  {
   "cell_type": "code",
   "execution_count": null,
   "metadata": {
    "colab": {
     "base_uri": "https://localhost:8080/"
    },
    "executionInfo": {
     "elapsed": 16,
     "status": "ok",
     "timestamp": 1705089215300,
     "user": {
      "displayName": "Bukola Babalola",
      "userId": "06679246117258314799"
     },
     "user_tz": 0
    },
    "id": "vVSK42jHPBnk",
    "outputId": "84d28ea7-b174-485a-b303-6202c926aa85"
   },
   "outputs": [
    {
     "name": "stdout",
     "output_type": "stream",
     "text": [
      "root\n",
      " |-- CustomerKey: integer (nullable = true)\n",
      " |-- ProductKey: integer (nullable = true)\n",
      " |-- OrderDateKey: integer (nullable = true)\n",
      " |-- DueDateKey: integer (nullable = true)\n",
      " |-- ShipDateKey: integer (nullable = true)\n",
      " |-- PromotionKey: integer (nullable = true)\n",
      " |-- CurrencyKey: integer (nullable = true)\n",
      " |-- SalesTerritoryKey: integer (nullable = true)\n",
      " |-- SalesOrderNumber: string (nullable = true)\n",
      " |-- SalesOrderLineNumber: integer (nullable = true)\n",
      " |-- RevisionNumber: integer (nullable = true)\n",
      " |-- OrderQuantity: integer (nullable = true)\n",
      " |-- UnitPrice: double (nullable = true)\n",
      " |-- ExtendedAmount: double (nullable = true)\n",
      " |-- UnitPriceDiscountPct: integer (nullable = true)\n",
      " |-- DiscountAmount: integer (nullable = true)\n",
      " |-- ProductStandardCost: double (nullable = true)\n",
      " |-- TotalProductCost: double (nullable = true)\n",
      " |-- SalesAmount: double (nullable = true)\n",
      " |-- TaxAmt: double (nullable = true)\n",
      " |-- Freight: double (nullable = true)\n",
      " |-- CarrierTrackingNumber: string (nullable = true)\n",
      " |-- CustomerPONumber: string (nullable = true)\n",
      " |-- OrderDate: timestamp (nullable = true)\n",
      " |-- DueDate: timestamp (nullable = true)\n",
      " |-- ShipDate: timestamp (nullable = true)\n",
      " |-- GeographyKey: integer (nullable = true)\n",
      " |-- CustomerAlternateKey: string (nullable = true)\n",
      " |-- Title: string (nullable = true)\n",
      " |-- FirstName: string (nullable = true)\n",
      " |-- MiddleName: string (nullable = true)\n",
      " |-- LastName: string (nullable = true)\n",
      " |-- NameStyle: boolean (nullable = true)\n",
      " |-- BirthDate: date (nullable = true)\n",
      " |-- MaritalStatus: string (nullable = true)\n",
      " |-- Suffix: string (nullable = true)\n",
      " |-- Gender: string (nullable = true)\n",
      " |-- EmailAddress: string (nullable = true)\n",
      " |-- YearlyIncome: integer (nullable = true)\n",
      " |-- TotalChildren: integer (nullable = true)\n",
      " |-- NumberChildrenAtHome: integer (nullable = true)\n",
      " |-- EnglishEducation: string (nullable = true)\n",
      " |-- SpanishEducation: string (nullable = true)\n",
      " |-- FrenchEducation: string (nullable = true)\n",
      " |-- EnglishOccupation: string (nullable = true)\n",
      " |-- SpanishOccupation: string (nullable = true)\n",
      " |-- FrenchOccupation: string (nullable = true)\n",
      " |-- HouseOwnerFlag: integer (nullable = true)\n",
      " |-- NumberCarsOwned: integer (nullable = true)\n",
      " |-- AddressLine1: string (nullable = true)\n",
      " |-- AddressLine2: string (nullable = true)\n",
      " |-- Phone: string (nullable = true)\n",
      " |-- DateFirstPurchase: date (nullable = true)\n",
      " |-- CommuteDistance: string (nullable = true)\n",
      "\n"
     ]
    }
   ],
   "source": [
    "# Displaying the schema of the PySpark DataFrame df_23\n",
    "df_23.printSchema()"
   ]
  },
  {
   "cell_type": "code",
   "execution_count": null,
   "metadata": {
    "colab": {
     "base_uri": "https://localhost:8080/"
    },
    "executionInfo": {
     "elapsed": 264,
     "status": "ok",
     "timestamp": 1705089381052,
     "user": {
      "displayName": "Bukola Babalola",
      "userId": "06679246117258314799"
     },
     "user_tz": 0
    },
    "id": "PaKcTnlBPKer",
    "outputId": "d4daf209-9f0c-4517-9873-9d590849a0f9"
   },
   "outputs": [
    {
     "name": "stdout",
     "output_type": "stream",
     "text": [
      "root\n",
      " |-- SalesTerritoryKey: integer (nullable = true)\n",
      " |-- ProductKey: integer (nullable = true)\n",
      " |-- OrderDateKey: integer (nullable = true)\n",
      " |-- DueDateKey: integer (nullable = true)\n",
      " |-- ShipDateKey: integer (nullable = true)\n",
      " |-- CustomerKey: integer (nullable = true)\n",
      " |-- PromotionKey: integer (nullable = true)\n",
      " |-- CurrencyKey: integer (nullable = true)\n",
      " |-- SalesOrderNumber: string (nullable = true)\n",
      " |-- SalesOrderLineNumber: integer (nullable = true)\n",
      " |-- RevisionNumber: integer (nullable = true)\n",
      " |-- OrderQuantity: integer (nullable = true)\n",
      " |-- UnitPrice: double (nullable = true)\n",
      " |-- ExtendedAmount: double (nullable = true)\n",
      " |-- UnitPriceDiscountPct: integer (nullable = true)\n",
      " |-- DiscountAmount: integer (nullable = true)\n",
      " |-- ProductStandardCost: double (nullable = true)\n",
      " |-- TotalProductCost: double (nullable = true)\n",
      " |-- SalesAmount: double (nullable = true)\n",
      " |-- TaxAmt: double (nullable = true)\n",
      " |-- Freight: double (nullable = true)\n",
      " |-- CarrierTrackingNumber: string (nullable = true)\n",
      " |-- CustomerPONumber: string (nullable = true)\n",
      " |-- OrderDate: timestamp (nullable = true)\n",
      " |-- DueDate: timestamp (nullable = true)\n",
      " |-- ShipDate: timestamp (nullable = true)\n",
      " |-- Row: integer (nullable = true)\n",
      " |-- SalesTerritoryRegion: string (nullable = true)\n",
      " |-- SalesTerritoryGroup: string (nullable = true)\n",
      " |-- SalesTerritoryCountry: string (nullable = true)\n",
      " |-- CalendarYear: integer (nullable = true)\n",
      " |-- DateKey: string (nullable = true)\n",
      " |-- SalesAmountQuote: integer (nullable = true)\n",
      "\n"
     ]
    }
   ],
   "source": [
    "# Displaying the schema of the PySpark DataFrame  df_25\n",
    "df_25.printSchema()"
   ]
  },
  {
   "cell_type": "code",
   "execution_count": null,
   "metadata": {
    "colab": {
     "base_uri": "https://localhost:8080/"
    },
    "executionInfo": {
     "elapsed": 249,
     "status": "ok",
     "timestamp": 1705089411545,
     "user": {
      "displayName": "Bukola Babalola",
      "userId": "06679246117258314799"
     },
     "user_tz": 0
    },
    "id": "HImuuVBqPy9-",
    "outputId": "ef73635e-abcc-47e7-fbae-5853e02fe633"
   },
   "outputs": [
    {
     "name": "stdout",
     "output_type": "stream",
     "text": [
      "root\n",
      " |-- CustomerKey: integer (nullable = true)\n",
      " |-- ProductKey: integer (nullable = true)\n",
      " |-- OrderDateKey: integer (nullable = true)\n",
      " |-- DueDateKey: integer (nullable = true)\n",
      " |-- ShipDateKey: integer (nullable = true)\n",
      " |-- PromotionKey: integer (nullable = true)\n",
      " |-- CurrencyKey: integer (nullable = true)\n",
      " |-- SalesTerritoryKey: integer (nullable = true)\n",
      " |-- SalesOrderNumber: string (nullable = true)\n",
      " |-- SalesOrderLineNumber: integer (nullable = true)\n",
      " |-- RevisionNumber: integer (nullable = true)\n",
      " |-- OrderQuantity: integer (nullable = true)\n",
      " |-- UnitPrice: double (nullable = true)\n",
      " |-- ExtendedAmount: double (nullable = true)\n",
      " |-- UnitPriceDiscountPct: integer (nullable = true)\n",
      " |-- DiscountAmount: integer (nullable = true)\n",
      " |-- ProductStandardCost: double (nullable = true)\n",
      " |-- TotalProductCost: double (nullable = true)\n",
      " |-- SalesAmount: double (nullable = true)\n",
      " |-- TaxAmt: double (nullable = true)\n",
      " |-- Freight: double (nullable = true)\n",
      " |-- CarrierTrackingNumber: string (nullable = true)\n",
      " |-- CustomerPONumber: string (nullable = true)\n",
      " |-- OrderDate: timestamp (nullable = true)\n",
      " |-- DueDate: timestamp (nullable = true)\n",
      " |-- ShipDate: timestamp (nullable = true)\n",
      " |-- ProductAlternateKey: string (nullable = true)\n",
      " |-- ProductSubcategoryKey: integer (nullable = true)\n",
      " |-- WeightUnitMeasureCode: string (nullable = true)\n",
      " |-- SizeUnitMeasureCode: string (nullable = true)\n",
      " |-- EnglishProductName: string (nullable = true)\n",
      " |-- SpanishProductName: string (nullable = true)\n",
      " |-- FrenchProductName: string (nullable = true)\n",
      " |-- StandardCost: double (nullable = true)\n",
      " |-- FinishedGoodsFlag: boolean (nullable = true)\n",
      " |-- Color: string (nullable = true)\n",
      " |-- SafetyStockLevel: integer (nullable = true)\n",
      " |-- ReorderPoint: integer (nullable = true)\n",
      " |-- ListPrice: double (nullable = true)\n",
      " |-- Size: string (nullable = true)\n",
      " |-- SizeRange: string (nullable = true)\n",
      " |-- Weight: double (nullable = true)\n",
      " |-- DaysToManufacture: integer (nullable = true)\n",
      " |-- ProductLine: string (nullable = true)\n",
      " |-- DealerPrice: double (nullable = true)\n",
      " |-- Class: string (nullable = true)\n",
      " |-- Style: string (nullable = true)\n",
      " |-- ModelName: string (nullable = true)\n",
      " |-- EnglishDescription: string (nullable = true)\n",
      " |-- StartDate: string (nullable = true)\n",
      " |-- EndDate: string (nullable = true)\n",
      " |-- Status: string (nullable = true)\n",
      " |-- GeographyKey: integer (nullable = true)\n",
      " |-- CustomerAlternateKey: string (nullable = true)\n",
      " |-- Title: string (nullable = true)\n",
      " |-- FirstName: string (nullable = true)\n",
      " |-- MiddleName: string (nullable = true)\n",
      " |-- LastName: string (nullable = true)\n",
      " |-- NameStyle: boolean (nullable = true)\n",
      " |-- BirthDate: date (nullable = true)\n",
      " |-- MaritalStatus: string (nullable = true)\n",
      " |-- Suffix: string (nullable = true)\n",
      " |-- Gender: string (nullable = true)\n",
      " |-- EmailAddress: string (nullable = true)\n",
      " |-- YearlyIncome: integer (nullable = true)\n",
      " |-- TotalChildren: integer (nullable = true)\n",
      " |-- NumberChildrenAtHome: integer (nullable = true)\n",
      " |-- EnglishEducation: string (nullable = true)\n",
      " |-- SpanishEducation: string (nullable = true)\n",
      " |-- FrenchEducation: string (nullable = true)\n",
      " |-- EnglishOccupation: string (nullable = true)\n",
      " |-- SpanishOccupation: string (nullable = true)\n",
      " |-- FrenchOccupation: string (nullable = true)\n",
      " |-- HouseOwnerFlag: integer (nullable = true)\n",
      " |-- NumberCarsOwned: integer (nullable = true)\n",
      " |-- AddressLine1: string (nullable = true)\n",
      " |-- AddressLine2: string (nullable = true)\n",
      " |-- Phone: string (nullable = true)\n",
      " |-- DateFirstPurchase: date (nullable = true)\n",
      " |-- CommuteDistance: string (nullable = true)\n",
      "\n"
     ]
    }
   ],
   "source": [
    "# Displaying the schema of the PySpark DataFrame  df_234\n",
    "df_234.printSchema()"
   ]
  },
  {
   "cell_type": "markdown",
   "metadata": {
    "id": "uV6z6ssoQM34"
   },
   "source": [
    "## **EXPLORATORY DATA ANALYSIS**"
   ]
  },
  {
   "cell_type": "code",
   "execution_count": null,
   "metadata": {
    "colab": {
     "base_uri": "https://localhost:8080/"
    },
    "executionInfo": {
     "elapsed": 234,
     "status": "ok",
     "timestamp": 1705089711461,
     "user": {
      "displayName": "Bukola Babalola",
      "userId": "06679246117258314799"
     },
     "user_tz": 0
    },
    "id": "-dRgzcNRQSh1",
    "outputId": "da4c2559-9e3f-4f40-ccc0-5871420f3548"
   },
   "outputs": [
    {
     "data": {
      "text/plain": [
       "['CustomerKey',\n",
       " 'ProductKey',\n",
       " 'OrderDateKey',\n",
       " 'DueDateKey',\n",
       " 'ShipDateKey',\n",
       " 'PromotionKey',\n",
       " 'CurrencyKey',\n",
       " 'SalesTerritoryKey',\n",
       " 'SalesOrderNumber',\n",
       " 'SalesOrderLineNumber',\n",
       " 'RevisionNumber',\n",
       " 'OrderQuantity',\n",
       " 'UnitPrice',\n",
       " 'ExtendedAmount',\n",
       " 'UnitPriceDiscountPct',\n",
       " 'DiscountAmount',\n",
       " 'ProductStandardCost',\n",
       " 'TotalProductCost',\n",
       " 'SalesAmount',\n",
       " 'TaxAmt',\n",
       " 'Freight',\n",
       " 'CarrierTrackingNumber',\n",
       " 'CustomerPONumber',\n",
       " 'OrderDate',\n",
       " 'DueDate',\n",
       " 'ShipDate',\n",
       " 'ProductAlternateKey',\n",
       " 'ProductSubcategoryKey',\n",
       " 'WeightUnitMeasureCode',\n",
       " 'SizeUnitMeasureCode',\n",
       " 'EnglishProductName',\n",
       " 'SpanishProductName',\n",
       " 'FrenchProductName',\n",
       " 'StandardCost',\n",
       " 'FinishedGoodsFlag',\n",
       " 'Color',\n",
       " 'SafetyStockLevel',\n",
       " 'ReorderPoint',\n",
       " 'ListPrice',\n",
       " 'Size',\n",
       " 'SizeRange',\n",
       " 'Weight',\n",
       " 'DaysToManufacture',\n",
       " 'ProductLine',\n",
       " 'DealerPrice',\n",
       " 'Class',\n",
       " 'Style',\n",
       " 'ModelName',\n",
       " 'EnglishDescription',\n",
       " 'StartDate',\n",
       " 'EndDate',\n",
       " 'Status',\n",
       " 'GeographyKey',\n",
       " 'CustomerAlternateKey',\n",
       " 'Title',\n",
       " 'FirstName',\n",
       " 'MiddleName',\n",
       " 'LastName',\n",
       " 'NameStyle',\n",
       " 'BirthDate',\n",
       " 'MaritalStatus',\n",
       " 'Suffix',\n",
       " 'Gender',\n",
       " 'EmailAddress',\n",
       " 'YearlyIncome',\n",
       " 'TotalChildren',\n",
       " 'NumberChildrenAtHome',\n",
       " 'EnglishEducation',\n",
       " 'SpanishEducation',\n",
       " 'FrenchEducation',\n",
       " 'EnglishOccupation',\n",
       " 'SpanishOccupation',\n",
       " 'FrenchOccupation',\n",
       " 'HouseOwnerFlag',\n",
       " 'NumberCarsOwned',\n",
       " 'AddressLine1',\n",
       " 'AddressLine2',\n",
       " 'Phone',\n",
       " 'DateFirstPurchase',\n",
       " 'CommuteDistance']"
      ]
     },
     "execution_count": 54,
     "metadata": {},
     "output_type": "execute_result"
    }
   ],
   "source": [
    "# Displaying the column names of the PySpark DataFrame df_234\n",
    "df_234.columns"
   ]
  },
  {
   "cell_type": "code",
   "execution_count": null,
   "metadata": {
    "colab": {
     "base_uri": "https://localhost:8080/"
    },
    "executionInfo": {
     "elapsed": 252,
     "status": "ok",
     "timestamp": 1705089752818,
     "user": {
      "displayName": "Bukola Babalola",
      "userId": "06679246117258314799"
     },
     "user_tz": 0
    },
    "id": "RYSqjBGJRDpR",
    "outputId": "316e94b3-cca6-4ba5-8b61-caf09b1273c4"
   },
   "outputs": [
    {
     "data": {
      "text/plain": [
       "80"
      ]
     },
     "execution_count": 55,
     "metadata": {},
     "output_type": "execute_result"
    }
   ],
   "source": [
    "# Getting the number of columns in the PySpark DataFrame df_234\n",
    "len(df_234.columns)"
   ]
  },
  {
   "cell_type": "markdown",
   "metadata": {
    "id": "6E4it5QQRuEc"
   },
   "source": [
    "### **CHECKING FOR MISSING VALUES**"
   ]
  },
  {
   "cell_type": "code",
   "execution_count": null,
   "metadata": {
    "colab": {
     "base_uri": "https://localhost:8080/"
    },
    "executionInfo": {
     "elapsed": 6424,
     "status": "ok",
     "timestamp": 1705090040426,
     "user": {
      "displayName": "Bukola Babalola",
      "userId": "06679246117258314799"
     },
     "user_tz": 0
    },
    "id": "M-jqrjGjSNFd",
    "outputId": "647521da-a4d7-4ee8-8f9a-b5c9a4dbbef3"
   },
   "outputs": [
    {
     "name": "stdout",
     "output_type": "stream",
     "text": [
      "+-----------+----------+------------+----------+-----------+------------+-----------+-----------------+----------------+--------------------+--------------+-------------+---------+--------------+--------------------+--------------+-------------------+----------------+-----------+------+-------+---------------------+----------------+---------+-------+--------+-------------------+---------------------+---------------------+-------------------+------------------+------------------+-----------------+------------+-----------------+-----+----------------+------------+---------+-----+---------+------+-----------------+-----------+-----------+-----+-----+---------+------------------+---------+-------+------+------------+--------------------+-----+---------+----------+--------+---------+---------+-------------+------+------+------------+------------+-------------+--------------------+----------------+----------------+---------------+-----------------+-----------------+----------------+--------------+---------------+------------+------------+-----+-----------------+---------------+\n",
      "|CustomerKey|ProductKey|OrderDateKey|DueDateKey|ShipDateKey|PromotionKey|CurrencyKey|SalesTerritoryKey|SalesOrderNumber|SalesOrderLineNumber|RevisionNumber|OrderQuantity|UnitPrice|ExtendedAmount|UnitPriceDiscountPct|DiscountAmount|ProductStandardCost|TotalProductCost|SalesAmount|TaxAmt|Freight|CarrierTrackingNumber|CustomerPONumber|OrderDate|DueDate|ShipDate|ProductAlternateKey|ProductSubcategoryKey|WeightUnitMeasureCode|SizeUnitMeasureCode|EnglishProductName|SpanishProductName|FrenchProductName|StandardCost|FinishedGoodsFlag|Color|SafetyStockLevel|ReorderPoint|ListPrice| Size|SizeRange|Weight|DaysToManufacture|ProductLine|DealerPrice|Class|Style|ModelName|EnglishDescription|StartDate|EndDate|Status|GeographyKey|CustomerAlternateKey|Title|FirstName|MiddleName|LastName|NameStyle|BirthDate|MaritalStatus|Suffix|Gender|EmailAddress|YearlyIncome|TotalChildren|NumberChildrenAtHome|EnglishEducation|SpanishEducation|FrenchEducation|EnglishOccupation|SpanishOccupation|FrenchOccupation|HouseOwnerFlag|NumberCarsOwned|AddressLine1|AddressLine2|Phone|DateFirstPurchase|CommuteDistance|\n",
      "+-----------+----------+------------+----------+-----------+------------+-----------+-----------------+----------------+--------------------+--------------+-------------+---------+--------------+--------------------+--------------+-------------------+----------------+-----------+------+-------+---------------------+----------------+---------+-------+--------+-------------------+---------------------+---------------------+-------------------+------------------+------------------+-----------------+------------+-----------------+-----+----------------+------------+---------+-----+---------+------+-----------------+-----------+-----------+-----+-----+---------+------------------+---------+-------+------+------------+--------------------+-----+---------+----------+--------+---------+---------+-------------+------+------+------------+------------+-------------+--------------------+----------------+----------------+---------------+-----------------+-----------------+----------------+--------------+---------------+------------+------------+-----+-----------------+---------------+\n",
      "|          0|         0|           0|         0|          0|           0|          0|                0|               0|                   0|             0|            0|        0|             0|                   0|             0|                  0|               0|          0|     0|      0|                    0|               0|        0|      0|       0|                  0|                    0|                45193|              45193|                 0|             13135|            13135|           0|                0|    0|               0|           0|        0|37549|        0| 45193|                0|          0|          0|38946|36092|        0|                 0|        0|  54970|  5428|           0|                   0|60091|        0|     25495|       0|        0|        0|            0| 60392|     0|           0|           0|            0|                   0|               0|               0|              0|                0|                0|               0|             0|              0|           0|       59293|    0|                0|              0|\n",
      "+-----------+----------+------------+----------+-----------+------------+-----------+-----------------+----------------+--------------------+--------------+-------------+---------+--------------+--------------------+--------------+-------------------+----------------+-----------+------+-------+---------------------+----------------+---------+-------+--------+-------------------+---------------------+---------------------+-------------------+------------------+------------------+-----------------+------------+-----------------+-----+----------------+------------+---------+-----+---------+------+-----------------+-----------+-----------+-----+-----+---------+------------------+---------+-------+------+------------+--------------------+-----+---------+----------+--------+---------+---------+-------------+------+------+------------+------------+-------------+--------------------+----------------+----------------+---------------+-----------------+-----------------+----------------+--------------+---------------+------------+------------+-----+-----------------+---------------+\n",
      "\n"
     ]
    }
   ],
   "source": [
    "# Calculating the count of null values for each column in the PySpark DataFrame df_234\n",
    "null_counts = df_234.select([spark_sum(col(column).isNull().cast(\"int\")).alias(column) for column in df_234.columns])\n",
    "# Showing the null value counts for the first 6 columns\n",
    "null_counts.show(6)"
   ]
  },
  {
   "cell_type": "code",
   "execution_count": null,
   "metadata": {
    "colab": {
     "base_uri": "https://localhost:8080/"
    },
    "executionInfo": {
     "elapsed": 102672,
     "status": "ok",
     "timestamp": 1705090177630,
     "user": {
      "displayName": "Bukola Babalola",
      "userId": "06679246117258314799"
     },
     "user_tz": 0
    },
    "id": "_vVEPwyVR_yw",
    "outputId": "5eefb425-555b-4896-8a6a-5f098e290026"
   },
   "outputs": [
    {
     "data": {
      "text/plain": [
       "[('CustomerKey', 0),\n",
       " ('ProductKey', 0),\n",
       " ('OrderDateKey', 0),\n",
       " ('DueDateKey', 0),\n",
       " ('ShipDateKey', 0),\n",
       " ('PromotionKey', 0),\n",
       " ('CurrencyKey', 0),\n",
       " ('SalesTerritoryKey', 0),\n",
       " ('SalesOrderNumber', 0),\n",
       " ('SalesOrderLineNumber', 0),\n",
       " ('RevisionNumber', 0),\n",
       " ('OrderQuantity', 0),\n",
       " ('UnitPrice', 0),\n",
       " ('ExtendedAmount', 0),\n",
       " ('UnitPriceDiscountPct', 0),\n",
       " ('DiscountAmount', 0),\n",
       " ('ProductStandardCost', 0),\n",
       " ('TotalProductCost', 0),\n",
       " ('SalesAmount', 0),\n",
       " ('TaxAmt', 0),\n",
       " ('Freight', 0),\n",
       " ('CarrierTrackingNumber', 0),\n",
       " ('CustomerPONumber', 0),\n",
       " ('OrderDate', 0),\n",
       " ('DueDate', 0),\n",
       " ('ShipDate', 0),\n",
       " ('ProductAlternateKey', 0),\n",
       " ('ProductSubcategoryKey', 0),\n",
       " ('WeightUnitMeasureCode', 45193),\n",
       " ('SizeUnitMeasureCode', 45193),\n",
       " ('EnglishProductName', 0),\n",
       " ('SpanishProductName', 13135),\n",
       " ('FrenchProductName', 13135),\n",
       " ('StandardCost', 0),\n",
       " ('FinishedGoodsFlag', 0),\n",
       " ('Color', 0),\n",
       " ('SafetyStockLevel', 0),\n",
       " ('ReorderPoint', 0),\n",
       " ('ListPrice', 0),\n",
       " ('Size', 37549),\n",
       " ('SizeRange', 0),\n",
       " ('Weight', 45193),\n",
       " ('DaysToManufacture', 0),\n",
       " ('ProductLine', 0),\n",
       " ('DealerPrice', 0),\n",
       " ('Class', 38946),\n",
       " ('Style', 36092),\n",
       " ('ModelName', 0),\n",
       " ('EnglishDescription', 0),\n",
       " ('StartDate', 0),\n",
       " ('EndDate', 54970),\n",
       " ('Status', 5428),\n",
       " ('GeographyKey', 0),\n",
       " ('CustomerAlternateKey', 0),\n",
       " ('Title', 60091),\n",
       " ('FirstName', 0),\n",
       " ('MiddleName', 25495),\n",
       " ('LastName', 0),\n",
       " ('NameStyle', 0),\n",
       " ('BirthDate', 0),\n",
       " ('MaritalStatus', 0),\n",
       " ('Suffix', 60392),\n",
       " ('Gender', 0),\n",
       " ('EmailAddress', 0),\n",
       " ('YearlyIncome', 0),\n",
       " ('TotalChildren', 0),\n",
       " ('NumberChildrenAtHome', 0),\n",
       " ('EnglishEducation', 0),\n",
       " ('SpanishEducation', 0),\n",
       " ('FrenchEducation', 0),\n",
       " ('EnglishOccupation', 0),\n",
       " ('SpanishOccupation', 0),\n",
       " ('FrenchOccupation', 0),\n",
       " ('HouseOwnerFlag', 0),\n",
       " ('NumberCarsOwned', 0),\n",
       " ('AddressLine1', 0),\n",
       " ('AddressLine2', 59293),\n",
       " ('Phone', 0),\n",
       " ('DateFirstPurchase', 0),\n",
       " ('CommuteDistance', 0)]"
      ]
     },
     "execution_count": 59,
     "metadata": {},
     "output_type": "execute_result"
    }
   ],
   "source": [
    "# Creating a list of tuples containing column names and their respective count of null values in the PySpark DataFrame df_234\n",
    "null_counts = [(c, df_234.where(col(c).isNull()).count() ) for c in df_234.columns]\n",
    "# Displaying the list of tuples, indicating the column names and their corresponding count of null values\n",
    "null_counts"
   ]
  },
  {
   "cell_type": "code",
   "execution_count": null,
   "metadata": {
    "colab": {
     "base_uri": "https://localhost:8080/"
    },
    "executionInfo": {
     "elapsed": 1412,
     "status": "ok",
     "timestamp": 1705090209007,
     "user": {
      "displayName": "Bukola Babalola",
      "userId": "06679246117258314799"
     },
     "user_tz": 0
    },
    "id": "Hdy8nvRYR1Z7",
    "outputId": "54d6810f-5cd0-4db7-84d0-ad084c152380"
   },
   "outputs": [
    {
     "data": {
      "text/plain": [
       "60398"
      ]
     },
     "execution_count": 60,
     "metadata": {},
     "output_type": "execute_result"
    }
   ],
   "source": [
    "# Counting the total number of rows in the PySpark DataFrame df_234\n",
    "df_234.count()"
   ]
  },
  {
   "cell_type": "markdown",
   "metadata": {
    "id": "7vg4Tp-dR8A5"
   },
   "source": []
  },
  {
   "cell_type": "code",
   "execution_count": null,
   "metadata": {
    "id": "n-UwJW60THXv"
   },
   "outputs": [],
   "source": [
    "# List of columns to be dropped from the PySpark DataFrame df_234\n",
    "columns_to_drop = [\"WeightUnitMeasureCode\",\"SizeUnitMeasureCode\",\"SpanishProductName\",\"FrenchProductName\",\"Size\",\"Weight\",\"Class\",\n",
    "\"Style\",\"EndDate\",\"Status\",\"AddressLine2\",\"AddressLine1\", \"MiddleName\",\"Title\",\"Suffix\",\"Phone\",\"NameStyle\",\"LastName\",\"FirstName\",\n",
    "  \"EmailAddress\"                ]\n",
    "\n",
    "# Dropping the specified columns from the PySpark DataFrame df_234\n",
    "df_234 = df_234.drop(*columns_to_drop)"
   ]
  },
  {
   "cell_type": "code",
   "execution_count": null,
   "metadata": {
    "colab": {
     "base_uri": "https://localhost:8080/"
    },
    "executionInfo": {
     "elapsed": 63320,
     "status": "ok",
     "timestamp": 1705090346312,
     "user": {
      "displayName": "Bukola Babalola",
      "userId": "06679246117258314799"
     },
     "user_tz": 0
    },
    "id": "PWBP5rkoTJbN",
    "outputId": "fd7cc48b-2951-4a64-8cc5-486c6a745111"
   },
   "outputs": [
    {
     "data": {
      "text/plain": [
       "[('CustomerKey', 0),\n",
       " ('ProductKey', 0),\n",
       " ('OrderDateKey', 0),\n",
       " ('DueDateKey', 0),\n",
       " ('ShipDateKey', 0),\n",
       " ('PromotionKey', 0),\n",
       " ('CurrencyKey', 0),\n",
       " ('SalesTerritoryKey', 0),\n",
       " ('SalesOrderNumber', 0),\n",
       " ('SalesOrderLineNumber', 0),\n",
       " ('RevisionNumber', 0),\n",
       " ('OrderQuantity', 0),\n",
       " ('UnitPrice', 0),\n",
       " ('ExtendedAmount', 0),\n",
       " ('UnitPriceDiscountPct', 0),\n",
       " ('DiscountAmount', 0),\n",
       " ('ProductStandardCost', 0),\n",
       " ('TotalProductCost', 0),\n",
       " ('SalesAmount', 0),\n",
       " ('TaxAmt', 0),\n",
       " ('Freight', 0),\n",
       " ('CarrierTrackingNumber', 0),\n",
       " ('CustomerPONumber', 0),\n",
       " ('OrderDate', 0),\n",
       " ('DueDate', 0),\n",
       " ('ShipDate', 0),\n",
       " ('ProductAlternateKey', 0),\n",
       " ('ProductSubcategoryKey', 0),\n",
       " ('EnglishProductName', 0),\n",
       " ('StandardCost', 0),\n",
       " ('FinishedGoodsFlag', 0),\n",
       " ('Color', 0),\n",
       " ('SafetyStockLevel', 0),\n",
       " ('ReorderPoint', 0),\n",
       " ('ListPrice', 0),\n",
       " ('SizeRange', 0),\n",
       " ('DaysToManufacture', 0),\n",
       " ('ProductLine', 0),\n",
       " ('DealerPrice', 0),\n",
       " ('ModelName', 0),\n",
       " ('EnglishDescription', 0),\n",
       " ('StartDate', 0),\n",
       " ('GeographyKey', 0),\n",
       " ('CustomerAlternateKey', 0),\n",
       " ('BirthDate', 0),\n",
       " ('MaritalStatus', 0),\n",
       " ('Gender', 0),\n",
       " ('YearlyIncome', 0),\n",
       " ('TotalChildren', 0),\n",
       " ('NumberChildrenAtHome', 0),\n",
       " ('EnglishEducation', 0),\n",
       " ('SpanishEducation', 0),\n",
       " ('FrenchEducation', 0),\n",
       " ('EnglishOccupation', 0),\n",
       " ('SpanishOccupation', 0),\n",
       " ('FrenchOccupation', 0),\n",
       " ('HouseOwnerFlag', 0),\n",
       " ('NumberCarsOwned', 0),\n",
       " ('DateFirstPurchase', 0),\n",
       " ('CommuteDistance', 0)]"
      ]
     },
     "execution_count": 62,
     "metadata": {},
     "output_type": "execute_result"
    }
   ],
   "source": [
    "# Creating a list of tuples containing column names and corresponding count of null values in df_234\n",
    "null_counts = [(c, df_234.where(col(c).isNull()).count() ) for c in df_234.columns]\n",
    "null_counts"
   ]
  },
  {
   "cell_type": "code",
   "execution_count": null,
   "metadata": {
    "colab": {
     "base_uri": "https://localhost:8080/"
    },
    "executionInfo": {
     "elapsed": 223,
     "status": "ok",
     "timestamp": 1705090390847,
     "user": {
      "displayName": "Bukola Babalola",
      "userId": "06679246117258314799"
     },
     "user_tz": 0
    },
    "id": "LV4jTn5BTPPQ",
    "outputId": "e9476c1f-fa2d-4a71-9933-79822e22810f"
   },
   "outputs": [
    {
     "data": {
      "text/plain": [
       "60"
      ]
     },
     "execution_count": 63,
     "metadata": {},
     "output_type": "execute_result"
    }
   ],
   "source": [
    "# Calculating and displaying the number of columns in df_234\n",
    "len(df_234.columns)"
   ]
  },
  {
   "cell_type": "code",
   "execution_count": null,
   "metadata": {
    "colab": {
     "base_uri": "https://localhost:8080/"
    },
    "executionInfo": {
     "elapsed": 268,
     "status": "ok",
     "timestamp": 1705090409800,
     "user": {
      "displayName": "Bukola Babalola",
      "userId": "06679246117258314799"
     },
     "user_tz": 0
    },
    "id": "rs5JC3nfTpg6",
    "outputId": "d5de82cd-18ec-47d3-c17a-79d11fcf6f79"
   },
   "outputs": [
    {
     "data": {
      "text/plain": [
       "['CustomerKey',\n",
       " 'ProductKey',\n",
       " 'OrderDateKey',\n",
       " 'DueDateKey',\n",
       " 'ShipDateKey',\n",
       " 'PromotionKey',\n",
       " 'CurrencyKey',\n",
       " 'SalesTerritoryKey',\n",
       " 'SalesOrderNumber',\n",
       " 'SalesOrderLineNumber',\n",
       " 'RevisionNumber',\n",
       " 'OrderQuantity',\n",
       " 'UnitPrice',\n",
       " 'ExtendedAmount',\n",
       " 'UnitPriceDiscountPct',\n",
       " 'DiscountAmount',\n",
       " 'ProductStandardCost',\n",
       " 'TotalProductCost',\n",
       " 'SalesAmount',\n",
       " 'TaxAmt',\n",
       " 'Freight',\n",
       " 'CarrierTrackingNumber',\n",
       " 'CustomerPONumber',\n",
       " 'OrderDate',\n",
       " 'DueDate',\n",
       " 'ShipDate',\n",
       " 'ProductAlternateKey',\n",
       " 'ProductSubcategoryKey',\n",
       " 'EnglishProductName',\n",
       " 'StandardCost',\n",
       " 'FinishedGoodsFlag',\n",
       " 'Color',\n",
       " 'SafetyStockLevel',\n",
       " 'ReorderPoint',\n",
       " 'ListPrice',\n",
       " 'SizeRange',\n",
       " 'DaysToManufacture',\n",
       " 'ProductLine',\n",
       " 'DealerPrice',\n",
       " 'ModelName',\n",
       " 'EnglishDescription',\n",
       " 'StartDate',\n",
       " 'GeographyKey',\n",
       " 'CustomerAlternateKey',\n",
       " 'BirthDate',\n",
       " 'MaritalStatus',\n",
       " 'Gender',\n",
       " 'YearlyIncome',\n",
       " 'TotalChildren',\n",
       " 'NumberChildrenAtHome',\n",
       " 'EnglishEducation',\n",
       " 'SpanishEducation',\n",
       " 'FrenchEducation',\n",
       " 'EnglishOccupation',\n",
       " 'SpanishOccupation',\n",
       " 'FrenchOccupation',\n",
       " 'HouseOwnerFlag',\n",
       " 'NumberCarsOwned',\n",
       " 'DateFirstPurchase',\n",
       " 'CommuteDistance']"
      ]
     },
     "execution_count": 64,
     "metadata": {},
     "output_type": "execute_result"
    }
   ],
   "source": [
    "# Display the column names of the PySpark DataFrame df_234\n",
    "df_234.columns"
   ]
  },
  {
   "cell_type": "code",
   "execution_count": null,
   "metadata": {
    "id": "k8OspvV8T3an"
   },
   "outputs": [],
   "source": []
  },
  {
   "cell_type": "markdown",
   "metadata": {
    "id": "ctcI_yQZT5Fu"
   },
   "source": [
    "### **SUMMARY STATISTICS**"
   ]
  },
  {
   "cell_type": "code",
   "execution_count": null,
   "metadata": {
    "colab": {
     "base_uri": "https://localhost:8080/"
    },
    "executionInfo": {
     "elapsed": 28229,
     "status": "ok",
     "timestamp": 1705090565685,
     "user": {
      "displayName": "Bukola Babalola",
      "userId": "06679246117258314799"
     },
     "user_tz": 0
    },
    "id": "I3OqAaVuT-fg",
    "outputId": "f48d70cb-5f00-4d3d-cd52-aafa8b93b1ab"
   },
   "outputs": [
    {
     "name": "stdout",
     "output_type": "stream",
     "text": [
      "+-------+------------------+------------------+-------------------+-------------------+--------------------+------------------+-----------------+------------------+----------------+--------------------+--------------+-------------+-----------------+-----------------+--------------------+--------------+-------------------+-----------------+-----------------+------------------+------------------+---------------------+----------------+-------------------+---------------------+--------------------+-----------------+------+------------------+------------------+-----------------+---------+------------------+-----------+------------------+--------------------+--------------------+----------------+------------------+--------------------+-------------+------+------------------+------------------+--------------------+-------------------+--------------------+---------------+-----------------+-----------------+----------------+------------------+------------------+---------------+\n",
      "|summary|       CustomerKey|        ProductKey|       OrderDateKey|         DueDateKey|         ShipDateKey|      PromotionKey|      CurrencyKey| SalesTerritoryKey|SalesOrderNumber|SalesOrderLineNumber|RevisionNumber|OrderQuantity|        UnitPrice|   ExtendedAmount|UnitPriceDiscountPct|DiscountAmount|ProductStandardCost| TotalProductCost|      SalesAmount|            TaxAmt|           Freight|CarrierTrackingNumber|CustomerPONumber|ProductAlternateKey|ProductSubcategoryKey|  EnglishProductName|     StandardCost| Color|  SafetyStockLevel|      ReorderPoint|        ListPrice|SizeRange| DaysToManufacture|ProductLine|       DealerPrice|           ModelName|  EnglishDescription|       StartDate|      GeographyKey|CustomerAlternateKey|MaritalStatus|Gender|      YearlyIncome|     TotalChildren|NumberChildrenAtHome|   EnglishEducation|    SpanishEducation|FrenchEducation|EnglishOccupation|SpanishOccupation|FrenchOccupation|    HouseOwnerFlag|   NumberCarsOwned|CommuteDistance|\n",
      "+-------+------------------+------------------+-------------------+-------------------+--------------------+------------------+-----------------+------------------+----------------+--------------------+--------------+-------------+-----------------+-----------------+--------------------+--------------+-------------------+-----------------+-----------------+------------------+------------------+---------------------+----------------+-------------------+---------------------+--------------------+-----------------+------+------------------+------------------+-----------------+---------+------------------+-----------+------------------+--------------------+--------------------+----------------+------------------+--------------------+-------------+------+------------------+------------------+--------------------+-------------------+--------------------+---------------+-----------------+-----------------+----------------+------------------+------------------+---------------+\n",
      "|  count|             60398|             60398|              60398|              60398|               60398|             60398|            60398|             60398|           60398|               60398|         60398|        60398|            60398|            60398|               60398|         60398|              60398|            60398|            60398|             60398|             60398|                60398|           60398|              60398|                60398|               60398|            60398| 60398|             60398|             60398|            60398|    60398|             60398|      60398|             60398|               60398|               60398|           60398|             60398|               60398|        60398| 60398|             60398|             60398|               60398|              60398|               60398|          60398|            60398|            60398|           60398|             60398|             60398|          60398|\n",
      "|   mean|18841.685420047022|  437.557932381867|2.012973493314348E7|2.013010416608166E7|2.0129938434186563E7|1.0418391337461506|69.84532600417232| 6.244461737143614|            NULL|  1.8863207390973211|           1.0|          1.0|486.0869105049381|486.0869105049381|                 0.0|           0.0|  286.0656574008799|286.0656574008799|486.0869105049381|38.886953708746155|12.152217111491757|                 NULL|            NULL|               NULL|    23.35146859167522|                NULL|286.0656574008799|  NULL|144.29630120202657|108.22222590151992|486.0869105049381|     70.0|1.0069869863240504|       NULL|291.65214637916694|                NULL|                NULL|            NULL|230.51629193019636|                NULL|         NULL|  NULL|59715.056789959934|1.8507400907314813|  1.0803172290473195|               NULL|                NULL|           NULL|             NULL|             NULL|            NULL|0.6904036557501904|1.5091890459949004|           NULL|\n",
      "| stddev| 5432.430404014208|118.08839049700869| 4745.0503377864325|  4985.453229355979|   4851.060708270001| 0.342604570073712| 42.1463631512379|2.9611497332880754|            NULL|  1.0163284211738743|           0.0|          0.0| 928.489891980806| 928.489891980806|                 0.0|           0.0|  552.4576408810644|552.4576408810644| 928.489891980806| 74.27919255248143|  23.2122482327679|                 NULL|            NULL|               NULL|   13.556080675838144|                NULL|552.4576408810644|  NULL|200.59288223272495|150.44466167454428| 928.489891980806|      0.0| 1.736080371576117|       NULL| 557.0939354491309|                NULL|                NULL|            NULL| 192.4031837219918|                NULL|         NULL|  NULL| 33065.42683679112|1.6210704169731036|  1.5859635076904308|               NULL|                NULL|           NULL|             NULL|             NULL|            NULL|0.4623310360566512|1.1541631838368709|           NULL|\n",
      "|    min|             11000|               214|           20101229|           20110110|            20110105|                 1|                6|                 1|         SO43697|                   1|             1|            1|             2.29|             2.29|                   0|             0|             0.8565|           0.8565|             2.29|            0.1832|            0.0573|                 NULL|            NULL|            BC-M005|                    1|        AWC Logo Cap|           0.8565| Black|                 4|                 3|             2.29| 38-40 CM|                 0|         M |             1.374|All-Purpose Bike ...|AWC logo water bo...|01/07/2005 00:00|                 2|          AW00011000|            M|     F|             10000|                 0|                   0|          Bachelors|Educaci�n secundaria|        Bac + 2|         Clerical|   Administrativo|           Cadre|                 0|                 0|      0-1 Miles|\n",
      "|    max|             29483|               606|           20140128|           20140209|            20140204|                14|              100|                10|         SO75123|                   8|             1|            1|          3578.27|          3578.27|                   0|             0|          2171.2942|        2171.2942|          3578.27|          286.2616|           89.4568|                 NULL|            NULL|            WB-H098|                   37|Women's Mountain ...|        2171.2942|Yellow|               500|               375|          3578.27|       XL|                 4|         T |          2146.962|Women's Mountain ...|Washes off the to...|01/07/2007 00:00|               654|          AW00029483|            S|     M|            170000|                 5|                   5|Partial High School|        Licenciatura|     Niveau bac|   Skilled Manual|      Profesional|      Technicien|                 1|                 4|     5-10 Miles|\n",
      "+-------+------------------+------------------+-------------------+-------------------+--------------------+------------------+-----------------+------------------+----------------+--------------------+--------------+-------------+-----------------+-----------------+--------------------+--------------+-------------------+-----------------+-----------------+------------------+------------------+---------------------+----------------+-------------------+---------------------+--------------------+-----------------+------+------------------+------------------+-----------------+---------+------------------+-----------+------------------+--------------------+--------------------+----------------+------------------+--------------------+-------------+------+------------------+------------------+--------------------+-------------------+--------------------+---------------+-----------------+-----------------+----------------+------------------+------------------+---------------+\n",
      "\n"
     ]
    }
   ],
   "source": [
    "# Getting  summary statistics of the PySpark DataFrame df_234\n",
    "df_234.describe().show(5)\n"
   ]
  },
  {
   "cell_type": "code",
   "execution_count": null,
   "metadata": {
    "id": "6OV-0jMmUbA_"
   },
   "outputs": [],
   "source": []
  },
  {
   "cell_type": "markdown",
   "metadata": {
    "id": "JmrDadd8VMpv"
   },
   "source": [
    "## **RESEARCH QUESTIONS**\n",
    "**Research Question 1: Are There Observable Patterns or Disparities in Sales Based on Gender?**"
   ]
  },
  {
   "cell_type": "code",
   "execution_count": null,
   "metadata": {
    "colab": {
     "base_uri": "https://localhost:8080/"
    },
    "executionInfo": {
     "elapsed": 1073,
     "status": "ok",
     "timestamp": 1705091162497,
     "user": {
      "displayName": "Bukola Babalola",
      "userId": "06679246117258314799"
     },
     "user_tz": 0
    },
    "id": "XkYk2k5zWZ9D",
    "outputId": "9107b57c-4040-4767-a3fe-854d937571bb"
   },
   "outputs": [
    {
     "name": "stdout",
     "output_type": "stream",
     "text": [
      "+------+-----+\n",
      "|Gender|count|\n",
      "+------+-----+\n",
      "|     F|30017|\n",
      "|     M|30381|\n",
      "+------+-----+\n",
      "\n"
     ]
    }
   ],
   "source": [
    "# Checking the distribution of customer based on Gender\n",
    "# Grouping the DataFrame by 'Gender' and calculating the count of each gender\n",
    "gender_distribution = df_234.groupBy('Gender').agg(F.count('Gender').alias('count'))\n",
    "\n",
    "gender_distribution.show()\n"
   ]
  },
  {
   "cell_type": "code",
   "execution_count": null,
   "metadata": {
    "colab": {
     "base_uri": "https://localhost:8080/",
     "height": 675
    },
    "executionInfo": {
     "elapsed": 1978,
     "status": "ok",
     "timestamp": 1705091186379,
     "user": {
      "displayName": "Bukola Babalola",
      "userId": "06679246117258314799"
     },
     "user_tz": 0
    },
    "id": "glmJC18TWls8",
    "outputId": "0139afd4-ba8d-4ebd-cdad-daebab3f0f75"
   },
   "outputs": [
    {
     "data": {
      "image/png": "[encoded data removed]",
      "text/plain": [
       "<Figure size 800x800 with 1 Axes>"
      ]
     },
     "metadata": {},
     "output_type": "display_data"
    }
   ],
   "source": [
    "# Visualize the distribution using a pie chart\n",
    "gender_distribution_pd = gender_distribution.toPandas()\n",
    "\n",
    "plt.figure(figsize=(8, 8))\n",
    "plt.pie(gender_distribution_pd['count'], labels=gender_distribution_pd['Gender'], autopct='%1.1f%%', colors=['blue', 'pink'])\n",
    "plt.title('Distribution of Gender')\n",
    "plt.show()"
   ]
  },
  {
   "cell_type": "code",
   "execution_count": null,
   "metadata": {
    "colab": {
     "base_uri": "https://localhost:8080/"
    },
    "executionInfo": {
     "elapsed": 1721,
     "status": "ok",
     "timestamp": 1705091245226,
     "user": {
      "displayName": "Bukola Babalola",
      "userId": "06679246117258314799"
     },
     "user_tz": 0
    },
    "id": "MV7bGF4UWrTy",
    "outputId": "38220624-dbba-4a74-a28f-fe9d0ba76d2e"
   },
   "outputs": [
    {
     "name": "stdout",
     "output_type": "stream",
     "text": [
      "Gender Sales Trends:\n",
      "+------+--------------------+\n",
      "|Gender|          TotalSales|\n",
      "+------+--------------------+\n",
      "|     F|1.4813618675202964E7|\n",
      "|     M|1.4545058545503056E7|\n",
      "+------+--------------------+\n",
      "\n"
     ]
    }
   ],
   "source": [
    "gender_sales_data = df_234.select('Gender', 'SalesAmount')\n",
    "\n",
    "# Calculate total sales amount based on gender\n",
    "gender_sales_trends = gender_sales_data.groupBy('Gender').agg(F.sum('SalesAmount').alias('TotalSales'))\n",
    "\n",
    "# Display the PySpark DataFrame\n",
    "print(\"Gender Sales Trends:\")\n",
    "gender_sales_trends.show()\n"
   ]
  },
  {
   "cell_type": "code",
   "execution_count": null,
   "metadata": {
    "colab": {
     "base_uri": "https://localhost:8080/",
     "height": 487
    },
    "executionInfo": {
     "elapsed": 3153,
     "status": "ok",
     "timestamp": 1705091278233,
     "user": {
      "displayName": "Bukola Babalola",
      "userId": "06679246117258314799"
     },
     "user_tz": 0
    },
    "id": "U2IZlE8WW5vd",
    "outputId": "cc9f9f97-d501-496f-ddd8-e418e677623d"
   },
   "outputs": [
    {
     "data": {
      "image/png": "[encoded data removed]",
      "text/plain": [
       "<Figure size 800x500 with 1 Axes>"
      ]
     },
     "metadata": {},
     "output_type": "display_data"
    }
   ],
   "source": [
    "# Convert to Pandas for visualization\n",
    "gender_sales_pd = gender_sales_trends.toPandas()\n",
    "\n",
    "# Plotting bar chart for sales trends based on gender distribution\n",
    "plt.figure(figsize=(8, 5))\n",
    "sns.barplot(x='Gender', y='TotalSales', data=gender_sales_pd, palette=['blue', 'pink'])\n",
    "plt.title('Sales Trends Based on Gender Distribution')\n",
    "plt.xlabel('Gender')\n",
    "plt.ylabel('Total Sales Amount')\n",
    "plt.show()"
   ]
  },
  {
   "cell_type": "code",
   "execution_count": null,
   "metadata": {
    "id": "iHxMbs3sXBcG"
   },
   "outputs": [],
   "source": []
  },
  {
   "cell_type": "markdown",
   "metadata": {
    "id": "u8WniCnrXMnd"
   },
   "source": [
    "## **Research Question 2**:\n",
    "**How Does The Distribution Of Customers Based On Marital Status Impact On Sales?**"
   ]
  },
  {
   "cell_type": "code",
   "execution_count": null,
   "metadata": {
    "colab": {
     "base_uri": "https://localhost:8080/"
    },
    "executionInfo": {
     "elapsed": 1089,
     "status": "ok",
     "timestamp": 1705091418273,
     "user": {
      "displayName": "Bukola Babalola",
      "userId": "06679246117258314799"
     },
     "user_tz": 0
    },
    "id": "UXkyusbjXY12",
    "outputId": "6158acc4-904b-411f-e56e-6ee1871e4cc8"
   },
   "outputs": [
    {
     "name": "stdout",
     "output_type": "stream",
     "text": [
      "+-------------+-----+\n",
      "|MaritalStatus|count|\n",
      "+-------------+-----+\n",
      "|            M|33273|\n",
      "|            S|27125|\n",
      "+-------------+-----+\n",
      "\n"
     ]
    }
   ],
   "source": [
    "# Checking the distribution of customers based on Marital Status\n",
    "marital_status_distribution = df_234.groupBy('MaritalStatus').agg(F.count('MaritalStatus').alias('count'))\n",
    "\n",
    "# Show the distribution\n",
    "marital_status_distribution.show()\n"
   ]
  },
  {
   "cell_type": "code",
   "execution_count": null,
   "metadata": {
    "colab": {
     "base_uri": "https://localhost:8080/",
     "height": 487
    },
    "executionInfo": {
     "elapsed": 4020,
     "status": "ok",
     "timestamp": 1705091523900,
     "user": {
      "displayName": "Bukola Babalola",
      "userId": "06679246117258314799"
     },
     "user_tz": 0
    },
    "id": "AA6EAJduXV47",
    "outputId": "ef5b7707-4459-43ec-fad5-ef00848310ee"
   },
   "outputs": [
    {
     "data": {
      "image/png": "[encoded data removed]",
      "text/plain": [
       "<Figure size 800x500 with 1 Axes>"
      ]
     },
     "metadata": {},
     "output_type": "display_data"
    }
   ],
   "source": [
    "# Visualize the distribution using a bar chart\n",
    "marital_status_distribution_pd = marital_status_distribution.toPandas()\n",
    "\n",
    "plt.figure(figsize=(8, 5))\n",
    "plt.bar(marital_status_distribution_pd['MaritalStatus'], marital_status_distribution_pd['count'], color=['blue', 'green'])\n",
    "plt.xlabel('Marital Status')\n",
    "plt.ylabel('Count')\n",
    "plt.title('Distribution of Marital Status')\n",
    "plt.show()"
   ]
  },
  {
   "cell_type": "code",
   "execution_count": null,
   "metadata": {
    "colab": {
     "base_uri": "https://localhost:8080/"
    },
    "executionInfo": {
     "elapsed": 4297,
     "status": "ok",
     "timestamp": 1705091550862,
     "user": {
      "displayName": "Bukola Babalola",
      "userId": "06679246117258314799"
     },
     "user_tz": 0
    },
    "id": "VytaYr8PX9MX",
    "outputId": "da131b4e-780e-48b2-8c71-4fd331e97250"
   },
   "outputs": [
    {
     "name": "stdout",
     "output_type": "stream",
     "text": [
      "+-------------+------------------+\n",
      "|MaritalStatus|AverageSalesAmount|\n",
      "+-------------+------------------+\n",
      "|            M|  456.447442034183|\n",
      "|            S| 522.4442942636923|\n",
      "+-------------+------------------+\n",
      "\n"
     ]
    }
   ],
   "source": [
    "# Analyze purchasing behavior\n",
    "purchase_behavior = df_234.groupBy('MaritalStatus').agg(F.avg('SalesAmount').alias('AverageSalesAmount'))\n",
    "\n",
    "# Show the purchasing behavior\n",
    "purchase_behavior.show()\n"
   ]
  },
  {
   "cell_type": "code",
   "execution_count": null,
   "metadata": {
    "colab": {
     "base_uri": "https://localhost:8080/",
     "height": 487
    },
    "executionInfo": {
     "elapsed": 4438,
     "status": "ok",
     "timestamp": 1705091594378,
     "user": {
      "displayName": "Bukola Babalola",
      "userId": "06679246117258314799"
     },
     "user_tz": 0
    },
    "id": "4Hg9DYnpYDuo",
    "outputId": "454c5a40-5ef5-49a6-c16a-d7297d254173"
   },
   "outputs": [
    {
     "data": {
      "image/png": "[encoded data removed]",
      "text/plain": [
       "<Figure size 800x500 with 1 Axes>"
      ]
     },
     "metadata": {},
     "output_type": "display_data"
    }
   ],
   "source": [
    "# Visualize average sales amount by marital status\n",
    "purchase_behavior_pd = purchase_behavior.toPandas()\n",
    "\n",
    "plt.figure(figsize=(8, 5))\n",
    "plt.bar(purchase_behavior_pd['MaritalStatus'], purchase_behavior_pd['AverageSalesAmount'], color=['orange','purple'])\n",
    "plt.xlabel('Marital Status')\n",
    "plt.ylabel('Average Sales Amount')\n",
    "plt.title('Average Sales Amount by Marital Status')\n",
    "plt.show()"
   ]
  },
  {
   "cell_type": "code",
   "execution_count": null,
   "metadata": {
    "id": "uu0V6z_jYOTp"
   },
   "outputs": [],
   "source": []
  },
  {
   "cell_type": "markdown",
   "metadata": {
    "id": "Vy_a6HPGYixC"
   },
   "source": [
    "## **Research Question 3**\n",
    " **What is the distribution pattern of customers based on their yearly income?**"
   ]
  },
  {
   "cell_type": "code",
   "execution_count": null,
   "metadata": {
    "colab": {
     "base_uri": "https://localhost:8080/",
     "height": 564
    },
    "executionInfo": {
     "elapsed": 2853,
     "status": "ok",
     "timestamp": 1705092059736,
     "user": {
      "displayName": "Bukola Babalola",
      "userId": "06679246117258314799"
     },
     "user_tz": 0
    },
    "id": "QS-kJrx7ZnO3",
    "outputId": "5433eef1-e5c8-496e-fe0e-85f58c4413a1"
   },
   "outputs": [
    {
     "data": {
      "image/png": "[encoded data removed]",
      "text/plain": [
       "<Figure size 1200x600 with 1 Axes>"
      ]
     },
     "metadata": {},
     "output_type": "display_data"
    }
   ],
   "source": [
    "# Distribution Of Customers Based On Yearly Income\n",
    "income_distribution = df_234.select('YearlyIncome')\n",
    "\n",
    "# Using the toPandas() method to convert PySpark DataFrame to Pandas DataFrame for visualization\n",
    "income_distribution_pd = income_distribution.toPandas()\n",
    "\n",
    "# Plot the distribution using seaborn and matplotlib\n",
    "plt.figure(figsize=(12, 6))\n",
    "sns.histplot(x='YearlyIncome', data=income_distribution_pd, bins=30, kde=True)\n",
    "plt.title('Distribution of Yearly Income')\n",
    "plt.xlabel('Yearly Income')\n",
    "plt.ylabel('Count of Customers')\n",
    "plt.show()\n"
   ]
  },
  {
   "cell_type": "code",
   "execution_count": null,
   "metadata": {
    "id": "vYoYcY6gYrCR"
   },
   "outputs": [],
   "source": []
  },
  {
   "cell_type": "markdown",
   "metadata": {
    "id": "9UJFrlnLaDl_"
   },
   "source": [
    "## **Research Question 4**\n",
    "**Does The Age Of Customers Influence Their Purchasing Behavior or Exhibit any Correlation With Sales Trends?**"
   ]
  },
  {
   "cell_type": "code",
   "execution_count": null,
   "metadata": {
    "colab": {
     "base_uri": "https://localhost:8080/"
    },
    "executionInfo": {
     "elapsed": 5060,
     "status": "ok",
     "timestamp": 1705092200605,
     "user": {
      "displayName": "Bukola Babalola",
      "userId": "06679246117258314799"
     },
     "user_tz": 0
    },
    "id": "9-JmJlxtaPTi",
    "outputId": "3a457da5-95bf-4186-89f9-3a29bf275591"
   },
   "outputs": [
    {
     "name": "stdout",
     "output_type": "stream",
     "text": [
      "+---+------------------+\n",
      "|Age|        TotalSales|\n",
      "+---+------------------+\n",
      "| 44|291952.07699999737|\n",
      "| 45| 428675.7978999944|\n",
      "| 46| 568530.8560999933|\n",
      "| 47|400885.17789999384|\n",
      "| 48| 416425.8804999944|\n",
      "| 49| 622593.4735999908|\n",
      "| 50|  668520.871799991|\n",
      "| 51| 959155.3251999898|\n",
      "| 52|  1076995.38749999|\n",
      "| 53| 955320.1754999872|\n",
      "| 54|1274824.8080999868|\n",
      "| 55|1678163.2954999912|\n",
      "| 56|1443078.5329999863|\n",
      "| 57| 1083387.610399987|\n",
      "| 58| 1117239.640499986|\n",
      "| 59| 922528.3096999872|\n",
      "| 60| 860205.9283999893|\n",
      "| 61| 1138884.940299987|\n",
      "| 62| 1025142.738099989|\n",
      "| 63| 876475.0930999897|\n",
      "+---+------------------+\n",
      "only showing top 20 rows\n",
      "\n"
     ]
    }
   ],
   "source": [
    "# Calculating the age based on the 'BirthDate' column\n",
    "df_234_age = df_234.withColumn('Age', year(current_date()) - year('BirthDate'))\n",
    "\n",
    "# Grouping by age and getting the total sales for each age group\n",
    "age_sales_table = df_234_age.groupBy('Age').agg(F.sum('SalesAmount').alias('TotalSales')).orderBy('Age')\n",
    "\n",
    "# Displaying table\n",
    "age_sales_table.show(20)\n"
   ]
  },
  {
   "cell_type": "code",
   "execution_count": null,
   "metadata": {
    "colab": {
     "base_uri": "https://localhost:8080/",
     "height": 564
    },
    "executionInfo": {
     "elapsed": 6368,
     "status": "ok",
     "timestamp": 1705092240554,
     "user": {
      "displayName": "Bukola Babalola",
      "userId": "06679246117258314799"
     },
     "user_tz": 0
    },
    "id": "xCp6c37UaiJg",
    "outputId": "732a037e-917a-4fde-fe24-5c93f35c6cc3"
   },
   "outputs": [
    {
     "data": {
      "image/png": "[encoded data removed]",
      "text/plain": [
       "<Figure size 1200x600 with 1 Axes>"
      ]
     },
     "metadata": {},
     "output_type": "display_data"
    }
   ],
   "source": [
    "# Getting age based on the 'BirthDate' column\n",
    "df_234_age = df_234.withColumn('Age', year(current_date()) - year('BirthDate'))\n",
    "\n",
    "# Grouping by age and getting the total sales for each age group\n",
    "age_sales_table = df_234_age.groupBy('Age').agg(F.sum('SalesAmount').alias('TotalSales')).orderBy('Age')\n",
    "\n",
    "# Convert to Pandas DataFrame for visualization\n",
    "age_sales_pd = age_sales_table.toPandas()\n",
    "\n",
    "# Plotting the total sales distribution across age groups\n",
    "plt.figure(figsize=(12, 6))\n",
    "plt.bar(age_sales_pd['Age'], age_sales_pd['TotalSales'], color='purple')\n",
    "plt.title('Total Sales Distribution Across Age Groups')\n",
    "plt.xlabel('Age')\n",
    "plt.ylabel('Total Sales Amount')\n",
    "plt.show()"
   ]
  },
  {
   "cell_type": "markdown",
   "metadata": {
    "id": "71aumuFIaw_u"
   },
   "source": [
    "## **Research Question 5**\n",
    " **Does The SalesAmount Exhibit Any Seasonality or Trend Over Time?**"
   ]
  },
  {
   "cell_type": "code",
   "execution_count": null,
   "metadata": {
    "colab": {
     "base_uri": "https://localhost:8080/"
    },
    "executionInfo": {
     "elapsed": 6908,
     "status": "ok",
     "timestamp": 1705092339930,
     "user": {
      "displayName": "Bukola Babalola",
      "userId": "06679246117258314799"
     },
     "user_tz": 0
    },
    "id": "dtncIjsha907",
    "outputId": "8942becd-f2a6-40f1-8418-687e16ba754c"
   },
   "outputs": [
    {
     "name": "stdout",
     "output_type": "stream",
     "text": [
      "+-------------------+------------------+\n",
      "|          OrderDate|        TotalSales|\n",
      "+-------------------+------------------+\n",
      "|2011-05-25 00:00:00|10531.529999999999|\n",
      "|2011-10-10 00:00:00| 36774.33639999999|\n",
      "|2011-12-04 00:00:00|24666.329999999998|\n",
      "|2012-01-22 00:00:00|        17007.7424|\n",
      "|2012-07-11 00:00:00|13254.686300000001|\n",
      "+-------------------+------------------+\n",
      "only showing top 5 rows\n",
      "\n"
     ]
    }
   ],
   "source": [
    "# Grouping by 'OrderDate' and calculate total sales amount\n",
    "sales_trends = df_234.groupBy('OrderDate').agg(F.sum('SalesAmount').alias('TotalSales'))\n",
    "sales_trends.show(5)\n",
    "\n",
    "# Convert to Pandas for visualization\n",
    "sales_trends_pd = sales_trends.toPandas()\n"
   ]
  },
  {
   "cell_type": "code",
   "execution_count": null,
   "metadata": {
    "colab": {
     "base_uri": "https://localhost:8080/",
     "height": 601
    },
    "executionInfo": {
     "elapsed": 824,
     "status": "ok",
     "timestamp": 1705092355154,
     "user": {
      "displayName": "Bukola Babalola",
      "userId": "06679246117258314799"
     },
     "user_tz": 0
    },
    "id": "mQjGvJ_la7dp",
    "outputId": "4ff382d6-256d-4c53-b754-5c86f63edc5e"
   },
   "outputs": [
    {
     "data": {
      "image/png": "[encoded data removed]",
      "text/plain": [
       "<Figure size 1200x600 with 1 Axes>"
      ]
     },
     "metadata": {},
     "output_type": "display_data"
    }
   ],
   "source": [
    "# Plotting sales trends\n",
    "plt.figure(figsize=(12, 6))\n",
    "sns.lineplot(x='OrderDate', y='TotalSales', data=sales_trends_pd)\n",
    "plt.title('Sales Trends Over Time')\n",
    "plt.xlabel('Order Date')\n",
    "plt.ylabel('Total Sales Amount')\n",
    "plt.xticks(rotation=45)\n",
    "plt.show()"
   ]
  },
  {
   "cell_type": "code",
   "execution_count": null,
   "metadata": {
    "id": "vPYpWb9aarmu"
   },
   "outputs": [],
   "source": []
  },
  {
   "cell_type": "markdown",
   "metadata": {
    "id": "uaaaAZQIbRK1"
   },
   "source": [
    "## **Research Question 6**\n",
    "**How does the 'SalesAmount' vary across different 'SalesTerritories'?**"
   ]
  },
  {
   "cell_type": "code",
   "execution_count": null,
   "metadata": {
    "colab": {
     "base_uri": "https://localhost:8080/"
    },
    "executionInfo": {
     "elapsed": 2882,
     "status": "ok",
     "timestamp": 1705092476891,
     "user": {
      "displayName": "Bukola Babalola",
      "userId": "06679246117258314799"
     },
     "user_tz": 0
    },
    "id": "56VOdxQybZWg",
    "outputId": "6e01abb7-a5f0-43b2-cbcb-7d53bcbad762"
   },
   "outputs": [
    {
     "name": "stdout",
     "output_type": "stream",
     "text": [
      "  SalesTerritoryCountry    TotalSales\n",
      "0               Germany  5.788625e+06\n",
      "1                France  7.932053e+06\n",
      "2         United States  3.755916e+07\n",
      "3                Canada  7.911379e+06\n",
      "4             Australia  1.812200e+07\n",
      "5        United Kingdom  1.017514e+07\n"
     ]
    }
   ],
   "source": [
    "from pyspark.sql import functions as F\n",
    "import matplotlib.pyplot as plt\n",
    "\n",
    "# Total sales amount for each sales territory region by grouping the data based on the 'SalesTerritoryCountry' column\n",
    "# and aggregating the sum of 'SalesAmount' within each group.\n",
    "sales_territory_data = df_25.groupBy('SalesTerritoryCountry').agg(F.sum('SalesAmount').alias('TotalSales'))\n",
    "\n",
    "# Convert to Pandas for visualization\n",
    "sales_territory_pd = sales_territory_data.toPandas()\n",
    "\n",
    "# Display the table\n",
    "print(sales_territory_pd)\n"
   ]
  },
  {
   "cell_type": "code",
   "execution_count": null,
   "metadata": {
    "colab": {
     "base_uri": "https://localhost:8080/",
     "height": 829
    },
    "executionInfo": {
     "elapsed": 845,
     "status": "ok",
     "timestamp": 1705092506546,
     "user": {
      "displayName": "Bukola Babalola",
      "userId": "06679246117258314799"
     },
     "user_tz": 0
    },
    "id": "g1BabWjdbmJ8",
    "outputId": "93a59074-ef09-4d83-faf7-308f49ffadca"
   },
   "outputs": [
    {
     "data": {
      "image/png": "[encoded data removed]",
      "text/plain": [
       "<Figure size 1000x1000 with 1 Axes>"
      ]
     },
     "metadata": {},
     "output_type": "display_data"
    }
   ],
   "source": [
    "# Plotting pie chart for sales distribution across different sales territory country\n",
    "plt.figure(figsize=(10, 10))\n",
    "plt.pie(sales_territory_pd['TotalSales'], labels=sales_territory_pd['SalesTerritoryCountry'], autopct='%1.1f%%', colors=plt.cm.Paired.colors)\n",
    "plt.title('Sales Distribution Across Different Sales Territory Country')\n",
    "plt.show()\n"
   ]
  },
  {
   "cell_type": "code",
   "execution_count": null,
   "metadata": {
    "id": "rojfX7U-bt5E"
   },
   "outputs": [],
   "source": []
  },
  {
   "cell_type": "markdown",
   "metadata": {
    "id": "fZP9FXnfb63E"
   },
   "source": [
    "## **Research Question 7**\n",
    " **Do Specific Occupations Demonstrate a Significant Impact on Sales?**"
   ]
  },
  {
   "cell_type": "code",
   "execution_count": null,
   "metadata": {
    "colab": {
     "base_uri": "https://localhost:8080/"
    },
    "executionInfo": {
     "elapsed": 3078,
     "status": "ok",
     "timestamp": 1705092693076,
     "user": {
      "displayName": "Bukola Babalola",
      "userId": "06679246117258314799"
     },
     "user_tz": 0
    },
    "id": "3Ui7GjvEcKxH",
    "outputId": "87abbafb-26bc-4c0a-8cd3-ce0cd0e5b1ae"
   },
   "outputs": [
    {
     "name": "stdout",
     "output_type": "stream",
     "text": [
      "+-----------------+-----------------+\n",
      "|EnglishOccupation|   AvgSalesAmount|\n",
      "+-----------------+-----------------+\n",
      "|       Management|516.1281427695922|\n",
      "|     Professional|521.6097542038536|\n",
      "|         Clerical|486.7816545096628|\n",
      "|           Manual|412.7629828423129|\n",
      "|   Skilled Manual|451.5869054695701|\n",
      "+-----------------+-----------------+\n",
      "\n"
     ]
    }
   ],
   "source": [
    "# Group by 'EnglishOccupation' and calculate the average sales amount for each occupation\n",
    "occupation_sales = df_234.groupBy('EnglishOccupation').agg(F.avg('SalesAmount').alias('AvgSalesAmount'))\n",
    "\n",
    "# Display the table\n",
    "occupation_sales.show()\n"
   ]
  },
  {
   "cell_type": "code",
   "execution_count": null,
   "metadata": {
    "colab": {
     "base_uri": "https://localhost:8080/",
     "height": 554
    },
    "executionInfo": {
     "elapsed": 2186,
     "status": "ok",
     "timestamp": 1705092729136,
     "user": {
      "displayName": "Bukola Babalola",
      "userId": "06679246117258314799"
     },
     "user_tz": 0
    },
    "id": "FTXwFQrTca5X",
    "outputId": "cb1e6c98-d873-4c2a-b550-a7e69299abf3"
   },
   "outputs": [
    {
     "data": {
      "image/png": "[encoded data removed]",
      "text/plain": [
       "<Figure size 800x500 with 1 Axes>"
      ]
     },
     "metadata": {},
     "output_type": "display_data"
    }
   ],
   "source": [
    "# Plotting bar chart for average sales amount across different occupations\n",
    "plt.figure(figsize=(8, 5))\n",
    "plt.bar(occupation_sales.toPandas()['EnglishOccupation'], occupation_sales.toPandas()['AvgSalesAmount'], color='blue')\n",
    "plt.title('Average Sales Amount Across Different Occupations')\n",
    "plt.xlabel('Occupation')\n",
    "plt.ylabel('Average Sales Amount')\n",
    "plt.xticks(rotation=45, ha='right')  # Rotate x-axis labels for better visibility\n",
    "plt.show()"
   ]
  },
  {
   "cell_type": "code",
   "execution_count": null,
   "metadata": {
    "id": "bRYJ1B42cj5T"
   },
   "outputs": [],
   "source": []
  },
  {
   "cell_type": "markdown",
   "metadata": {
    "id": "cAbbR_xicm5J"
   },
   "source": [
    "## **Research Question 8**\n",
    "**Are there notable variations in sales based on educational backgrounds?**"
   ]
  },
  {
   "cell_type": "code",
   "execution_count": null,
   "metadata": {
    "colab": {
     "base_uri": "https://localhost:8080/"
    },
    "executionInfo": {
     "elapsed": 2688,
     "status": "ok",
     "timestamp": 1705092812786,
     "user": {
      "displayName": "Bukola Babalola",
      "userId": "06679246117258314799"
     },
     "user_tz": 0
    },
    "id": "Il2qpPEwcyHU",
    "outputId": "e024e8d9-75cd-4334-ad84-cdeaf2862f25"
   },
   "outputs": [
    {
     "name": "stdout",
     "output_type": "stream",
     "text": [
      "+-------------------+------------------+\n",
      "|   EnglishEducation|    AvgSalesAmount|\n",
      "+-------------------+------------------+\n",
      "|        High School|449.42113067839483|\n",
      "|Partial High School|347.57970664825416|\n",
      "|    Graduate Degree| 515.0014383948956|\n",
      "|    Partial College|464.62990343510825|\n",
      "|          Bachelors| 545.6427886409828|\n",
      "+-------------------+------------------+\n",
      "\n"
     ]
    }
   ],
   "source": [
    "# Group by 'EnglishEducation' and calculate the average sales amount for each group\n",
    "education_sales = df_234.groupBy('EnglishEducation').agg(F.avg('SalesAmount').alias('AvgSalesAmount'))\n",
    "\n",
    "# Display the table\n",
    "education_sales.show()\n",
    "\n",
    "# Convert to Pandas for visualization\n",
    "education_sales_pd = education_sales.toPandas()\n"
   ]
  },
  {
   "cell_type": "code",
   "execution_count": null,
   "metadata": {
    "colab": {
     "base_uri": "https://localhost:8080/",
     "height": 564
    },
    "executionInfo": {
     "elapsed": 2152,
     "status": "ok",
     "timestamp": 1705092839410,
     "user": {
      "displayName": "Bukola Babalola",
      "userId": "06679246117258314799"
     },
     "user_tz": 0
    },
    "id": "a6qCsLtbc4Mx",
    "outputId": "154adf9c-0276-4216-9a03-c52f46782ce0"
   },
   "outputs": [
    {
     "data": {
      "image/png": "[encoded data removed]",
      "text/plain": [
       "<Figure size 1200x600 with 1 Axes>"
      ]
     },
     "metadata": {},
     "output_type": "display_data"
    }
   ],
   "source": [
    "# Group by 'EnglishEducation' and calculate the average sales amount for each group\n",
    "education_sales = df_234.groupBy('EnglishEducation').agg(F.avg('SalesAmount').alias('AvgSalesAmount'))\n",
    "\n",
    "# Convert to Pandas for visualization\n",
    "education_sales_pd = education_sales.toPandas()\n",
    "\n",
    "# Plotting grouped bar chart for average sales amounts against the level of education\n",
    "plt.figure(figsize=(12, 6))\n",
    "plt.bar(education_sales_pd['EnglishEducation'], education_sales_pd['AvgSalesAmount'], color='green')\n",
    "plt.title('Average Sales Amounts Across Different Education Levels')\n",
    "plt.xlabel('Education Level')\n",
    "plt.ylabel('Average Sales Amount')\n",
    "plt.xticks(rotation=0)  # Keep x-axis labels horizontal\n",
    "plt.show()"
   ]
  },
  {
   "cell_type": "markdown",
   "metadata": {
    "id": "vPmhPaNKdKPA"
   },
   "source": [
    "## **Correlation and Heatmap**"
   ]
  },
  {
   "cell_type": "code",
   "execution_count": null,
   "metadata": {
    "id": "nDz2xjfTdMvd"
   },
   "outputs": [],
   "source": [
    "# Dropping Columns with NaN from the dataframe\n",
    "# Dropping Columns not needed\n",
    "columns_to_drop = [\"DiscountAmount\",\"UnitPriceDiscountPct\",\"OrderQuantity\",\"RevisionNumber\"]\n",
    "\n",
    "df_234 = df_234.drop(*columns_to_drop)"
   ]
  },
  {
   "cell_type": "code",
   "execution_count": null,
   "metadata": {
    "colab": {
     "base_uri": "https://localhost:8080/",
     "height": 1000
    },
    "executionInfo": {
     "elapsed": 23153,
     "status": "ok",
     "timestamp": 1705092957710,
     "user": {
      "displayName": "Bukola Babalola",
      "userId": "06679246117258314799"
     },
     "user_tz": 0
    },
    "id": "Dr6ilyy2dQLk",
    "outputId": "92ade53c-507a-454a-d3ec-67b75ffa21a2"
   },
   "outputs": [
    {
     "data": {
      "text/html": [
       "\n",
       "  <div id=\"df-43cddf0b-4c98-40e3-9d3a-54cdb189d54e\" class=\"colab-df-container\">\n",
       "    <div>\n",
       "<style scoped>\n",
       "    .dataframe tbody tr th:only-of-type {\n",
       "        vertical-align: middle;\n",
       "    }\n",
       "\n",
       "    .dataframe tbody tr th {\n",
       "        vertical-align: top;\n",
       "    }\n",
       "\n",
       "    .dataframe thead th {\n",
       "        text-align: right;\n",
       "    }\n",
       "</style>\n",
       "<table border=\"1\" class=\"dataframe\">\n",
       "  <thead>\n",
       "    <tr style=\"text-align: right;\">\n",
       "      <th></th>\n",
       "      <th>CustomerKey</th>\n",
       "      <th>ProductKey</th>\n",
       "      <th>OrderDateKey</th>\n",
       "      <th>DueDateKey</th>\n",
       "      <th>ShipDateKey</th>\n",
       "      <th>PromotionKey</th>\n",
       "      <th>CurrencyKey</th>\n",
       "      <th>SalesTerritoryKey</th>\n",
       "      <th>SalesOrderLineNumber</th>\n",
       "      <th>UnitPrice</th>\n",
       "      <th>...</th>\n",
       "      <th>ReorderPoint</th>\n",
       "      <th>ListPrice</th>\n",
       "      <th>DaysToManufacture</th>\n",
       "      <th>DealerPrice</th>\n",
       "      <th>GeographyKey</th>\n",
       "      <th>YearlyIncome</th>\n",
       "      <th>TotalChildren</th>\n",
       "      <th>NumberChildrenAtHome</th>\n",
       "      <th>HouseOwnerFlag</th>\n",
       "      <th>NumberCarsOwned</th>\n",
       "    </tr>\n",
       "  </thead>\n",
       "  <tbody>\n",
       "    <tr>\n",
       "      <th>CustomerKey</th>\n",
       "      <td>1.000000</td>\n",
       "      <td>0.052217</td>\n",
       "      <td>-0.001774</td>\n",
       "      <td>0.001979</td>\n",
       "      <td>-0.001942</td>\n",
       "      <td>0.014025</td>\n",
       "      <td>0.099390</td>\n",
       "      <td>-0.050912</td>\n",
       "      <td>-0.017838</td>\n",
       "      <td>-0.035415</td>\n",
       "      <td>...</td>\n",
       "      <td>0.040816</td>\n",
       "      <td>-0.035415</td>\n",
       "      <td>0.022105</td>\n",
       "      <td>-0.035415</td>\n",
       "      <td>0.092852</td>\n",
       "      <td>-0.079806</td>\n",
       "      <td>-0.027802</td>\n",
       "      <td>-0.055714</td>\n",
       "      <td>-0.121817</td>\n",
       "      <td>-0.011667</td>\n",
       "    </tr>\n",
       "    <tr>\n",
       "      <th>ProductKey</th>\n",
       "      <td>0.052217</td>\n",
       "      <td>1.000000</td>\n",
       "      <td>0.231750</td>\n",
       "      <td>0.219959</td>\n",
       "      <td>0.225845</td>\n",
       "      <td>0.020898</td>\n",
       "      <td>-0.001683</td>\n",
       "      <td>-0.023684</td>\n",
       "      <td>-0.248350</td>\n",
       "      <td>-0.142207</td>\n",
       "      <td>...</td>\n",
       "      <td>0.470963</td>\n",
       "      <td>-0.142207</td>\n",
       "      <td>0.005327</td>\n",
       "      <td>-0.142207</td>\n",
       "      <td>0.007588</td>\n",
       "      <td>-0.034132</td>\n",
       "      <td>0.003229</td>\n",
       "      <td>-0.011575</td>\n",
       "      <td>-0.009542</td>\n",
       "      <td>0.005245</td>\n",
       "    </tr>\n",
       "    <tr>\n",
       "      <th>OrderDateKey</th>\n",
       "      <td>-0.001774</td>\n",
       "      <td>0.231750</td>\n",
       "      <td>1.000000</td>\n",
       "      <td>0.941479</td>\n",
       "      <td>0.965982</td>\n",
       "      <td>-0.014860</td>\n",
       "      <td>0.110514</td>\n",
       "      <td>-0.055401</td>\n",
       "      <td>0.230817</td>\n",
       "      <td>-0.644948</td>\n",
       "      <td>...</td>\n",
       "      <td>0.075965</td>\n",
       "      <td>-0.644948</td>\n",
       "      <td>-0.499840</td>\n",
       "      <td>-0.644948</td>\n",
       "      <td>0.044184</td>\n",
       "      <td>-0.009209</td>\n",
       "      <td>0.055421</td>\n",
       "      <td>0.034186</td>\n",
       "      <td>-0.000687</td>\n",
       "      <td>0.038661</td>\n",
       "    </tr>\n",
       "    <tr>\n",
       "      <th>DueDateKey</th>\n",
       "      <td>0.001979</td>\n",
       "      <td>0.219959</td>\n",
       "      <td>0.941479</td>\n",
       "      <td>1.000000</td>\n",
       "      <td>0.973241</td>\n",
       "      <td>-0.015908</td>\n",
       "      <td>0.108257</td>\n",
       "      <td>-0.051429</td>\n",
       "      <td>0.222521</td>\n",
       "      <td>-0.611970</td>\n",
       "      <td>...</td>\n",
       "      <td>0.072237</td>\n",
       "      <td>-0.611970</td>\n",
       "      <td>-0.474252</td>\n",
       "      <td>-0.611970</td>\n",
       "      <td>0.041829</td>\n",
       "      <td>-0.010903</td>\n",
       "      <td>0.054234</td>\n",
       "      <td>0.034287</td>\n",
       "      <td>-0.000782</td>\n",
       "      <td>0.037766</td>\n",
       "    </tr>\n",
       "    <tr>\n",
       "      <th>ShipDateKey</th>\n",
       "      <td>-0.001942</td>\n",
       "      <td>0.225845</td>\n",
       "      <td>0.965982</td>\n",
       "      <td>0.973241</td>\n",
       "      <td>1.000000</td>\n",
       "      <td>-0.015849</td>\n",
       "      <td>0.111758</td>\n",
       "      <td>-0.053084</td>\n",
       "      <td>0.227242</td>\n",
       "      <td>-0.630441</td>\n",
       "      <td>...</td>\n",
       "      <td>0.074087</td>\n",
       "      <td>-0.630441</td>\n",
       "      <td>-0.488618</td>\n",
       "      <td>-0.630441</td>\n",
       "      <td>0.042679</td>\n",
       "      <td>-0.009383</td>\n",
       "      <td>0.058390</td>\n",
       "      <td>0.036510</td>\n",
       "      <td>0.002580</td>\n",
       "      <td>0.039531</td>\n",
       "    </tr>\n",
       "    <tr>\n",
       "      <th>PromotionKey</th>\n",
       "      <td>0.014025</td>\n",
       "      <td>0.020898</td>\n",
       "      <td>-0.014860</td>\n",
       "      <td>-0.015908</td>\n",
       "      <td>-0.015849</td>\n",
       "      <td>1.000000</td>\n",
       "      <td>-0.001344</td>\n",
       "      <td>0.002893</td>\n",
       "      <td>-0.025094</td>\n",
       "      <td>0.070681</td>\n",
       "      <td>...</td>\n",
       "      <td>-0.051392</td>\n",
       "      <td>0.070681</td>\n",
       "      <td>0.092957</td>\n",
       "      <td>0.070681</td>\n",
       "      <td>-0.001594</td>\n",
       "      <td>-0.002923</td>\n",
       "      <td>0.000035</td>\n",
       "      <td>-0.003290</td>\n",
       "      <td>-0.004040</td>\n",
       "      <td>-0.010749</td>\n",
       "    </tr>\n",
       "    <tr>\n",
       "      <th>CurrencyKey</th>\n",
       "      <td>0.099390</td>\n",
       "      <td>-0.001683</td>\n",
       "      <td>0.110514</td>\n",
       "      <td>0.108257</td>\n",
       "      <td>0.111758</td>\n",
       "      <td>-0.001344</td>\n",
       "      <td>1.000000</td>\n",
       "      <td>-0.434895</td>\n",
       "      <td>0.037910</td>\n",
       "      <td>-0.062022</td>\n",
       "      <td>...</td>\n",
       "      <td>0.012753</td>\n",
       "      <td>-0.062022</td>\n",
       "      <td>-0.040847</td>\n",
       "      <td>-0.062022</td>\n",
       "      <td>0.723662</td>\n",
       "      <td>-0.095634</td>\n",
       "      <td>0.047391</td>\n",
       "      <td>-0.046508</td>\n",
       "      <td>0.033354</td>\n",
       "      <td>-0.134602</td>\n",
       "    </tr>\n",
       "    <tr>\n",
       "      <th>SalesTerritoryKey</th>\n",
       "      <td>-0.050912</td>\n",
       "      <td>-0.023684</td>\n",
       "      <td>-0.055401</td>\n",
       "      <td>-0.051429</td>\n",
       "      <td>-0.053084</td>\n",
       "      <td>0.002893</td>\n",
       "      <td>-0.434895</td>\n",
       "      <td>1.000000</td>\n",
       "      <td>-0.008030</td>\n",
       "      <td>0.073906</td>\n",
       "      <td>...</td>\n",
       "      <td>-0.001324</td>\n",
       "      <td>0.073906</td>\n",
       "      <td>0.080685</td>\n",
       "      <td>0.073906</td>\n",
       "      <td>-0.809883</td>\n",
       "      <td>-0.058863</td>\n",
       "      <td>-0.104288</td>\n",
       "      <td>0.138686</td>\n",
       "      <td>-0.043113</td>\n",
       "      <td>0.020182</td>\n",
       "    </tr>\n",
       "    <tr>\n",
       "      <th>SalesOrderLineNumber</th>\n",
       "      <td>-0.017838</td>\n",
       "      <td>-0.248350</td>\n",
       "      <td>0.230817</td>\n",
       "      <td>0.222521</td>\n",
       "      <td>0.227242</td>\n",
       "      <td>-0.025094</td>\n",
       "      <td>0.037910</td>\n",
       "      <td>-0.008030</td>\n",
       "      <td>1.000000</td>\n",
       "      <td>-0.430759</td>\n",
       "      <td>...</td>\n",
       "      <td>-0.284590</td>\n",
       "      <td>-0.430759</td>\n",
       "      <td>-0.502167</td>\n",
       "      <td>-0.430759</td>\n",
       "      <td>0.019095</td>\n",
       "      <td>0.020306</td>\n",
       "      <td>0.012885</td>\n",
       "      <td>0.007719</td>\n",
       "      <td>0.005050</td>\n",
       "      <td>-0.005292</td>\n",
       "    </tr>\n",
       "    <tr>\n",
       "      <th>UnitPrice</th>\n",
       "      <td>-0.035415</td>\n",
       "      <td>-0.142207</td>\n",
       "      <td>-0.644948</td>\n",
       "      <td>-0.611970</td>\n",
       "      <td>-0.630441</td>\n",
       "      <td>0.070681</td>\n",
       "      <td>-0.062022</td>\n",
       "      <td>0.073906</td>\n",
       "      <td>-0.430759</td>\n",
       "      <td>1.000000</td>\n",
       "      <td>...</td>\n",
       "      <td>-0.113986</td>\n",
       "      <td>1.000000</td>\n",
       "      <td>0.859822</td>\n",
       "      <td>1.000000</td>\n",
       "      <td>-0.049720</td>\n",
       "      <td>0.072382</td>\n",
       "      <td>-0.053461</td>\n",
       "      <td>-0.023700</td>\n",
       "      <td>0.004475</td>\n",
       "      <td>-0.033842</td>\n",
       "    </tr>\n",
       "    <tr>\n",
       "      <th>ExtendedAmount</th>\n",
       "      <td>-0.035415</td>\n",
       "      <td>-0.142207</td>\n",
       "      <td>-0.644948</td>\n",
       "      <td>-0.611970</td>\n",
       "      <td>-0.630441</td>\n",
       "      <td>0.070681</td>\n",
       "      <td>-0.062022</td>\n",
       "      <td>0.073906</td>\n",
       "      <td>-0.430759</td>\n",
       "      <td>1.000000</td>\n",
       "      <td>...</td>\n",
       "      <td>-0.113986</td>\n",
       "      <td>1.000000</td>\n",
       "      <td>0.859822</td>\n",
       "      <td>1.000000</td>\n",
       "      <td>-0.049720</td>\n",
       "      <td>0.072382</td>\n",
       "      <td>-0.053461</td>\n",
       "      <td>-0.023700</td>\n",
       "      <td>0.004475</td>\n",
       "      <td>-0.033842</td>\n",
       "    </tr>\n",
       "    <tr>\n",
       "      <th>ProductStandardCost</th>\n",
       "      <td>-0.023599</td>\n",
       "      <td>-0.132349</td>\n",
       "      <td>-0.645423</td>\n",
       "      <td>-0.612555</td>\n",
       "      <td>-0.630975</td>\n",
       "      <td>0.068746</td>\n",
       "      <td>-0.063455</td>\n",
       "      <td>0.075988</td>\n",
       "      <td>-0.430635</td>\n",
       "      <td>0.997845</td>\n",
       "      <td>...</td>\n",
       "      <td>-0.114421</td>\n",
       "      <td>0.997845</td>\n",
       "      <td>0.860575</td>\n",
       "      <td>0.997845</td>\n",
       "      <td>-0.051522</td>\n",
       "      <td>0.069583</td>\n",
       "      <td>-0.055314</td>\n",
       "      <td>-0.024678</td>\n",
       "      <td>0.003090</td>\n",
       "      <td>-0.036252</td>\n",
       "    </tr>\n",
       "    <tr>\n",
       "      <th>TotalProductCost</th>\n",
       "      <td>-0.023599</td>\n",
       "      <td>-0.132349</td>\n",
       "      <td>-0.645423</td>\n",
       "      <td>-0.612555</td>\n",
       "      <td>-0.630975</td>\n",
       "      <td>0.068746</td>\n",
       "      <td>-0.063455</td>\n",
       "      <td>0.075988</td>\n",
       "      <td>-0.430635</td>\n",
       "      <td>0.997845</td>\n",
       "      <td>...</td>\n",
       "      <td>-0.114421</td>\n",
       "      <td>0.997845</td>\n",
       "      <td>0.860575</td>\n",
       "      <td>0.997845</td>\n",
       "      <td>-0.051522</td>\n",
       "      <td>0.069583</td>\n",
       "      <td>-0.055314</td>\n",
       "      <td>-0.024678</td>\n",
       "      <td>0.003090</td>\n",
       "      <td>-0.036252</td>\n",
       "    </tr>\n",
       "    <tr>\n",
       "      <th>SalesAmount</th>\n",
       "      <td>-0.035415</td>\n",
       "      <td>-0.142207</td>\n",
       "      <td>-0.644948</td>\n",
       "      <td>-0.611970</td>\n",
       "      <td>-0.630441</td>\n",
       "      <td>0.070681</td>\n",
       "      <td>-0.062022</td>\n",
       "      <td>0.073906</td>\n",
       "      <td>-0.430759</td>\n",
       "      <td>1.000000</td>\n",
       "      <td>...</td>\n",
       "      <td>-0.113986</td>\n",
       "      <td>1.000000</td>\n",
       "      <td>0.859822</td>\n",
       "      <td>1.000000</td>\n",
       "      <td>-0.049720</td>\n",
       "      <td>0.072382</td>\n",
       "      <td>-0.053461</td>\n",
       "      <td>-0.023700</td>\n",
       "      <td>0.004475</td>\n",
       "      <td>-0.033842</td>\n",
       "    </tr>\n",
       "    <tr>\n",
       "      <th>TaxAmt</th>\n",
       "      <td>-0.035415</td>\n",
       "      <td>-0.142207</td>\n",
       "      <td>-0.644948</td>\n",
       "      <td>-0.611970</td>\n",
       "      <td>-0.630441</td>\n",
       "      <td>0.070681</td>\n",
       "      <td>-0.062022</td>\n",
       "      <td>0.073906</td>\n",
       "      <td>-0.430759</td>\n",
       "      <td>1.000000</td>\n",
       "      <td>...</td>\n",
       "      <td>-0.113986</td>\n",
       "      <td>1.000000</td>\n",
       "      <td>0.859822</td>\n",
       "      <td>1.000000</td>\n",
       "      <td>-0.049720</td>\n",
       "      <td>0.072382</td>\n",
       "      <td>-0.053461</td>\n",
       "      <td>-0.023700</td>\n",
       "      <td>0.004475</td>\n",
       "      <td>-0.033842</td>\n",
       "    </tr>\n",
       "    <tr>\n",
       "      <th>Freight</th>\n",
       "      <td>-0.035415</td>\n",
       "      <td>-0.142207</td>\n",
       "      <td>-0.644948</td>\n",
       "      <td>-0.611969</td>\n",
       "      <td>-0.630440</td>\n",
       "      <td>0.070681</td>\n",
       "      <td>-0.062022</td>\n",
       "      <td>0.073906</td>\n",
       "      <td>-0.430759</td>\n",
       "      <td>1.000000</td>\n",
       "      <td>...</td>\n",
       "      <td>-0.113986</td>\n",
       "      <td>1.000000</td>\n",
       "      <td>0.859822</td>\n",
       "      <td>1.000000</td>\n",
       "      <td>-0.049720</td>\n",
       "      <td>0.072382</td>\n",
       "      <td>-0.053461</td>\n",
       "      <td>-0.023700</td>\n",
       "      <td>0.004475</td>\n",
       "      <td>-0.033842</td>\n",
       "    </tr>\n",
       "    <tr>\n",
       "      <th>ProductSubcategoryKey</th>\n",
       "      <td>-0.006108</td>\n",
       "      <td>0.154209</td>\n",
       "      <td>0.465164</td>\n",
       "      <td>0.441110</td>\n",
       "      <td>0.454778</td>\n",
       "      <td>-0.073304</td>\n",
       "      <td>0.039100</td>\n",
       "      <td>-0.072455</td>\n",
       "      <td>0.359936</td>\n",
       "      <td>-0.795983</td>\n",
       "      <td>...</td>\n",
       "      <td>0.391479</td>\n",
       "      <td>-0.795983</td>\n",
       "      <td>-0.921485</td>\n",
       "      <td>-0.795983</td>\n",
       "      <td>0.037263</td>\n",
       "      <td>-0.029705</td>\n",
       "      <td>0.073735</td>\n",
       "      <td>0.047151</td>\n",
       "      <td>-0.003368</td>\n",
       "      <td>0.075799</td>\n",
       "    </tr>\n",
       "    <tr>\n",
       "      <th>StandardCost</th>\n",
       "      <td>-0.023599</td>\n",
       "      <td>-0.132349</td>\n",
       "      <td>-0.645423</td>\n",
       "      <td>-0.612555</td>\n",
       "      <td>-0.630975</td>\n",
       "      <td>0.068746</td>\n",
       "      <td>-0.063455</td>\n",
       "      <td>0.075988</td>\n",
       "      <td>-0.430635</td>\n",
       "      <td>0.997845</td>\n",
       "      <td>...</td>\n",
       "      <td>-0.114421</td>\n",
       "      <td>0.997845</td>\n",
       "      <td>0.860575</td>\n",
       "      <td>0.997845</td>\n",
       "      <td>-0.051522</td>\n",
       "      <td>0.069583</td>\n",
       "      <td>-0.055314</td>\n",
       "      <td>-0.024678</td>\n",
       "      <td>0.003090</td>\n",
       "      <td>-0.036252</td>\n",
       "    </tr>\n",
       "    <tr>\n",
       "      <th>SafetyStockLevel</th>\n",
       "      <td>0.040816</td>\n",
       "      <td>0.470963</td>\n",
       "      <td>0.075965</td>\n",
       "      <td>0.072237</td>\n",
       "      <td>0.074087</td>\n",
       "      <td>-0.051392</td>\n",
       "      <td>0.012753</td>\n",
       "      <td>-0.001324</td>\n",
       "      <td>-0.284590</td>\n",
       "      <td>-0.113986</td>\n",
       "      <td>...</td>\n",
       "      <td>1.000000</td>\n",
       "      <td>-0.113986</td>\n",
       "      <td>-0.128089</td>\n",
       "      <td>-0.113986</td>\n",
       "      <td>-0.001023</td>\n",
       "      <td>-0.037308</td>\n",
       "      <td>0.011203</td>\n",
       "      <td>0.018341</td>\n",
       "      <td>-0.009968</td>\n",
       "      <td>0.029583</td>\n",
       "    </tr>\n",
       "    <tr>\n",
       "      <th>ReorderPoint</th>\n",
       "      <td>0.040816</td>\n",
       "      <td>0.470963</td>\n",
       "      <td>0.075965</td>\n",
       "      <td>0.072237</td>\n",
       "      <td>0.074087</td>\n",
       "      <td>-0.051392</td>\n",
       "      <td>0.012753</td>\n",
       "      <td>-0.001324</td>\n",
       "      <td>-0.284590</td>\n",
       "      <td>-0.113986</td>\n",
       "      <td>...</td>\n",
       "      <td>1.000000</td>\n",
       "      <td>-0.113986</td>\n",
       "      <td>-0.128089</td>\n",
       "      <td>-0.113986</td>\n",
       "      <td>-0.001023</td>\n",
       "      <td>-0.037308</td>\n",
       "      <td>0.011203</td>\n",
       "      <td>0.018341</td>\n",
       "      <td>-0.009968</td>\n",
       "      <td>0.029583</td>\n",
       "    </tr>\n",
       "    <tr>\n",
       "      <th>ListPrice</th>\n",
       "      <td>-0.035415</td>\n",
       "      <td>-0.142207</td>\n",
       "      <td>-0.644948</td>\n",
       "      <td>-0.611970</td>\n",
       "      <td>-0.630441</td>\n",
       "      <td>0.070681</td>\n",
       "      <td>-0.062022</td>\n",
       "      <td>0.073906</td>\n",
       "      <td>-0.430759</td>\n",
       "      <td>1.000000</td>\n",
       "      <td>...</td>\n",
       "      <td>-0.113986</td>\n",
       "      <td>1.000000</td>\n",
       "      <td>0.859822</td>\n",
       "      <td>1.000000</td>\n",
       "      <td>-0.049720</td>\n",
       "      <td>0.072382</td>\n",
       "      <td>-0.053461</td>\n",
       "      <td>-0.023700</td>\n",
       "      <td>0.004475</td>\n",
       "      <td>-0.033842</td>\n",
       "    </tr>\n",
       "    <tr>\n",
       "      <th>DaysToManufacture</th>\n",
       "      <td>0.022105</td>\n",
       "      <td>0.005327</td>\n",
       "      <td>-0.499840</td>\n",
       "      <td>-0.474252</td>\n",
       "      <td>-0.488618</td>\n",
       "      <td>0.092957</td>\n",
       "      <td>-0.040847</td>\n",
       "      <td>0.080685</td>\n",
       "      <td>-0.502167</td>\n",
       "      <td>0.859822</td>\n",
       "      <td>...</td>\n",
       "      <td>-0.128089</td>\n",
       "      <td>0.859822</td>\n",
       "      <td>1.000000</td>\n",
       "      <td>0.859822</td>\n",
       "      <td>-0.042623</td>\n",
       "      <td>0.023239</td>\n",
       "      <td>-0.076611</td>\n",
       "      <td>-0.046694</td>\n",
       "      <td>0.000612</td>\n",
       "      <td>-0.071137</td>\n",
       "    </tr>\n",
       "    <tr>\n",
       "      <th>DealerPrice</th>\n",
       "      <td>-0.035415</td>\n",
       "      <td>-0.142207</td>\n",
       "      <td>-0.644948</td>\n",
       "      <td>-0.611970</td>\n",
       "      <td>-0.630441</td>\n",
       "      <td>0.070681</td>\n",
       "      <td>-0.062022</td>\n",
       "      <td>0.073906</td>\n",
       "      <td>-0.430759</td>\n",
       "      <td>1.000000</td>\n",
       "      <td>...</td>\n",
       "      <td>-0.113986</td>\n",
       "      <td>1.000000</td>\n",
       "      <td>0.859822</td>\n",
       "      <td>1.000000</td>\n",
       "      <td>-0.049720</td>\n",
       "      <td>0.072382</td>\n",
       "      <td>-0.053461</td>\n",
       "      <td>-0.023700</td>\n",
       "      <td>0.004475</td>\n",
       "      <td>-0.033842</td>\n",
       "    </tr>\n",
       "    <tr>\n",
       "      <th>GeographyKey</th>\n",
       "      <td>0.092852</td>\n",
       "      <td>0.007588</td>\n",
       "      <td>0.044184</td>\n",
       "      <td>0.041829</td>\n",
       "      <td>0.042679</td>\n",
       "      <td>-0.001594</td>\n",
       "      <td>0.723662</td>\n",
       "      <td>-0.809883</td>\n",
       "      <td>0.019095</td>\n",
       "      <td>-0.049720</td>\n",
       "      <td>...</td>\n",
       "      <td>-0.001023</td>\n",
       "      <td>-0.049720</td>\n",
       "      <td>-0.042623</td>\n",
       "      <td>-0.049720</td>\n",
       "      <td>1.000000</td>\n",
       "      <td>0.014728</td>\n",
       "      <td>0.068196</td>\n",
       "      <td>-0.098646</td>\n",
       "      <td>0.036532</td>\n",
       "      <td>-0.062059</td>\n",
       "    </tr>\n",
       "    <tr>\n",
       "      <th>YearlyIncome</th>\n",
       "      <td>-0.079806</td>\n",
       "      <td>-0.034132</td>\n",
       "      <td>-0.009209</td>\n",
       "      <td>-0.010903</td>\n",
       "      <td>-0.009383</td>\n",
       "      <td>-0.002923</td>\n",
       "      <td>-0.095634</td>\n",
       "      <td>-0.058863</td>\n",
       "      <td>0.020306</td>\n",
       "      <td>0.072382</td>\n",
       "      <td>...</td>\n",
       "      <td>-0.037308</td>\n",
       "      <td>0.072382</td>\n",
       "      <td>0.023239</td>\n",
       "      <td>0.072382</td>\n",
       "      <td>0.014728</td>\n",
       "      <td>1.000000</td>\n",
       "      <td>0.214153</td>\n",
       "      <td>0.482927</td>\n",
       "      <td>0.035928</td>\n",
       "      <td>0.481783</td>\n",
       "    </tr>\n",
       "    <tr>\n",
       "      <th>TotalChildren</th>\n",
       "      <td>-0.027802</td>\n",
       "      <td>0.003229</td>\n",
       "      <td>0.055421</td>\n",
       "      <td>0.054234</td>\n",
       "      <td>0.058390</td>\n",
       "      <td>0.000035</td>\n",
       "      <td>0.047391</td>\n",
       "      <td>-0.104288</td>\n",
       "      <td>0.012885</td>\n",
       "      <td>-0.053461</td>\n",
       "      <td>...</td>\n",
       "      <td>0.011203</td>\n",
       "      <td>-0.053461</td>\n",
       "      <td>-0.076611</td>\n",
       "      <td>-0.053461</td>\n",
       "      <td>0.068196</td>\n",
       "      <td>0.214153</td>\n",
       "      <td>1.000000</td>\n",
       "      <td>0.461643</td>\n",
       "      <td>0.181704</td>\n",
       "      <td>0.262964</td>\n",
       "    </tr>\n",
       "    <tr>\n",
       "      <th>NumberChildrenAtHome</th>\n",
       "      <td>-0.055714</td>\n",
       "      <td>-0.011575</td>\n",
       "      <td>0.034186</td>\n",
       "      <td>0.034287</td>\n",
       "      <td>0.036510</td>\n",
       "      <td>-0.003290</td>\n",
       "      <td>-0.046508</td>\n",
       "      <td>0.138686</td>\n",
       "      <td>0.007719</td>\n",
       "      <td>-0.023700</td>\n",
       "      <td>...</td>\n",
       "      <td>0.018341</td>\n",
       "      <td>-0.023700</td>\n",
       "      <td>-0.046694</td>\n",
       "      <td>-0.023700</td>\n",
       "      <td>-0.098646</td>\n",
       "      <td>0.482927</td>\n",
       "      <td>0.461643</td>\n",
       "      <td>1.000000</td>\n",
       "      <td>0.126291</td>\n",
       "      <td>0.450176</td>\n",
       "    </tr>\n",
       "    <tr>\n",
       "      <th>HouseOwnerFlag</th>\n",
       "      <td>-0.121817</td>\n",
       "      <td>-0.009542</td>\n",
       "      <td>-0.000687</td>\n",
       "      <td>-0.000782</td>\n",
       "      <td>0.002580</td>\n",
       "      <td>-0.004040</td>\n",
       "      <td>0.033354</td>\n",
       "      <td>-0.043113</td>\n",
       "      <td>0.005050</td>\n",
       "      <td>0.004475</td>\n",
       "      <td>...</td>\n",
       "      <td>-0.009968</td>\n",
       "      <td>0.004475</td>\n",
       "      <td>0.000612</td>\n",
       "      <td>0.004475</td>\n",
       "      <td>0.036532</td>\n",
       "      <td>0.035928</td>\n",
       "      <td>0.181704</td>\n",
       "      <td>0.126291</td>\n",
       "      <td>1.000000</td>\n",
       "      <td>-0.074955</td>\n",
       "    </tr>\n",
       "    <tr>\n",
       "      <th>NumberCarsOwned</th>\n",
       "      <td>-0.011667</td>\n",
       "      <td>0.005245</td>\n",
       "      <td>0.038661</td>\n",
       "      <td>0.037766</td>\n",
       "      <td>0.039531</td>\n",
       "      <td>-0.010749</td>\n",
       "      <td>-0.134602</td>\n",
       "      <td>0.020182</td>\n",
       "      <td>-0.005292</td>\n",
       "      <td>-0.033842</td>\n",
       "      <td>...</td>\n",
       "      <td>0.029583</td>\n",
       "      <td>-0.033842</td>\n",
       "      <td>-0.071137</td>\n",
       "      <td>-0.033842</td>\n",
       "      <td>-0.062059</td>\n",
       "      <td>0.481783</td>\n",
       "      <td>0.262964</td>\n",
       "      <td>0.450176</td>\n",
       "      <td>-0.074955</td>\n",
       "      <td>1.000000</td>\n",
       "    </tr>\n",
       "  </tbody>\n",
       "</table>\n",
       "<p>29 rows × 29 columns</p>\n",
       "</div>\n",
       "    <div class=\"colab-df-buttons\">\n",
       "\n",
       "  <div class=\"colab-df-container\">\n",
       "    <button class=\"colab-df-convert\" onclick=\"convertToInteractive('df-43cddf0b-4c98-40e3-9d3a-54cdb189d54e')\"\n",
       "            title=\"Convert this dataframe to an interactive table.\"\n",
       "            style=\"display:none;\">\n",
       "\n",
       "  <svg xmlns=\"http://www.w3.org/2000/svg\" height=\"24px\" viewBox=\"0 -960 960 960\">\n",
       "    <path d=\"M120-120v-720h720v720H120Zm60-500h600v-160H180v160Zm220 220h160v-160H400v160Zm0 220h160v-160H400v160ZM180-400h160v-160H180v160Zm440 0h160v-160H620v160ZM180-180h160v-160H180v160Zm440 0h160v-160H620v160Z\"/>\n",
       "  </svg>\n",
       "    </button>\n",
       "\n",
       "  <style>\n",
       "    .colab-df-container {\n",
       "      display:flex;\n",
       "      gap: 12px;\n",
       "    }\n",
       "\n",
       "    .colab-df-convert {\n",
       "      background-color: #E8F0FE;\n",
       "      border: none;\n",
       "      border-radius: 50%;\n",
       "      cursor: pointer;\n",
       "      display: none;\n",
       "      fill: #1967D2;\n",
       "      height: 32px;\n",
       "      padding: 0 0 0 0;\n",
       "      width: 32px;\n",
       "    }\n",
       "\n",
       "    .colab-df-convert:hover {\n",
       "      background-color: #E2EBFA;\n",
       "      box-shadow: 0px 1px 2px rgba(60, 64, 67, 0.3), 0px 1px 3px 1px rgba(60, 64, 67, 0.15);\n",
       "      fill: #174EA6;\n",
       "    }\n",
       "\n",
       "    .colab-df-buttons div {\n",
       "      margin-bottom: 4px;\n",
       "    }\n",
       "\n",
       "    [theme=dark] .colab-df-convert {\n",
       "      background-color: #3B4455;\n",
       "      fill: #D2E3FC;\n",
       "    }\n",
       "\n",
       "    [theme=dark] .colab-df-convert:hover {\n",
       "      background-color: #434B5C;\n",
       "      box-shadow: 0px 1px 3px 1px rgba(0, 0, 0, 0.15);\n",
       "      filter: drop-shadow(0px 1px 2px rgba(0, 0, 0, 0.3));\n",
       "      fill: #FFFFFF;\n",
       "    }\n",
       "  </style>\n",
       "\n",
       "    <script>\n",
       "      const buttonEl =\n",
       "        document.querySelector('#df-43cddf0b-4c98-40e3-9d3a-54cdb189d54e button.colab-df-convert');\n",
       "      buttonEl.style.display =\n",
       "        google.colab.kernel.accessAllowed ? 'block' : 'none';\n",
       "\n",
       "      async function convertToInteractive(key) {\n",
       "        const element = document.querySelector('#df-43cddf0b-4c98-40e3-9d3a-54cdb189d54e');\n",
       "        const dataTable =\n",
       "          await google.colab.kernel.invokeFunction('convertToInteractive',\n",
       "                                                    [key], {});\n",
       "        if (!dataTable) return;\n",
       "\n",
       "        const docLinkHtml = 'Like what you see? Visit the ' +\n",
       "          '<a target=\"_blank\" href=https://colab.research.google.com/notebooks/data_table.ipynb>data table notebook</a>'\n",
       "          + ' to learn more about interactive tables.';\n",
       "        element.innerHTML = '';\n",
       "        dataTable['output_type'] = 'display_data';\n",
       "        await google.colab.output.renderOutput(dataTable, element);\n",
       "        const docLink = document.createElement('div');\n",
       "        docLink.innerHTML = docLinkHtml;\n",
       "        element.appendChild(docLink);\n",
       "      }\n",
       "    </script>\n",
       "  </div>\n",
       "\n",
       "\n",
       "<div id=\"df-070c41e5-fa87-454b-a67f-073320645070\">\n",
       "  <button class=\"colab-df-quickchart\" onclick=\"quickchart('df-070c41e5-fa87-454b-a67f-073320645070')\"\n",
       "            title=\"Suggest charts\"\n",
       "            style=\"display:none;\">\n",
       "\n",
       "<svg xmlns=\"http://www.w3.org/2000/svg\" height=\"24px\"viewBox=\"0 0 24 24\"\n",
       "     width=\"24px\">\n",
       "    <g>\n",
       "        <path d=\"M19 3H5c-1.1 0-2 .9-2 2v14c0 1.1.9 2 2 2h14c1.1 0 2-.9 2-2V5c0-1.1-.9-2-2-2zM9 17H7v-7h2v7zm4 0h-2V7h2v10zm4 0h-2v-4h2v4z\"/>\n",
       "    </g>\n",
       "</svg>\n",
       "  </button>\n",
       "\n",
       "<style>\n",
       "  .colab-df-quickchart {\n",
       "      --bg-color: #E8F0FE;\n",
       "      --fill-color: #1967D2;\n",
       "      --hover-bg-color: #E2EBFA;\n",
       "      --hover-fill-color: #174EA6;\n",
       "      --disabled-fill-color: #AAA;\n",
       "      --disabled-bg-color: #DDD;\n",
       "  }\n",
       "\n",
       "  [theme=dark] .colab-df-quickchart {\n",
       "      --bg-color: #3B4455;\n",
       "      --fill-color: #D2E3FC;\n",
       "      --hover-bg-color: #434B5C;\n",
       "      --hover-fill-color: #FFFFFF;\n",
       "      --disabled-bg-color: #3B4455;\n",
       "      --disabled-fill-color: #666;\n",
       "  }\n",
       "\n",
       "  .colab-df-quickchart {\n",
       "    background-color: var(--bg-color);\n",
       "    border: none;\n",
       "    border-radius: 50%;\n",
       "    cursor: pointer;\n",
       "    display: none;\n",
       "    fill: var(--fill-color);\n",
       "    height: 32px;\n",
       "    padding: 0;\n",
       "    width: 32px;\n",
       "  }\n",
       "\n",
       "  .colab-df-quickchart:hover {\n",
       "    background-color: var(--hover-bg-color);\n",
       "    box-shadow: 0 1px 2px rgba(60, 64, 67, 0.3), 0 1px 3px 1px rgba(60, 64, 67, 0.15);\n",
       "    fill: var(--button-hover-fill-color);\n",
       "  }\n",
       "\n",
       "  .colab-df-quickchart-complete:disabled,\n",
       "  .colab-df-quickchart-complete:disabled:hover {\n",
       "    background-color: var(--disabled-bg-color);\n",
       "    fill: var(--disabled-fill-color);\n",
       "    box-shadow: none;\n",
       "  }\n",
       "\n",
       "  .colab-df-spinner {\n",
       "    border: 2px solid var(--fill-color);\n",
       "    border-color: transparent;\n",
       "    border-bottom-color: var(--fill-color);\n",
       "    animation:\n",
       "      spin 1s steps(1) infinite;\n",
       "  }\n",
       "\n",
       "  @keyframes spin {\n",
       "    0% {\n",
       "      border-color: transparent;\n",
       "      border-bottom-color: var(--fill-color);\n",
       "      border-left-color: var(--fill-color);\n",
       "    }\n",
       "    20% {\n",
       "      border-color: transparent;\n",
       "      border-left-color: var(--fill-color);\n",
       "      border-top-color: var(--fill-color);\n",
       "    }\n",
       "    30% {\n",
       "      border-color: transparent;\n",
       "      border-left-color: var(--fill-color);\n",
       "      border-top-color: var(--fill-color);\n",
       "      border-right-color: var(--fill-color);\n",
       "    }\n",
       "    40% {\n",
       "      border-color: transparent;\n",
       "      border-right-color: var(--fill-color);\n",
       "      border-top-color: var(--fill-color);\n",
       "    }\n",
       "    60% {\n",
       "      border-color: transparent;\n",
       "      border-right-color: var(--fill-color);\n",
       "    }\n",
       "    80% {\n",
       "      border-color: transparent;\n",
       "      border-right-color: var(--fill-color);\n",
       "      border-bottom-color: var(--fill-color);\n",
       "    }\n",
       "    90% {\n",
       "      border-color: transparent;\n",
       "      border-bottom-color: var(--fill-color);\n",
       "    }\n",
       "  }\n",
       "</style>\n",
       "\n",
       "  <script>\n",
       "    async function quickchart(key) {\n",
       "      const quickchartButtonEl =\n",
       "        document.querySelector('#' + key + ' button');\n",
       "      quickchartButtonEl.disabled = true;  // To prevent multiple clicks.\n",
       "      quickchartButtonEl.classList.add('colab-df-spinner');\n",
       "      try {\n",
       "        const charts = await google.colab.kernel.invokeFunction(\n",
       "            'suggestCharts', [key], {});\n",
       "      } catch (error) {\n",
       "        console.error('Error during call to suggestCharts:', error);\n",
       "      }\n",
       "      quickchartButtonEl.classList.remove('colab-df-spinner');\n",
       "      quickchartButtonEl.classList.add('colab-df-quickchart-complete');\n",
       "    }\n",
       "    (() => {\n",
       "      let quickchartButtonEl =\n",
       "        document.querySelector('#df-070c41e5-fa87-454b-a67f-073320645070 button');\n",
       "      quickchartButtonEl.style.display =\n",
       "        google.colab.kernel.accessAllowed ? 'block' : 'none';\n",
       "    })();\n",
       "  </script>\n",
       "</div>\n",
       "    </div>\n",
       "  </div>\n"
      ],
      "text/plain": [
       "                       CustomerKey  ProductKey  OrderDateKey  DueDateKey  \\\n",
       "CustomerKey               1.000000    0.052217     -0.001774    0.001979   \n",
       "ProductKey                0.052217    1.000000      0.231750    0.219959   \n",
       "OrderDateKey             -0.001774    0.231750      1.000000    0.941479   \n",
       "DueDateKey                0.001979    0.219959      0.941479    1.000000   \n",
       "ShipDateKey              -0.001942    0.225845      0.965982    0.973241   \n",
       "PromotionKey              0.014025    0.020898     -0.014860   -0.015908   \n",
       "CurrencyKey               0.099390   -0.001683      0.110514    0.108257   \n",
       "SalesTerritoryKey        -0.050912   -0.023684     -0.055401   -0.051429   \n",
       "SalesOrderLineNumber     -0.017838   -0.248350      0.230817    0.222521   \n",
       "UnitPrice                -0.035415   -0.142207     -0.644948   -0.611970   \n",
       "ExtendedAmount           -0.035415   -0.142207     -0.644948   -0.611970   \n",
       "ProductStandardCost      -0.023599   -0.132349     -0.645423   -0.612555   \n",
       "TotalProductCost         -0.023599   -0.132349     -0.645423   -0.612555   \n",
       "SalesAmount              -0.035415   -0.142207     -0.644948   -0.611970   \n",
       "TaxAmt                   -0.035415   -0.142207     -0.644948   -0.611970   \n",
       "Freight                  -0.035415   -0.142207     -0.644948   -0.611969   \n",
       "ProductSubcategoryKey    -0.006108    0.154209      0.465164    0.441110   \n",
       "StandardCost             -0.023599   -0.132349     -0.645423   -0.612555   \n",
       "SafetyStockLevel          0.040816    0.470963      0.075965    0.072237   \n",
       "ReorderPoint              0.040816    0.470963      0.075965    0.072237   \n",
       "ListPrice                -0.035415   -0.142207     -0.644948   -0.611970   \n",
       "DaysToManufacture         0.022105    0.005327     -0.499840   -0.474252   \n",
       "DealerPrice              -0.035415   -0.142207     -0.644948   -0.611970   \n",
       "GeographyKey              0.092852    0.007588      0.044184    0.041829   \n",
       "YearlyIncome             -0.079806   -0.034132     -0.009209   -0.010903   \n",
       "TotalChildren            -0.027802    0.003229      0.055421    0.054234   \n",
       "NumberChildrenAtHome     -0.055714   -0.011575      0.034186    0.034287   \n",
       "HouseOwnerFlag           -0.121817   -0.009542     -0.000687   -0.000782   \n",
       "NumberCarsOwned          -0.011667    0.005245      0.038661    0.037766   \n",
       "\n",
       "                       ShipDateKey  PromotionKey  CurrencyKey  \\\n",
       "CustomerKey              -0.001942      0.014025     0.099390   \n",
       "ProductKey                0.225845      0.020898    -0.001683   \n",
       "OrderDateKey              0.965982     -0.014860     0.110514   \n",
       "DueDateKey                0.973241     -0.015908     0.108257   \n",
       "ShipDateKey               1.000000     -0.015849     0.111758   \n",
       "PromotionKey             -0.015849      1.000000    -0.001344   \n",
       "CurrencyKey               0.111758     -0.001344     1.000000   \n",
       "SalesTerritoryKey        -0.053084      0.002893    -0.434895   \n",
       "SalesOrderLineNumber      0.227242     -0.025094     0.037910   \n",
       "UnitPrice                -0.630441      0.070681    -0.062022   \n",
       "ExtendedAmount           -0.630441      0.070681    -0.062022   \n",
       "ProductStandardCost      -0.630975      0.068746    -0.063455   \n",
       "TotalProductCost         -0.630975      0.068746    -0.063455   \n",
       "SalesAmount              -0.630441      0.070681    -0.062022   \n",
       "TaxAmt                   -0.630441      0.070681    -0.062022   \n",
       "Freight                  -0.630440      0.070681    -0.062022   \n",
       "ProductSubcategoryKey     0.454778     -0.073304     0.039100   \n",
       "StandardCost             -0.630975      0.068746    -0.063455   \n",
       "SafetyStockLevel          0.074087     -0.051392     0.012753   \n",
       "ReorderPoint              0.074087     -0.051392     0.012753   \n",
       "ListPrice                -0.630441      0.070681    -0.062022   \n",
       "DaysToManufacture        -0.488618      0.092957    -0.040847   \n",
       "DealerPrice              -0.630441      0.070681    -0.062022   \n",
       "GeographyKey              0.042679     -0.001594     0.723662   \n",
       "YearlyIncome             -0.009383     -0.002923    -0.095634   \n",
       "TotalChildren             0.058390      0.000035     0.047391   \n",
       "NumberChildrenAtHome      0.036510     -0.003290    -0.046508   \n",
       "HouseOwnerFlag            0.002580     -0.004040     0.033354   \n",
       "NumberCarsOwned           0.039531     -0.010749    -0.134602   \n",
       "\n",
       "                       SalesTerritoryKey  SalesOrderLineNumber  UnitPrice  \\\n",
       "CustomerKey                    -0.050912             -0.017838  -0.035415   \n",
       "ProductKey                     -0.023684             -0.248350  -0.142207   \n",
       "OrderDateKey                   -0.055401              0.230817  -0.644948   \n",
       "DueDateKey                     -0.051429              0.222521  -0.611970   \n",
       "ShipDateKey                    -0.053084              0.227242  -0.630441   \n",
       "PromotionKey                    0.002893             -0.025094   0.070681   \n",
       "CurrencyKey                    -0.434895              0.037910  -0.062022   \n",
       "SalesTerritoryKey               1.000000             -0.008030   0.073906   \n",
       "SalesOrderLineNumber           -0.008030              1.000000  -0.430759   \n",
       "UnitPrice                       0.073906             -0.430759   1.000000   \n",
       "ExtendedAmount                  0.073906             -0.430759   1.000000   \n",
       "ProductStandardCost             0.075988             -0.430635   0.997845   \n",
       "TotalProductCost                0.075988             -0.430635   0.997845   \n",
       "SalesAmount                     0.073906             -0.430759   1.000000   \n",
       "TaxAmt                          0.073906             -0.430759   1.000000   \n",
       "Freight                         0.073906             -0.430759   1.000000   \n",
       "ProductSubcategoryKey          -0.072455              0.359936  -0.795983   \n",
       "StandardCost                    0.075988             -0.430635   0.997845   \n",
       "SafetyStockLevel               -0.001324             -0.284590  -0.113986   \n",
       "ReorderPoint                   -0.001324             -0.284590  -0.113986   \n",
       "ListPrice                       0.073906             -0.430759   1.000000   \n",
       "DaysToManufacture               0.080685             -0.502167   0.859822   \n",
       "DealerPrice                     0.073906             -0.430759   1.000000   \n",
       "GeographyKey                   -0.809883              0.019095  -0.049720   \n",
       "YearlyIncome                   -0.058863              0.020306   0.072382   \n",
       "TotalChildren                  -0.104288              0.012885  -0.053461   \n",
       "NumberChildrenAtHome            0.138686              0.007719  -0.023700   \n",
       "HouseOwnerFlag                 -0.043113              0.005050   0.004475   \n",
       "NumberCarsOwned                 0.020182             -0.005292  -0.033842   \n",
       "\n",
       "                       ...  ReorderPoint  ListPrice  DaysToManufacture  \\\n",
       "CustomerKey            ...      0.040816  -0.035415           0.022105   \n",
       "ProductKey             ...      0.470963  -0.142207           0.005327   \n",
       "OrderDateKey           ...      0.075965  -0.644948          -0.499840   \n",
       "DueDateKey             ...      0.072237  -0.611970          -0.474252   \n",
       "ShipDateKey            ...      0.074087  -0.630441          -0.488618   \n",
       "PromotionKey           ...     -0.051392   0.070681           0.092957   \n",
       "CurrencyKey            ...      0.012753  -0.062022          -0.040847   \n",
       "SalesTerritoryKey      ...     -0.001324   0.073906           0.080685   \n",
       "SalesOrderLineNumber   ...     -0.284590  -0.430759          -0.502167   \n",
       "UnitPrice              ...     -0.113986   1.000000           0.859822   \n",
       "ExtendedAmount         ...     -0.113986   1.000000           0.859822   \n",
       "ProductStandardCost    ...     -0.114421   0.997845           0.860575   \n",
       "TotalProductCost       ...     -0.114421   0.997845           0.860575   \n",
       "SalesAmount            ...     -0.113986   1.000000           0.859822   \n",
       "TaxAmt                 ...     -0.113986   1.000000           0.859822   \n",
       "Freight                ...     -0.113986   1.000000           0.859822   \n",
       "ProductSubcategoryKey  ...      0.391479  -0.795983          -0.921485   \n",
       "StandardCost           ...     -0.114421   0.997845           0.860575   \n",
       "SafetyStockLevel       ...      1.000000  -0.113986          -0.128089   \n",
       "ReorderPoint           ...      1.000000  -0.113986          -0.128089   \n",
       "ListPrice              ...     -0.113986   1.000000           0.859822   \n",
       "DaysToManufacture      ...     -0.128089   0.859822           1.000000   \n",
       "DealerPrice            ...     -0.113986   1.000000           0.859822   \n",
       "GeographyKey           ...     -0.001023  -0.049720          -0.042623   \n",
       "YearlyIncome           ...     -0.037308   0.072382           0.023239   \n",
       "TotalChildren          ...      0.011203  -0.053461          -0.076611   \n",
       "NumberChildrenAtHome   ...      0.018341  -0.023700          -0.046694   \n",
       "HouseOwnerFlag         ...     -0.009968   0.004475           0.000612   \n",
       "NumberCarsOwned        ...      0.029583  -0.033842          -0.071137   \n",
       "\n",
       "                       DealerPrice  GeographyKey  YearlyIncome  TotalChildren  \\\n",
       "CustomerKey              -0.035415      0.092852     -0.079806      -0.027802   \n",
       "ProductKey               -0.142207      0.007588     -0.034132       0.003229   \n",
       "OrderDateKey             -0.644948      0.044184     -0.009209       0.055421   \n",
       "DueDateKey               -0.611970      0.041829     -0.010903       0.054234   \n",
       "ShipDateKey              -0.630441      0.042679     -0.009383       0.058390   \n",
       "PromotionKey              0.070681     -0.001594     -0.002923       0.000035   \n",
       "CurrencyKey              -0.062022      0.723662     -0.095634       0.047391   \n",
       "SalesTerritoryKey         0.073906     -0.809883     -0.058863      -0.104288   \n",
       "SalesOrderLineNumber     -0.430759      0.019095      0.020306       0.012885   \n",
       "UnitPrice                 1.000000     -0.049720      0.072382      -0.053461   \n",
       "ExtendedAmount            1.000000     -0.049720      0.072382      -0.053461   \n",
       "ProductStandardCost       0.997845     -0.051522      0.069583      -0.055314   \n",
       "TotalProductCost          0.997845     -0.051522      0.069583      -0.055314   \n",
       "SalesAmount               1.000000     -0.049720      0.072382      -0.053461   \n",
       "TaxAmt                    1.000000     -0.049720      0.072382      -0.053461   \n",
       "Freight                   1.000000     -0.049720      0.072382      -0.053461   \n",
       "ProductSubcategoryKey    -0.795983      0.037263     -0.029705       0.073735   \n",
       "StandardCost              0.997845     -0.051522      0.069583      -0.055314   \n",
       "SafetyStockLevel         -0.113986     -0.001023     -0.037308       0.011203   \n",
       "ReorderPoint             -0.113986     -0.001023     -0.037308       0.011203   \n",
       "ListPrice                 1.000000     -0.049720      0.072382      -0.053461   \n",
       "DaysToManufacture         0.859822     -0.042623      0.023239      -0.076611   \n",
       "DealerPrice               1.000000     -0.049720      0.072382      -0.053461   \n",
       "GeographyKey             -0.049720      1.000000      0.014728       0.068196   \n",
       "YearlyIncome              0.072382      0.014728      1.000000       0.214153   \n",
       "TotalChildren            -0.053461      0.068196      0.214153       1.000000   \n",
       "NumberChildrenAtHome     -0.023700     -0.098646      0.482927       0.461643   \n",
       "HouseOwnerFlag            0.004475      0.036532      0.035928       0.181704   \n",
       "NumberCarsOwned          -0.033842     -0.062059      0.481783       0.262964   \n",
       "\n",
       "                       NumberChildrenAtHome  HouseOwnerFlag  NumberCarsOwned  \n",
       "CustomerKey                       -0.055714       -0.121817        -0.011667  \n",
       "ProductKey                        -0.011575       -0.009542         0.005245  \n",
       "OrderDateKey                       0.034186       -0.000687         0.038661  \n",
       "DueDateKey                         0.034287       -0.000782         0.037766  \n",
       "ShipDateKey                        0.036510        0.002580         0.039531  \n",
       "PromotionKey                      -0.003290       -0.004040        -0.010749  \n",
       "CurrencyKey                       -0.046508        0.033354        -0.134602  \n",
       "SalesTerritoryKey                  0.138686       -0.043113         0.020182  \n",
       "SalesOrderLineNumber               0.007719        0.005050        -0.005292  \n",
       "UnitPrice                         -0.023700        0.004475        -0.033842  \n",
       "ExtendedAmount                    -0.023700        0.004475        -0.033842  \n",
       "ProductStandardCost               -0.024678        0.003090        -0.036252  \n",
       "TotalProductCost                  -0.024678        0.003090        -0.036252  \n",
       "SalesAmount                       -0.023700        0.004475        -0.033842  \n",
       "TaxAmt                            -0.023700        0.004475        -0.033842  \n",
       "Freight                           -0.023700        0.004475        -0.033842  \n",
       "ProductSubcategoryKey              0.047151       -0.003368         0.075799  \n",
       "StandardCost                      -0.024678        0.003090        -0.036252  \n",
       "SafetyStockLevel                   0.018341       -0.009968         0.029583  \n",
       "ReorderPoint                       0.018341       -0.009968         0.029583  \n",
       "ListPrice                         -0.023700        0.004475        -0.033842  \n",
       "DaysToManufacture                 -0.046694        0.000612        -0.071137  \n",
       "DealerPrice                       -0.023700        0.004475        -0.033842  \n",
       "GeographyKey                      -0.098646        0.036532        -0.062059  \n",
       "YearlyIncome                       0.482927        0.035928         0.481783  \n",
       "TotalChildren                      0.461643        0.181704         0.262964  \n",
       "NumberChildrenAtHome               1.000000        0.126291         0.450176  \n",
       "HouseOwnerFlag                     0.126291        1.000000        -0.074955  \n",
       "NumberCarsOwned                    0.450176       -0.074955         1.000000  \n",
       "\n",
       "[29 rows x 29 columns]"
      ]
     },
     "execution_count": 92,
     "metadata": {},
     "output_type": "execute_result"
    }
   ],
   "source": [
    "# Plotting correlation for the Dataframe\n",
    "pandas_df = df_234.toPandas()\n",
    "correlation = pandas_df.select_dtypes('number').corr()\n",
    "correlation"
   ]
  },
  {
   "cell_type": "code",
   "execution_count": null,
   "metadata": {
    "colab": {
     "base_uri": "https://localhost:8080/",
     "height": 591
    },
    "executionInfo": {
     "elapsed": 1857,
     "status": "ok",
     "timestamp": 1705092996176,
     "user": {
      "displayName": "Bukola Babalola",
      "userId": "06679246117258314799"
     },
     "user_tz": 0
    },
    "id": "-DFHR7a-dWma",
    "outputId": "7db9cfa5-29bb-4da9-faec-dc431cc177b3"
   },
   "outputs": [
    {
     "data": {
      "image/png": "[encoded data removed]",
      "text/plain": [
       "<Figure size 640x480 with 2 Axes>"
      ]
     },
     "metadata": {},
     "output_type": "display_data"
    }
   ],
   "source": [
    "# Creating a heatmap to visually represent the correlation matrix\n",
    "sns.heatmap(correlation);"
   ]
  },
  {
   "cell_type": "code",
   "execution_count": null,
   "metadata": {
    "id": "4jl749S_dlLk"
   },
   "outputs": [],
   "source": []
  },
  {
   "cell_type": "markdown",
   "metadata": {
    "id": "wRojtfOidyEO"
   },
   "source": [
    "## **LINEAR REGRESSION MODEL**"
   ]
  },
  {
   "cell_type": "markdown",
   "metadata": {
    "id": "E_uypFyJd6gZ"
   },
   "source": [
    "### **DATA PREPROCESSING**"
   ]
  },
  {
   "cell_type": "code",
   "execution_count": null,
   "metadata": {
    "id": "wqQvWkiHd9Ke"
   },
   "outputs": [],
   "source": [
    "# Encoding the Categorical columns into numerical columns\n",
    "from pyspark.ml.feature import StringIndexer\n",
    "\n",
    "indexer = StringIndexer(inputCols=['MaritalStatus', 'Gender', 'EnglishEducation', 'SpanishEducation', 'FrenchEducation', 'EnglishOccupation', 'SpanishOccupation', 'FrenchOccupation'],\n",
    "                       outputCols=['MaritalStatus_indexed', 'Gender_indexed', 'EnglishEducation_indexed', 'SpanishEducation_indexed', 'FrenchEducation_indexed', 'EnglishOccupation_indexed',\n",
    "                                  'SpanishOccupation_indexed', 'FrenchOccupation_indexed'] )\n",
    "\n",
    "df_234_new = indexer.fit(df_234).transform(df_234)"
   ]
  },
  {
   "cell_type": "markdown",
   "metadata": {
    "id": "loDN7F73d4ch"
   },
   "source": []
  },
  {
   "cell_type": "code",
   "execution_count": null,
   "metadata": {
    "colab": {
     "base_uri": "https://localhost:8080/"
    },
    "executionInfo": {
     "elapsed": 3926,
     "status": "ok",
     "timestamp": 1705093148532,
     "user": {
      "displayName": "Bukola Babalola",
      "userId": "06679246117258314799"
     },
     "user_tz": 0
    },
    "id": "UC29cEh6eJGH",
    "outputId": "c2ad57ca-8dd7-4f34-e6f6-eb776377d34d"
   },
   "outputs": [
    {
     "name": "stdout",
     "output_type": "stream",
     "text": [
      "+-----------+----------+------------+----------+-----------+------------+-----------+-----------------+----------------+--------------------+---------+--------------+-------------------+----------------+-----------+--------+-------+---------------------+----------------+-------------------+-------------------+-------------------+-------------------+---------------------+--------------------+------------+-----------------+------+----------------+------------+---------+---------+-----------------+-----------+-----------+------------+--------------------+----------------+------------+--------------------+----------+-------------+------+------------+-------------+--------------------+-------------------+--------------------+---------------+-----------------+--------------------+----------------+--------------+---------------+-----------------+---------------+---------------------+--------------+------------------------+------------------------+-----------------------+-------------------------+-------------------------+------------------------+\n",
      "|CustomerKey|ProductKey|OrderDateKey|DueDateKey|ShipDateKey|PromotionKey|CurrencyKey|SalesTerritoryKey|SalesOrderNumber|SalesOrderLineNumber|UnitPrice|ExtendedAmount|ProductStandardCost|TotalProductCost|SalesAmount|  TaxAmt|Freight|CarrierTrackingNumber|CustomerPONumber|          OrderDate|            DueDate|           ShipDate|ProductAlternateKey|ProductSubcategoryKey|  EnglishProductName|StandardCost|FinishedGoodsFlag| Color|SafetyStockLevel|ReorderPoint|ListPrice|SizeRange|DaysToManufacture|ProductLine|DealerPrice|   ModelName|  EnglishDescription|       StartDate|GeographyKey|CustomerAlternateKey| BirthDate|MaritalStatus|Gender|YearlyIncome|TotalChildren|NumberChildrenAtHome|   EnglishEducation|    SpanishEducation|FrenchEducation|EnglishOccupation|   SpanishOccupation|FrenchOccupation|HouseOwnerFlag|NumberCarsOwned|DateFirstPurchase|CommuteDistance|MaritalStatus_indexed|Gender_indexed|EnglishEducation_indexed|SpanishEducation_indexed|FrenchEducation_indexed|EnglishOccupation_indexed|SpanishOccupation_indexed|FrenchOccupation_indexed|\n",
      "+-----------+----------+------------+----------+-----------+------------+-----------+-----------------+----------------+--------------------+---------+--------------+-------------------+----------------+-----------+--------+-------+---------------------+----------------+-------------------+-------------------+-------------------+-------------------+---------------------+--------------------+------------+-----------------+------+----------------+------------+---------+---------+-----------------+-----------+-----------+------------+--------------------+----------------+------------+--------------------+----------+-------------+------+------------+-------------+--------------------+-------------------+--------------------+---------------+-----------------+--------------------+----------------+--------------+---------------+-----------------+---------------+---------------------+--------------+------------------------+------------------------+-----------------------+-------------------------+-------------------------+------------------------+\n",
      "|      21768|       310|    20101229|  20110110|   20110105|           1|         19|                6|         SO43697|                   1|  3578.27|       3578.27|          2171.2942|       2171.2942|    3578.27|286.2616|89.4568|                 NULL|            NULL|2010-12-29 00:00:00|2011-01-10 00:00:00|2011-01-05 00:00:00|         BK-R93R-62|                    2|    Road-150 Red, 62|   2171.2942|             true|   Red|             100|          75|  3578.27| 60-62 CM|                4|         R |   2146.962|    Road-150|This bike is ridd...|01/07/2005 00:00|          53|          AW00021768|1946-08-22|            S|     M|       70000|            5|                   0|          Bachelors|        Licenciatura|        Bac + 4|       Management|             Gesti�n|       Direction|             1|              3|       2005-07-01|      10+ Miles|                  1.0|           0.0|                     0.0|                     0.0|                    0.0|                      2.0|                      2.0|                     2.0|\n",
      "|      28389|       346|    20101229|  20110110|   20110105|           1|         39|                7|         SO43698|                   1|  3399.99|       3399.99|          1912.1544|       1912.1544|    3399.99|271.9992|84.9998|                 NULL|            NULL|2010-12-29 00:00:00|2011-01-10 00:00:00|2011-01-05 00:00:00|         BK-M82S-44|                    1|Mountain-100 Silv...|   1912.1544|             true|Silver|             100|          75|  3399.99| 42-46 CM|                4|         M |   2039.994|Mountain-100|Top-of-the-line c...|01/07/2005 00:00|         222|          AW00028389|1964-12-18|            S|     F|       20000|            3|                   3|        High School|Educaci�n secundaria|        Bac + 2|           Manual|              Obrero|         Ouvrier|             0|              0|       2005-07-01|      0-1 Miles|                  1.0|           1.0|                     3.0|                     3.0|                    3.0|                      4.0|                      4.0|                     4.0|\n",
      "|      25863|       346|    20101229|  20110110|   20110105|           1|        100|                1|         SO43699|                   1|  3399.99|       3399.99|          1912.1544|       1912.1544|    3399.99|271.9992|84.9998|                 NULL|            NULL|2010-12-29 00:00:00|2011-01-10 00:00:00|2011-01-05 00:00:00|         BK-M82S-44|                    1|Mountain-100 Silv...|   1912.1544|             true|Silver|             100|          75|  3399.99| 42-46 CM|                4|         M |   2039.994|Mountain-100|Top-of-the-line c...|01/07/2005 00:00|         543|          AW00025863|1946-12-03|            S|     F|       40000|            5|                   0|        High School|Educaci�n secundaria|        Bac + 2|     Professional|         Profesional|           Cadre|             1|              3|       2005-07-01|      10+ Miles|                  1.0|           1.0|                     3.0|                     3.0|                    3.0|                      0.0|                      0.0|                     0.0|\n",
      "|      14501|       336|    20101229|  20110110|   20110105|           1|        100|                4|         SO43700|                   1| 699.0982|      699.0982|           413.1463|        413.1463|   699.0982| 55.9279|17.4775|                 NULL|            NULL|2010-12-29 00:00:00|2011-01-10 00:00:00|2011-01-05 00:00:00|         BK-R50B-62|                    2|  Road-650 Black, 62|    413.1463|             true| Black|             100|          75| 699.0982| 60-62 CM|                4|         R |   419.4589|    Road-650|Value-priced bike...|01/07/2005 00:00|         300|          AW00014501|1938-05-13|            M|     M|       80000|            4|                   0|    Graduate Degree|Estudios de postg...|        Bac + 3|       Management|             Gesti�n|       Direction|             1|              2|       2005-07-01|      1-2 Miles|                  0.0|           0.0|                     2.0|                     2.0|                    2.0|                      2.0|                      2.0|                     2.0|\n",
      "|      11003|       346|    20101229|  20110110|   20110105|           1|          6|                9|         SO43701|                   1|  3399.99|       3399.99|          1912.1544|       1912.1544|    3399.99|271.9992|84.9998|                 NULL|            NULL|2010-12-29 00:00:00|2011-01-10 00:00:00|2011-01-05 00:00:00|         BK-M82S-44|                    1|Mountain-100 Silv...|   1912.1544|             true|Silver|             100|          75|  3399.99| 42-46 CM|                4|         M |   2039.994|Mountain-100|Top-of-the-line c...|01/07/2005 00:00|          11|          AW00011003|1968-02-15|            S|     F|       70000|            0|                   0|          Bachelors|        Licenciatura|        Bac + 4|     Professional|         Profesional|           Cadre|             0|              1|       2005-07-01|     5-10 Miles|                  1.0|           1.0|                     0.0|                     0.0|                    0.0|                      0.0|                      0.0|                     0.0|\n",
      "|      27645|       311|    20101230|  20110111|   20110106|           1|        100|                4|         SO43702|                   1|  3578.27|       3578.27|          2171.2942|       2171.2942|    3578.27|286.2616|89.4568|                 NULL|            NULL|2010-12-30 00:00:00|2011-01-11 00:00:00|2011-01-06 00:00:00|         BK-R93R-44|                    2|    Road-150 Red, 44|   2171.2942|             true|   Red|             100|          75|  3578.27| 42-46 CM|                4|         R |   2146.962|    Road-150|This bike is ridd...|01/07/2005 00:00|         312|          AW00027645|1961-08-18|            M|     M|      120000|            1|                   3|        High School|Educaci�n secundaria|        Bac + 2|     Professional|         Profesional|           Cadre|             1|              4|       2005-07-02|     5-10 Miles|                  0.0|           0.0|                     3.0|                     3.0|                    3.0|                      0.0|                      0.0|                     0.0|\n",
      "|      16624|       310|    20101230|  20110111|   20110106|           1|          6|                9|         SO43703|                   1|  3578.27|       3578.27|          2171.2942|       2171.2942|    3578.27|286.2616|89.4568|                 NULL|            NULL|2010-12-30 00:00:00|2011-01-11 00:00:00|2011-01-06 00:00:00|         BK-R93R-62|                    2|    Road-150 Red, 62|   2171.2942|             true|   Red|             100|          75|  3578.27| 60-62 CM|                4|         R |   2146.962|    Road-150|This bike is ridd...|01/07/2005 00:00|          30|          AW00016624|1972-07-27|            S|     M|       90000|            0|                   0|          Bachelors|        Licenciatura|        Bac + 4|     Professional|         Profesional|           Cadre|             0|              3|       2005-07-02|      10+ Miles|                  1.0|           0.0|                     0.0|                     0.0|                    0.0|                      0.0|                      0.0|                     0.0|\n",
      "|      11005|       351|    20101230|  20110111|   20110106|           1|          6|                9|         SO43704|                   1|  3374.99|       3374.99|          1898.0944|       1898.0944|    3374.99|269.9992|84.3748|                 NULL|            NULL|2010-12-30 00:00:00|2011-01-11 00:00:00|2011-01-06 00:00:00|         BK-M82B-48|                    1|Mountain-100 Blac...|   1898.0944|             true| Black|             100|          75|  3374.99| 48-52 CM|                4|         M |   2024.994|Mountain-100|Top-of-the-line c...|01/07/2005 00:00|          22|          AW00011005|1965-08-05|            S|     M|       70000|            0|                   0|          Bachelors|        Licenciatura|        Bac + 4|     Professional|         Profesional|           Cadre|             1|              1|       2005-07-02|     5-10 Miles|                  1.0|           0.0|                     0.0|                     0.0|                    0.0|                      0.0|                      0.0|                     0.0|\n",
      "|      11011|       344|    20101230|  20110111|   20110106|           1|          6|                9|         SO43705|                   1|  3399.99|       3399.99|          1912.1544|       1912.1544|    3399.99|271.9992|84.9998|                 NULL|            NULL|2010-12-30 00:00:00|2011-01-11 00:00:00|2011-01-06 00:00:00|         BK-M82S-38|                    1|Mountain-100 Silv...|   1912.1544|             true|Silver|             100|          75|  3399.99| 38-40 CM|                4|         M |   2039.994|Mountain-100|Top-of-the-line c...|01/07/2005 00:00|          22|          AW00011011|1963-11-04|            M|     M|       60000|            4|                   4|          Bachelors|        Licenciatura|        Bac + 4|     Professional|         Profesional|           Cadre|             1|              4|       2005-07-02|      10+ Miles|                  0.0|           0.0|                     0.0|                     0.0|                    0.0|                      0.0|                      0.0|                     0.0|\n",
      "|      27621|       312|    20101231|  20110112|   20110107|           1|        100|                4|         SO43706|                   1|  3578.27|       3578.27|          2171.2942|       2171.2942|    3578.27|286.2616|89.4568|                 NULL|            NULL|2010-12-31 00:00:00|2011-01-12 00:00:00|2011-01-07 00:00:00|         BK-R93R-48|                    2|    Road-150 Red, 48|   2171.2942|             true|   Red|             100|          75|  3578.27| 48-52 CM|                4|         R |   2146.962|    Road-150|This bike is ridd...|01/07/2005 00:00|         369|          AW00027621|1964-01-27|            S|     M|      160000|            0|                   0|    Graduate Degree|Estudios de postg...|        Bac + 3|       Management|             Gesti�n|       Direction|             0|              4|       2005-07-03|      1-2 Miles|                  1.0|           0.0|                     2.0|                     2.0|                    2.0|                      2.0|                      2.0|                     2.0|\n",
      "|      27616|       312|    20101231|  20110112|   20110107|           1|        100|                4|         SO43707|                   1|  3578.27|       3578.27|          2171.2942|       2171.2942|    3578.27|286.2616|89.4568|                 NULL|            NULL|2010-12-31 00:00:00|2011-01-12 00:00:00|2011-01-07 00:00:00|         BK-R93R-48|                    2|    Road-150 Red, 48|   2171.2942|             true|   Red|             100|          75|  3578.27| 48-52 CM|                4|         R |   2146.962|    Road-150|This bike is ridd...|01/07/2005 00:00|         335|          AW00027616|1965-12-11|            S|     F|      120000|            3|                   2|          Bachelors|        Licenciatura|        Bac + 4|       Management|             Gesti�n|       Direction|             1|              4|       2005-07-03|      2-5 Miles|                  1.0|           1.0|                     0.0|                     0.0|                    0.0|                      2.0|                      2.0|                     2.0|\n",
      "|      20042|       330|    20101231|  20110112|   20110107|           1|         98|               10|         SO43708|                   1| 699.0982|      699.0982|           413.1463|        413.1463|   699.0982| 55.9279|17.4775|                 NULL|            NULL|2010-12-31 00:00:00|2011-01-12 00:00:00|2011-01-07 00:00:00|         BK-R50R-52|                    2|    Road-650 Red, 52|    413.1463|             true|   Red|             100|          75| 699.0982| 48-52 CM|                4|         R |   419.4589|    Road-650|Value-priced bike...|01/07/2005 00:00|         268|          AW00020042|1974-05-04|            M|     M|       40000|            1|                   1|          Bachelors|        Licenciatura|        Bac + 4|   Skilled Manual|Obrero especializado|      Technicien|             1|              0|       2005-07-03|      1-2 Miles|                  0.0|           0.0|                     0.0|                     0.0|                    0.0|                      1.0|                      1.0|                     1.0|\n",
      "|      16351|       313|    20101231|  20110112|   20110107|           1|          6|                9|         SO43709|                   1|  3578.27|       3578.27|          2171.2942|       2171.2942|    3578.27|286.2616|89.4568|                 NULL|            NULL|2010-12-31 00:00:00|2011-01-12 00:00:00|2011-01-07 00:00:00|         BK-R93R-52|                    2|    Road-150 Red, 52|   2171.2942|             true|   Red|             100|          75|  3578.27| 48-52 CM|                4|         R |   2146.962|    Road-150|This bike is ridd...|01/07/2005 00:00|          26|          AW00016351|1954-07-07|            S|     F|       80000|            2|                   0|    Partial College|Estudios universi...|   Baccalaur�at|   Skilled Manual|Obrero especializado|      Technicien|             0|              2|       2005-07-03|      1-2 Miles|                  1.0|           1.0|                     1.0|                     1.0|                    1.0|                      1.0|                      1.0|                     1.0|\n",
      "|      16517|       314|    20101231|  20110112|   20110107|           1|          6|                9|         SO43710|                   1|  3578.27|       3578.27|          2171.2942|       2171.2942|    3578.27|286.2616|89.4568|                 NULL|            NULL|2010-12-31 00:00:00|2011-01-12 00:00:00|2011-01-07 00:00:00|         BK-R93R-56|                    2|    Road-150 Red, 56|   2171.2942|             true|   Red|             100|          75|  3578.27| 54-58 CM|                4|         R |   2146.962|    Road-150|This bike is ridd...|01/07/2005 00:00|          19|          AW00016517|1976-03-19|            M|     F|       10000|            1|                   1|        High School|Educaci�n secundaria|        Bac + 2|           Manual|              Obrero|         Ouvrier|             1|              0|       2005-07-03|      2-5 Miles|                  0.0|           1.0|                     3.0|                     3.0|                    3.0|                      4.0|                      4.0|                     4.0|\n",
      "|      27606|       314|    20110101|  20110113|   20110108|           1|        100|                1|         SO43711|                   1|  3578.27|       3578.27|          2171.2942|       2171.2942|    3578.27|286.2616|89.4568|                 NULL|            NULL|2011-01-01 00:00:00|2011-01-13 00:00:00|2011-01-08 00:00:00|         BK-R93R-56|                    2|    Road-150 Red, 56|   2171.2942|             true|   Red|             100|          75|  3578.27| 54-58 CM|                4|         R |   2146.962|    Road-150|This bike is ridd...|01/07/2005 00:00|         545|          AW00027606|1957-05-27|            S|     F|       70000|            2|                   1|    Partial College|Estudios universi...|   Baccalaur�at|     Professional|         Profesional|           Cadre|             0|              0|       2005-07-04|      0-1 Miles|                  1.0|           1.0|                     1.0|                     1.0|                    1.0|                      0.0|                      0.0|                     0.0|\n",
      "|      13513|       311|    20110101|  20110113|   20110108|           1|         29|                8|         SO43712|                   1|  3578.27|       3578.27|          2171.2942|       2171.2942|    3578.27|286.2616|89.4568|                 NULL|            NULL|2011-01-01 00:00:00|2011-01-13 00:00:00|2011-01-08 00:00:00|         BK-R93R-44|                    2|    Road-150 Red, 44|   2171.2942|             true|   Red|             100|          75|  3578.27| 42-46 CM|                4|         R |   2146.962|    Road-150|This bike is ridd...|01/07/2005 00:00|         162|          AW00013513|1941-09-08|            M|     F|       30000|            1|                   0|          Bachelors|        Licenciatura|        Bac + 4|         Clerical|      Administrativo|         Employ�|             1|              0|       2005-07-04|      0-1 Miles|                  0.0|           1.0|                     0.0|                     0.0|                    0.0|                      3.0|                      3.0|                     3.0|\n",
      "|      27601|       310|    20110102|  20110114|   20110109|           1|        100|                4|         SO43713|                   1|  3578.27|       3578.27|          2171.2942|       2171.2942|    3578.27|286.2616|89.4568|                 NULL|            NULL|2011-01-02 00:00:00|2011-01-14 00:00:00|2011-01-09 00:00:00|         BK-R93R-62|                    2|    Road-150 Red, 62|   2171.2942|             true|   Red|             100|          75|  3578.27| 60-62 CM|                4|         R |   2146.962|    Road-150|This bike is ridd...|01/07/2005 00:00|         301|          AW00027601|1953-11-10|            S|     F|       60000|            3|                   1|Partial High School|Educaci�n secunda...|     Niveau bac|   Skilled Manual|Obrero especializado|      Technicien|             0|              3|       2005-07-05|      2-5 Miles|                  1.0|           1.0|                     4.0|                     4.0|                    4.0|                      1.0|                      1.0|                     1.0|\n",
      "|      13591|       311|    20110102|  20110114|   20110109|           1|         98|               10|         SO43714|                   1|  3578.27|       3578.27|          2171.2942|       2171.2942|    3578.27|286.2616|89.4568|                 NULL|            NULL|2011-01-02 00:00:00|2011-01-14 00:00:00|2011-01-09 00:00:00|         BK-R93R-44|                    2|    Road-150 Red, 44|   2171.2942|             true|   Red|             100|          75|  3578.27| 42-46 CM|                4|         R |   2146.962|    Road-150|This bike is ridd...|01/07/2005 00:00|         278|          AW00013591|1953-05-25|            M|     F|      170000|            0|                   5|          Bachelors|        Licenciatura|        Bac + 4|       Management|             Gesti�n|       Direction|             1|              3|       2005-07-05|      0-1 Miles|                  0.0|           1.0|                     0.0|                     0.0|                    0.0|                      2.0|                      2.0|                     2.0|\n",
      "|      16483|       314|    20110102|  20110114|   20110109|           1|          6|                9|         SO43715|                   1|  3578.27|       3578.27|          2171.2942|       2171.2942|    3578.27|286.2616|89.4568|                 NULL|            NULL|2011-01-02 00:00:00|2011-01-14 00:00:00|2011-01-09 00:00:00|         BK-R93R-56|                    2|    Road-150 Red, 56|   2171.2942|             true|   Red|             100|          75|  3578.27| 54-58 CM|                4|         R |   2146.962|    Road-150|This bike is ridd...|01/07/2005 00:00|          35|          AW00016483|1950-10-17|            M|     M|       40000|            2|                   0|          Bachelors|        Licenciatura|        Bac + 4|       Management|             Gesti�n|       Direction|             1|              2|       2005-07-05|     5-10 Miles|                  0.0|           0.0|                     0.0|                     0.0|                    0.0|                      2.0|                      2.0|                     2.0|\n",
      "|      16529|       311|    20110102|  20110114|   20110109|           1|          6|                9|         SO43716|                   1|  3578.27|       3578.27|          2171.2942|       2171.2942|    3578.27|286.2616|89.4568|                 NULL|            NULL|2011-01-02 00:00:00|2011-01-14 00:00:00|2011-01-09 00:00:00|         BK-R93R-44|                    2|    Road-150 Red, 44|   2171.2942|             true|   Red|             100|          75|  3578.27| 42-46 CM|                4|         R |   2146.962|    Road-150|This bike is ridd...|01/07/2005 00:00|           4|          AW00016529|1977-07-28|            M|     M|       20000|            0|                   0|          Bachelors|        Licenciatura|        Bac + 4|         Clerical|      Administrativo|         Employ�|             1|              0|       2005-07-05|      0-1 Miles|                  0.0|           0.0|                     0.0|                     0.0|                    0.0|                      3.0|                      3.0|                     3.0|\n",
      "+-----------+----------+------------+----------+-----------+------------+-----------+-----------------+----------------+--------------------+---------+--------------+-------------------+----------------+-----------+--------+-------+---------------------+----------------+-------------------+-------------------+-------------------+-------------------+---------------------+--------------------+------------+-----------------+------+----------------+------------+---------+---------+-----------------+-----------+-----------+------------+--------------------+----------------+------------+--------------------+----------+-------------+------+------------+-------------+--------------------+-------------------+--------------------+---------------+-----------------+--------------------+----------------+--------------+---------------+-----------------+---------------+---------------------+--------------+------------------------+------------------------+-----------------------+-------------------------+-------------------------+------------------------+\n",
      "only showing top 20 rows\n",
      "\n"
     ]
    }
   ],
   "source": [
    "df_234_new.show()"
   ]
  },
  {
   "cell_type": "code",
   "execution_count": null,
   "metadata": {
    "id": "sUBm95B3eJ4h"
   },
   "outputs": [],
   "source": [
    "# Features to train the model, and the target variable\n",
    "feature_column = ['ProductKey','UnitPrice','TaxAmt','Freight','YearlyIncome','MaritalStatus_indexed', 'Gender_indexed', 'EnglishEducation_indexed', 'SpanishEducation_indexed',\n",
    "                  'FrenchEducation_indexed', 'EnglishOccupation_indexed', 'SpanishOccupation_indexed', 'FrenchOccupation_indexed']\n",
    "\n",
    "\n",
    "\n",
    "target_variable = 'SalesAmount'"
   ]
  },
  {
   "cell_type": "code",
   "execution_count": null,
   "metadata": {
    "colab": {
     "base_uri": "https://localhost:8080/"
    },
    "executionInfo": {
     "elapsed": 5993,
     "status": "ok",
     "timestamp": 1705093206043,
     "user": {
      "displayName": "Bukola Babalola",
      "userId": "06679246117258314799"
     },
     "user_tz": 0
    },
    "id": "kWx5JI_TeRr2",
    "outputId": "a5582a85-7ef3-4aa6-c038-e7ba54eb504e"
   },
   "outputs": [
    {
     "name": "stdout",
     "output_type": "stream",
     "text": [
      "+-----------+----------+------------+----------+-----------+------------+-----------+-----------------+----------------+--------------------+---------+--------------+-------------------+----------------+-----------+--------+-------+---------------------+----------------+-------------------+-------------------+-------------------+-------------------+---------------------+--------------------+------------+-----------------+------+----------------+------------+---------+---------+-----------------+-----------+-----------+------------+--------------------+----------------+------------+--------------------+----------+-------------+------+------------+-------------+--------------------+----------------+--------------------+---------------+-----------------+-----------------+----------------+--------------+---------------+-----------------+---------------+---------------------+--------------+------------------------+------------------------+-----------------------+-------------------------+-------------------------+------------------------+--------------------+\n",
      "|CustomerKey|ProductKey|OrderDateKey|DueDateKey|ShipDateKey|PromotionKey|CurrencyKey|SalesTerritoryKey|SalesOrderNumber|SalesOrderLineNumber|UnitPrice|ExtendedAmount|ProductStandardCost|TotalProductCost|SalesAmount|  TaxAmt|Freight|CarrierTrackingNumber|CustomerPONumber|          OrderDate|            DueDate|           ShipDate|ProductAlternateKey|ProductSubcategoryKey|  EnglishProductName|StandardCost|FinishedGoodsFlag| Color|SafetyStockLevel|ReorderPoint|ListPrice|SizeRange|DaysToManufacture|ProductLine|DealerPrice|   ModelName|  EnglishDescription|       StartDate|GeographyKey|CustomerAlternateKey| BirthDate|MaritalStatus|Gender|YearlyIncome|TotalChildren|NumberChildrenAtHome|EnglishEducation|    SpanishEducation|FrenchEducation|EnglishOccupation|SpanishOccupation|FrenchOccupation|HouseOwnerFlag|NumberCarsOwned|DateFirstPurchase|CommuteDistance|MaritalStatus_indexed|Gender_indexed|EnglishEducation_indexed|SpanishEducation_indexed|FrenchEducation_indexed|EnglishOccupation_indexed|SpanishOccupation_indexed|FrenchOccupation_indexed|      feature_column|\n",
      "+-----------+----------+------------+----------+-----------+------------+-----------+-----------------+----------------+--------------------+---------+--------------+-------------------+----------------+-----------+--------+-------+---------------------+----------------+-------------------+-------------------+-------------------+-------------------+---------------------+--------------------+------------+-----------------+------+----------------+------------+---------+---------+-----------------+-----------+-----------+------------+--------------------+----------------+------------+--------------------+----------+-------------+------+------------+-------------+--------------------+----------------+--------------------+---------------+-----------------+-----------------+----------------+--------------+---------------+-----------------+---------------+---------------------+--------------+------------------------+------------------------+-----------------------+-------------------------+-------------------------+------------------------+--------------------+\n",
      "|      21768|       310|    20101229|  20110110|   20110105|           1|         19|                6|         SO43697|                   1|  3578.27|       3578.27|          2171.2942|       2171.2942|    3578.27|286.2616|89.4568|                 NULL|            NULL|2010-12-29 00:00:00|2011-01-10 00:00:00|2011-01-05 00:00:00|         BK-R93R-62|                    2|    Road-150 Red, 62|   2171.2942|             true|   Red|             100|          75|  3578.27| 60-62 CM|                4|         R |   2146.962|    Road-150|This bike is ridd...|01/07/2005 00:00|          53|          AW00021768|1946-08-22|            S|     M|       70000|            5|                   0|       Bachelors|        Licenciatura|        Bac + 4|       Management|          Gesti�n|       Direction|             1|              3|       2005-07-01|      10+ Miles|                  1.0|           0.0|                     0.0|                     0.0|                    0.0|                      2.0|                      2.0|                     2.0|[310.0,3578.27,28...|\n",
      "|      28389|       346|    20101229|  20110110|   20110105|           1|         39|                7|         SO43698|                   1|  3399.99|       3399.99|          1912.1544|       1912.1544|    3399.99|271.9992|84.9998|                 NULL|            NULL|2010-12-29 00:00:00|2011-01-10 00:00:00|2011-01-05 00:00:00|         BK-M82S-44|                    1|Mountain-100 Silv...|   1912.1544|             true|Silver|             100|          75|  3399.99| 42-46 CM|                4|         M |   2039.994|Mountain-100|Top-of-the-line c...|01/07/2005 00:00|         222|          AW00028389|1964-12-18|            S|     F|       20000|            3|                   3|     High School|Educaci�n secundaria|        Bac + 2|           Manual|           Obrero|         Ouvrier|             0|              0|       2005-07-01|      0-1 Miles|                  1.0|           1.0|                     3.0|                     3.0|                    3.0|                      4.0|                      4.0|                     4.0|[346.0,3399.99,27...|\n",
      "|      25863|       346|    20101229|  20110110|   20110105|           1|        100|                1|         SO43699|                   1|  3399.99|       3399.99|          1912.1544|       1912.1544|    3399.99|271.9992|84.9998|                 NULL|            NULL|2010-12-29 00:00:00|2011-01-10 00:00:00|2011-01-05 00:00:00|         BK-M82S-44|                    1|Mountain-100 Silv...|   1912.1544|             true|Silver|             100|          75|  3399.99| 42-46 CM|                4|         M |   2039.994|Mountain-100|Top-of-the-line c...|01/07/2005 00:00|         543|          AW00025863|1946-12-03|            S|     F|       40000|            5|                   0|     High School|Educaci�n secundaria|        Bac + 2|     Professional|      Profesional|           Cadre|             1|              3|       2005-07-01|      10+ Miles|                  1.0|           1.0|                     3.0|                     3.0|                    3.0|                      0.0|                      0.0|                     0.0|[346.0,3399.99,27...|\n",
      "|      14501|       336|    20101229|  20110110|   20110105|           1|        100|                4|         SO43700|                   1| 699.0982|      699.0982|           413.1463|        413.1463|   699.0982| 55.9279|17.4775|                 NULL|            NULL|2010-12-29 00:00:00|2011-01-10 00:00:00|2011-01-05 00:00:00|         BK-R50B-62|                    2|  Road-650 Black, 62|    413.1463|             true| Black|             100|          75| 699.0982| 60-62 CM|                4|         R |   419.4589|    Road-650|Value-priced bike...|01/07/2005 00:00|         300|          AW00014501|1938-05-13|            M|     M|       80000|            4|                   0| Graduate Degree|Estudios de postg...|        Bac + 3|       Management|          Gesti�n|       Direction|             1|              2|       2005-07-01|      1-2 Miles|                  0.0|           0.0|                     2.0|                     2.0|                    2.0|                      2.0|                      2.0|                     2.0|[336.0,699.0982,5...|\n",
      "|      11003|       346|    20101229|  20110110|   20110105|           1|          6|                9|         SO43701|                   1|  3399.99|       3399.99|          1912.1544|       1912.1544|    3399.99|271.9992|84.9998|                 NULL|            NULL|2010-12-29 00:00:00|2011-01-10 00:00:00|2011-01-05 00:00:00|         BK-M82S-44|                    1|Mountain-100 Silv...|   1912.1544|             true|Silver|             100|          75|  3399.99| 42-46 CM|                4|         M |   2039.994|Mountain-100|Top-of-the-line c...|01/07/2005 00:00|          11|          AW00011003|1968-02-15|            S|     F|       70000|            0|                   0|       Bachelors|        Licenciatura|        Bac + 4|     Professional|      Profesional|           Cadre|             0|              1|       2005-07-01|     5-10 Miles|                  1.0|           1.0|                     0.0|                     0.0|                    0.0|                      0.0|                      0.0|                     0.0|(13,[0,1,2,3,4,5,...|\n",
      "+-----------+----------+------------+----------+-----------+------------+-----------+-----------------+----------------+--------------------+---------+--------------+-------------------+----------------+-----------+--------+-------+---------------------+----------------+-------------------+-------------------+-------------------+-------------------+---------------------+--------------------+------------+-----------------+------+----------------+------------+---------+---------+-----------------+-----------+-----------+------------+--------------------+----------------+------------+--------------------+----------+-------------+------+------------+-------------+--------------------+----------------+--------------------+---------------+-----------------+-----------------+----------------+--------------+---------------+-----------------+---------------+---------------------+--------------+------------------------+------------------------+-----------------------+-------------------------+-------------------------+------------------------+--------------------+\n",
      "only showing top 5 rows\n",
      "\n"
     ]
    }
   ],
   "source": [
    "# Using VectorAssembler to combine multiple feature columns into a single vector column\n",
    "features = VectorAssembler(inputCols= ['ProductKey','UnitPrice','TaxAmt','Freight','YearlyIncome','MaritalStatus_indexed', 'Gender_indexed', 'EnglishEducation_indexed', 'SpanishEducation_indexed',\n",
    "                                      'FrenchEducation_indexed', 'EnglishOccupation_indexed', 'SpanishOccupation_indexed', 'FrenchOccupation_indexed'],\n",
    "                           outputCol= 'feature_column')\n",
    "\n",
    "output_column = features.transform(df_234_new)\n",
    "output_column.show(5)"
   ]
  },
  {
   "cell_type": "code",
   "execution_count": null,
   "metadata": {
    "colab": {
     "base_uri": "https://localhost:8080/"
    },
    "executionInfo": {
     "elapsed": 2019,
     "status": "ok",
     "timestamp": 1705093231177,
     "user": {
      "displayName": "Bukola Babalola",
      "userId": "06679246117258314799"
     },
     "user_tz": 0
    },
    "id": "EaZlLFCAeXaV",
    "outputId": "b32ae687-7676-4839-ce14-e1875693c0ef"
   },
   "outputs": [
    {
     "name": "stdout",
     "output_type": "stream",
     "text": [
      "+--------------------+\n",
      "|      feature_column|\n",
      "+--------------------+\n",
      "|[310.0,3578.27,28...|\n",
      "|[346.0,3399.99,27...|\n",
      "|[346.0,3399.99,27...|\n",
      "|[336.0,699.0982,5...|\n",
      "|(13,[0,1,2,3,4,5,...|\n",
      "|[311.0,3578.27,28...|\n",
      "|(13,[0,1,2,3,4,5]...|\n",
      "|(13,[0,1,2,3,4,5]...|\n",
      "|(13,[0,1,2,3,4],[...|\n",
      "|[312.0,3578.27,28...|\n",
      "|[312.0,3578.27,28...|\n",
      "|[330.0,699.0982,5...|\n",
      "|[313.0,3578.27,28...|\n",
      "|[314.0,3578.27,28...|\n",
      "|[314.0,3578.27,28...|\n",
      "|[311.0,3578.27,28...|\n",
      "|[310.0,3578.27,28...|\n",
      "|[311.0,3578.27,28...|\n",
      "|[314.0,3578.27,28...|\n",
      "|[311.0,3578.27,28...|\n",
      "+--------------------+\n",
      "only showing top 20 rows\n",
      "\n"
     ]
    }
   ],
   "source": [
    "# Selecting the 'feature_column' from the DataFrame output_column\n",
    "output_column.select('feature_column').show()"
   ]
  },
  {
   "cell_type": "code",
   "execution_count": null,
   "metadata": {
    "colab": {
     "base_uri": "https://localhost:8080/"
    },
    "executionInfo": {
     "elapsed": 3329,
     "status": "ok",
     "timestamp": 1705094247013,
     "user": {
      "displayName": "Bukola Babalola",
      "userId": "06679246117258314799"
     },
     "user_tz": 0
    },
    "id": "w-FRvSlyeehR",
    "outputId": "8c8d6370-367e-4330-e9a5-a3b5b51f53de"
   },
   "outputs": [
    {
     "name": "stdout",
     "output_type": "stream",
     "text": [
      "+--------------------+-----------+\n",
      "|      feature_column|SalesAmount|\n",
      "+--------------------+-----------+\n",
      "|[310.0,3578.27,28...|    3578.27|\n",
      "|[346.0,3399.99,27...|    3399.99|\n",
      "|[346.0,3399.99,27...|    3399.99|\n",
      "|[336.0,699.0982,5...|   699.0982|\n",
      "|(13,[0,1,2,3,4,5,...|    3399.99|\n",
      "|[311.0,3578.27,28...|    3578.27|\n",
      "|(13,[0,1,2,3,4,5]...|    3578.27|\n",
      "|(13,[0,1,2,3,4,5]...|    3374.99|\n",
      "|(13,[0,1,2,3,4],[...|    3399.99|\n",
      "|[312.0,3578.27,28...|    3578.27|\n",
      "|[312.0,3578.27,28...|    3578.27|\n",
      "|[330.0,699.0982,5...|   699.0982|\n",
      "|[313.0,3578.27,28...|    3578.27|\n",
      "|[314.0,3578.27,28...|    3578.27|\n",
      "|[314.0,3578.27,28...|    3578.27|\n",
      "|[311.0,3578.27,28...|    3578.27|\n",
      "|[310.0,3578.27,28...|    3578.27|\n",
      "|[311.0,3578.27,28...|    3578.27|\n",
      "|[314.0,3578.27,28...|    3578.27|\n",
      "|[311.0,3578.27,28...|    3578.27|\n",
      "+--------------------+-----------+\n",
      "only showing top 20 rows\n",
      "\n"
     ]
    }
   ],
   "source": [
    "\n",
    "# Displaying target and predictive features\n",
    "X_y = output_column.select('feature_column', 'SalesAmount')\n",
    "X_y.show()"
   ]
  },
  {
   "cell_type": "markdown",
   "metadata": {
    "id": "h-bB7ht3k4SA"
   },
   "source": [
    "## **SPLITTING OF DATA FOR TESTING AND TRAINING**"
   ]
  },
  {
   "cell_type": "code",
   "execution_count": null,
   "metadata": {
    "id": "EB-0Kjfok-M5"
   },
   "outputs": [],
   "source": [
    "# Train, Test, Split of Data\n",
    "train_data, test_data = X_y.randomSplit([0.8, 0.2],  seed=42)"
   ]
  },
  {
   "cell_type": "code",
   "execution_count": null,
   "metadata": {
    "colab": {
     "base_uri": "https://localhost:8080/"
    },
    "executionInfo": {
     "elapsed": 2419,
     "status": "ok",
     "timestamp": 1705095034164,
     "user": {
      "displayName": "Bukola Babalola",
      "userId": "06679246117258314799"
     },
     "user_tz": 0
    },
    "id": "0_vlVptviWNA",
    "outputId": "97997644-4ac9-4ec9-8e95-0f1a93e8833a"
   },
   "outputs": [
    {
     "name": "stdout",
     "output_type": "stream",
     "text": [
      "+--------------------+-----------+\n",
      "|      feature_column|SalesAmount|\n",
      "+--------------------+-----------+\n",
      "|(13,[0,1,2,3,4],[...|      34.99|\n",
      "|(13,[0,1,2,3,4],[...|      34.99|\n",
      "|(13,[0,1,2,3,4],[...|      34.99|\n",
      "|(13,[0,1,2,3,4],[...|      34.99|\n",
      "|(13,[0,1,2,3,4],[...|      34.99|\n",
      "|(13,[0,1,2,3,4],[...|      34.99|\n",
      "+--------------------+-----------+\n",
      "only showing top 6 rows\n",
      "\n"
     ]
    }
   ],
   "source": [
    "#  Displaying the first 5 rows of the DataFrame train_data\n",
    "train_data.show(6)"
   ]
  },
  {
   "cell_type": "code",
   "execution_count": null,
   "metadata": {
    "colab": {
     "base_uri": "https://localhost:8080/"
    },
    "executionInfo": {
     "elapsed": 5252,
     "status": "ok",
     "timestamp": 1705095039410,
     "user": {
      "displayName": "Bukola Babalola",
      "userId": "06679246117258314799"
     },
     "user_tz": 0
    },
    "id": "zdlX6omilLvC",
    "outputId": "a23c7ec8-466a-41e2-d682-0f82496f8e0a"
   },
   "outputs": [
    {
     "name": "stdout",
     "output_type": "stream",
     "text": [
      "+--------------------+-----------+\n",
      "|      feature_column|SalesAmount|\n",
      "+--------------------+-----------+\n",
      "|(13,[0,1,2,3,4],[...|      34.99|\n",
      "|(13,[0,1,2,3,4],[...|      34.99|\n",
      "|(13,[0,1,2,3,4],[...|      34.99|\n",
      "|(13,[0,1,2,3,4],[...|      34.99|\n",
      "|(13,[0,1,2,3,4],[...|      34.99|\n",
      "|(13,[0,1,2,3,4],[...|      34.99|\n",
      "+--------------------+-----------+\n",
      "only showing top 6 rows\n",
      "\n"
     ]
    }
   ],
   "source": [
    "# Displaying the first 5 rows of the DataFrame test_data\n",
    "test_data.show(6)"
   ]
  },
  {
   "cell_type": "code",
   "execution_count": null,
   "metadata": {
    "id": "-0_INTetlXJS"
   },
   "outputs": [],
   "source": []
  },
  {
   "cell_type": "markdown",
   "metadata": {
    "id": "eBt9X0rHlgxu"
   },
   "source": [
    "## **MODEL BUILDING**"
   ]
  },
  {
   "cell_type": "code",
   "execution_count": null,
   "metadata": {
    "id": "vbjWvITplkIg"
   },
   "outputs": [],
   "source": [
    "# Linear Regression model\n",
    "lr = LinearRegression(featuresCol= 'feature_column', labelCol= 'SalesAmount')\n"
   ]
  },
  {
   "cell_type": "code",
   "execution_count": null,
   "metadata": {
    "id": "XRu7Vl5bloxE"
   },
   "outputs": [],
   "source": []
  },
  {
   "cell_type": "markdown",
   "metadata": {
    "id": "h62ZQ1jVltEC"
   },
   "source": [
    "### **TRAINING THE MODEL**"
   ]
  },
  {
   "cell_type": "code",
   "execution_count": null,
   "metadata": {
    "id": "FSM4cEiAlxDZ"
   },
   "outputs": [],
   "source": [
    "# Training of the data\n",
    "lr = lr.fit(train_data)"
   ]
  },
  {
   "cell_type": "code",
   "execution_count": null,
   "metadata": {
    "colab": {
     "base_uri": "https://localhost:8080/"
    },
    "executionInfo": {
     "elapsed": 4,
     "status": "ok",
     "timestamp": 1705095170628,
     "user": {
      "displayName": "Bukola Babalola",
      "userId": "06679246117258314799"
     },
     "user_tz": 0
    },
    "id": "SrlIJvpol0hz",
    "outputId": "bdbb1337-4ae0-448c-ab3b-249fbd6f4a19"
   },
   "outputs": [
    {
     "data": {
      "text/plain": [
       "DenseVector([0.0, 0.3333, 4.1667, 13.3333, 0.0, -0.0, 0.0, -0.0, -0.0, -0.0, -0.0, -0.0, -0.0])"
      ]
     },
     "execution_count": 106,
     "metadata": {},
     "output_type": "execute_result"
    }
   ],
   "source": [
    "# Accessing the coefficients of the Linear Regression model\n",
    "lr.coefficients"
   ]
  },
  {
   "cell_type": "code",
   "execution_count": null,
   "metadata": {
    "colab": {
     "base_uri": "https://localhost:8080/"
    },
    "executionInfo": {
     "elapsed": 260,
     "status": "ok",
     "timestamp": 1705095196456,
     "user": {
      "displayName": "Bukola Babalola",
      "userId": "06679246117258314799"
     },
     "user_tz": 0
    },
    "id": "9KuGJ7-bl4PV",
    "outputId": "50153c4c-dbb1-484a-aa1d-31cd459255f6"
   },
   "outputs": [
    {
     "data": {
      "text/plain": [
       "-0.0007042733915351582"
      ]
     },
     "execution_count": 107,
     "metadata": {},
     "output_type": "execute_result"
    }
   ],
   "source": [
    "# Accessing the intercept of the Linear Regression model\n",
    "lr.intercept"
   ]
  },
  {
   "cell_type": "code",
   "execution_count": null,
   "metadata": {
    "id": "FSX5wY_Sl-wc"
   },
   "outputs": [],
   "source": []
  },
  {
   "cell_type": "markdown",
   "metadata": {
    "id": "3ul_gPDcl_z4"
   },
   "source": [
    "## **MODEL EVALUATION**"
   ]
  },
  {
   "cell_type": "code",
   "execution_count": null,
   "metadata": {
    "id": "xZurRwMOmGSq"
   },
   "outputs": [],
   "source": [
    "# Predicting the model\n",
    "predicted_values = lr.evaluate(train_data)"
   ]
  },
  {
   "cell_type": "code",
   "execution_count": null,
   "metadata": {
    "colab": {
     "base_uri": "https://localhost:8080/"
    },
    "executionInfo": {
     "elapsed": 6455,
     "status": "ok",
     "timestamp": 1705095263833,
     "user": {
      "displayName": "Bukola Babalola",
      "userId": "06679246117258314799"
     },
     "user_tz": 0
    },
    "id": "FA9Gkd7SmKkh",
    "outputId": "334b4aed-67a8-425e-dfae-04bbfa8ac68f"
   },
   "outputs": [
    {
     "name": "stdout",
     "output_type": "stream",
     "text": [
      "+--------------------+-----------+------------------+\n",
      "|      feature_column|SalesAmount|        prediction|\n",
      "+--------------------+-----------+------------------+\n",
      "|(13,[0,1,2,3,4],[...|      34.99| 34.99002500298596|\n",
      "|(13,[0,1,2,3,4],[...|      34.99| 34.99002500298596|\n",
      "|(13,[0,1,2,3,4],[...|      34.99| 34.99002500298596|\n",
      "|(13,[0,1,2,3,4],[...|      34.99|34.990030741635344|\n",
      "|(13,[0,1,2,3,4],[...|      34.99|34.990030741635344|\n",
      "|(13,[0,1,2,3,4],[...|      34.99|34.990030741635344|\n",
      "|(13,[0,1,2,3,4],[...|      34.99|34.990030741635344|\n",
      "|(13,[0,1,2,3,4],[...|      34.99|34.990030741635344|\n",
      "|(13,[0,1,2,3,4],[...|      34.99|34.990030741635344|\n",
      "|(13,[0,1,2,3,4],[...|      34.99|34.990030741635344|\n",
      "|(13,[0,1,2,3,4],[...|      34.99|34.990030741635344|\n",
      "|(13,[0,1,2,3,4],[...|      34.99|34.990030741635344|\n",
      "|(13,[0,1,2,3,4],[...|      34.99|34.990030741635344|\n",
      "|(13,[0,1,2,3,4],[...|      34.99|34.990030741635344|\n",
      "|(13,[0,1,2,3,4],[...|      34.99|34.990030741635344|\n",
      "|(13,[0,1,2,3,4],[...|      34.99|34.990030741635344|\n",
      "|(13,[0,1,2,3,4],[...|      34.99| 34.99003361096003|\n",
      "|(13,[0,1,2,3,4],[...|      34.99| 34.99003361096003|\n",
      "|(13,[0,1,2,3,4],[...|      34.99| 34.99003361096003|\n",
      "|(13,[0,1,2,3,4],[...|      34.99| 34.99003648028473|\n",
      "+--------------------+-----------+------------------+\n",
      "only showing top 20 rows\n",
      "\n"
     ]
    }
   ],
   "source": [
    "# Showing the predicted values or results\n",
    "\n",
    "predicted_values.predictions.show()"
   ]
  },
  {
   "cell_type": "code",
   "execution_count": null,
   "metadata": {
    "id": "7zKC-g27mNrt"
   },
   "outputs": [],
   "source": []
  },
  {
   "cell_type": "markdown",
   "metadata": {
    "id": "7hdObTItmt6Z"
   },
   "source": [
    "## **MODEL EVALUATION**"
   ]
  },
  {
   "cell_type": "code",
   "execution_count": null,
   "metadata": {
    "id": "aD-EPokxm20Y"
   },
   "outputs": [],
   "source": [
    "# Making prediction on the test data\n",
    "\n",
    "test_prediction = lr.transform(test_data)"
   ]
  },
  {
   "cell_type": "code",
   "execution_count": null,
   "metadata": {
    "colab": {
     "base_uri": "https://localhost:8080/"
    },
    "executionInfo": {
     "elapsed": 3879,
     "status": "ok",
     "timestamp": 1705095487634,
     "user": {
      "displayName": "Bukola Babalola",
      "userId": "06679246117258314799"
     },
     "user_tz": 0
    },
    "id": "W7qjtT_dnA_I",
    "outputId": "354ea9a1-1f3e-4614-acf7-36ea96b11b70"
   },
   "outputs": [
    {
     "name": "stdout",
     "output_type": "stream",
     "text": [
      "+--------------------+-----------+------------------+\n",
      "|      feature_column|SalesAmount|        prediction|\n",
      "+--------------------+-----------+------------------+\n",
      "|(13,[0,1,2,3,4],[...|      34.99| 34.99002500298596|\n",
      "|(13,[0,1,2,3,4],[...|      34.99|34.990030741635344|\n",
      "|(13,[0,1,2,3,4],[...|      34.99|34.990030741635344|\n",
      "|(13,[0,1,2,3,4],[...|      34.99|34.990030741635344|\n",
      "|(13,[0,1,2,3,4],[...|      34.99|34.990030741635344|\n",
      "|(13,[0,1,2,3,4],[...|      34.99| 34.99003361096003|\n",
      "|(13,[0,1,2,3,4],[...|      34.99| 34.99003934960942|\n",
      "|(13,[0,1,2,3,4],[...|      34.99|34.990025726884156|\n",
      "|(13,[0,1,2,3,4],[...|      34.99| 34.99003146553354|\n",
      "|(13,[0,1,2,3,4],[...|      34.99| 34.99003146553354|\n",
      "|(13,[0,1,2,3,4],[...|      34.99| 34.99003146553354|\n",
      "|(13,[0,1,2,3,4],[...|      34.99| 34.99003146553354|\n",
      "|(13,[0,1,2,3,4],[...|      34.99| 34.99003146553354|\n",
      "|(13,[0,1,2,3,4],[...|      34.99| 34.99003433485823|\n",
      "|(13,[0,1,2,3,4],[...|      34.99| 34.99003433485823|\n",
      "|(13,[0,1,2,3,4],[...|      34.99|34.990040073507615|\n",
      "|(13,[0,1,2,3,4],[...|      34.99| 34.99003267203054|\n",
      "|(13,[0,1,2,3,4],[...|      34.99| 34.99004128000461|\n",
      "|(13,[0,1,2,3,4],[...|       8.99| 8.990033771647699|\n",
      "|(13,[0,1,2,3,4],[...|       8.99| 8.990033771647699|\n",
      "+--------------------+-----------+------------------+\n",
      "only showing top 20 rows\n",
      "\n"
     ]
    }
   ],
   "source": [
    "# Showing predicted values from the test data\n",
    "\n",
    "test_prediction.show()"
   ]
  },
  {
   "cell_type": "code",
   "execution_count": null,
   "metadata": {
    "id": "e6cy_TmwnE8b"
   },
   "outputs": [],
   "source": []
  },
  {
   "cell_type": "markdown",
   "metadata": {
    "id": "NsolvXl2nPot"
   },
   "source": [
    "## **PERFORMANCE METRICS**"
   ]
  },
  {
   "cell_type": "code",
   "execution_count": null,
   "metadata": {
    "colab": {
     "base_uri": "https://localhost:8080/"
    },
    "executionInfo": {
     "elapsed": 11204,
     "status": "ok",
     "timestamp": 1705095568353,
     "user": {
      "displayName": "Bukola Babalola",
      "userId": "06679246117258314799"
     },
     "user_tz": 0
    },
    "id": "92Q24xasnTA7",
    "outputId": "3a1e7424-8619-432e-de03-4accf605d50f"
   },
   "outputs": [
    {
     "name": "stdout",
     "output_type": "stream",
     "text": [
      "Root Mean Squared Error (RMSE): 0.0002127712779754062\n",
      "Mean Absolute Error (MAE): 0.0001284922177109339\n",
      "R-squared (R2): 0.999999999999947\n"
     ]
    }
   ],
   "source": [
    "# Evaluate the model using regression metrics\n",
    "evaluator = RegressionEvaluator(labelCol=\"SalesAmount\", predictionCol=\"prediction\", metricName=\"rmse\")\n",
    "rmse = evaluator.evaluate(test_prediction)\n",
    "print(f\"Root Mean Squared Error (RMSE): {rmse}\")\n",
    "\n",
    "mae_evaluator = RegressionEvaluator(labelCol=\"SalesAmount\", predictionCol=\"prediction\", metricName=\"mae\")\n",
    "mae = mae_evaluator.evaluate(test_prediction)\n",
    "print(f\"Mean Absolute Error (MAE): {mae}\")\n",
    "\n",
    "r2_evaluator = RegressionEvaluator(labelCol=\"SalesAmount\", predictionCol=\"prediction\", metricName=\"r2\")\n",
    "r2 = r2_evaluator.evaluate(test_prediction)\n",
    "print(f\"R-squared (R2): {r2}\")"
   ]
  },
  {
   "cell_type": "code",
   "execution_count": null,
   "metadata": {
    "id": "p44P-IlPnW4P"
   },
   "outputs": [],
   "source": []
  },
  {
   "cell_type": "markdown",
   "metadata": {
    "id": "7iK2S50MnzoR"
   },
   "source": [
    "## **COMMUNICATING THE RESULT OF THE MODEL**"
   ]
  },
  {
   "cell_type": "code",
   "execution_count": null,
   "metadata": {
    "colab": {
     "base_uri": "https://localhost:8080/",
     "height": 564
    },
    "executionInfo": {
     "elapsed": 991,
     "status": "ok",
     "timestamp": 1705095708938,
     "user": {
      "displayName": "Bukola Babalola",
      "userId": "06679246117258314799"
     },
     "user_tz": 0
    },
    "id": "a7gcX5ken2MU",
    "outputId": "2821429d-8059-4c05-a5b1-aedbadde01f0"
   },
   "outputs": [
    {
     "data": {
      "image/png": "[encoded data removed]",
      "text/plain": [
       "<Figure size 1000x600 with 1 Axes>"
      ]
     },
     "metadata": {},
     "output_type": "display_data"
    }
   ],
   "source": [
    "import matplotlib.pyplot as plt\n",
    "\n",
    "# Metrics values\n",
    "metrics = ['RMSE', 'MAE', 'R-squared']\n",
    "values = [rmse, mae, r2]\n",
    "\n",
    "# Bar plot\n",
    "plt.figure(figsize=(10, 6))\n",
    "plt.bar(metrics, values, color=['blue', 'green', 'orange'])\n",
    "plt.title('Regression Model Evaluation Metrics')\n",
    "plt.xlabel('Metrics')\n",
    "plt.ylabel('Values')\n",
    "plt.show()"
   ]
  },
  {
   "cell_type": "code",
   "execution_count": null,
   "metadata": {
    "id": "ucZB8zCNn7rB"
   },
   "outputs": [],
   "source": []
  },
  {
   "cell_type": "markdown",
   "metadata": {
    "id": "fS67DU2zoH2U"
   },
   "source": [
    "## **CLASSIFICATION BASED MODEL**\n"
   ]
  },
  {
   "cell_type": "markdown",
   "metadata": {
    "id": "QNXHtM7ToX_8"
   },
   "source": [
    "\n",
    "## **LOGISTIC REGRESSION**\n"
   ]
  },
  {
   "cell_type": "markdown",
   "metadata": {
    "id": "_53mhQXrojyX"
   },
   "source": [
    "### **DATA PREPROCESSING**"
   ]
  },
  {
   "cell_type": "code",
   "execution_count": null,
   "metadata": {
    "id": "un_nVIy7ooJ4"
   },
   "outputs": [],
   "source": [
    "# Features to train the model, and the target variable\n",
    "feature_column = ['ProductKey','UnitPrice','TaxAmt','Freight','YearlyIncome', 'Gender_indexed', 'EnglishEducation_indexed', 'SpanishEducation_indexed',\n",
    "                  'FrenchEducation_indexed', 'EnglishOccupation_indexed', 'SalesAmount', 'SpanishOccupation_indexed', 'FrenchOccupation_indexed']\n",
    "\n",
    "\n",
    "\n",
    "target_variable = 'MaritalStatus_indexed'"
   ]
  },
  {
   "cell_type": "code",
   "execution_count": null,
   "metadata": {
    "colab": {
     "base_uri": "https://localhost:8080/"
    },
    "executionInfo": {
     "elapsed": 3022,
     "status": "ok",
     "timestamp": 1705095944511,
     "user": {
      "displayName": "Bukola Babalola",
      "userId": "06679246117258314799"
     },
     "user_tz": 0
    },
    "id": "uUug0PefoxVv",
    "outputId": "29f83fbc-9e82-4286-bd69-d992243f0dea"
   },
   "outputs": [
    {
     "name": "stdout",
     "output_type": "stream",
     "text": [
      "+-----------+----------+------------+----------+-----------+------------+-----------+-----------------+----------------+--------------------+---------+--------------+-------------------+----------------+-----------+--------+-------+---------------------+----------------+-------------------+-------------------+-------------------+-------------------+---------------------+--------------------+------------+-----------------+------+----------------+------------+---------+---------+-----------------+-----------+-----------+------------+--------------------+----------------+------------+--------------------+----------+-------------+------+------------+-------------+--------------------+----------------+--------------------+---------------+-----------------+-----------------+----------------+--------------+---------------+-----------------+---------------+---------------------+--------------+------------------------+------------------------+-----------------------+-------------------------+-------------------------+------------------------+--------------------+\n",
      "|CustomerKey|ProductKey|OrderDateKey|DueDateKey|ShipDateKey|PromotionKey|CurrencyKey|SalesTerritoryKey|SalesOrderNumber|SalesOrderLineNumber|UnitPrice|ExtendedAmount|ProductStandardCost|TotalProductCost|SalesAmount|  TaxAmt|Freight|CarrierTrackingNumber|CustomerPONumber|          OrderDate|            DueDate|           ShipDate|ProductAlternateKey|ProductSubcategoryKey|  EnglishProductName|StandardCost|FinishedGoodsFlag| Color|SafetyStockLevel|ReorderPoint|ListPrice|SizeRange|DaysToManufacture|ProductLine|DealerPrice|   ModelName|  EnglishDescription|       StartDate|GeographyKey|CustomerAlternateKey| BirthDate|MaritalStatus|Gender|YearlyIncome|TotalChildren|NumberChildrenAtHome|EnglishEducation|    SpanishEducation|FrenchEducation|EnglishOccupation|SpanishOccupation|FrenchOccupation|HouseOwnerFlag|NumberCarsOwned|DateFirstPurchase|CommuteDistance|MaritalStatus_indexed|Gender_indexed|EnglishEducation_indexed|SpanishEducation_indexed|FrenchEducation_indexed|EnglishOccupation_indexed|SpanishOccupation_indexed|FrenchOccupation_indexed|      feature_column|\n",
      "+-----------+----------+------------+----------+-----------+------------+-----------+-----------------+----------------+--------------------+---------+--------------+-------------------+----------------+-----------+--------+-------+---------------------+----------------+-------------------+-------------------+-------------------+-------------------+---------------------+--------------------+------------+-----------------+------+----------------+------------+---------+---------+-----------------+-----------+-----------+------------+--------------------+----------------+------------+--------------------+----------+-------------+------+------------+-------------+--------------------+----------------+--------------------+---------------+-----------------+-----------------+----------------+--------------+---------------+-----------------+---------------+---------------------+--------------+------------------------+------------------------+-----------------------+-------------------------+-------------------------+------------------------+--------------------+\n",
      "|      21768|       310|    20101229|  20110110|   20110105|           1|         19|                6|         SO43697|                   1|  3578.27|       3578.27|          2171.2942|       2171.2942|    3578.27|286.2616|89.4568|                 NULL|            NULL|2010-12-29 00:00:00|2011-01-10 00:00:00|2011-01-05 00:00:00|         BK-R93R-62|                    2|    Road-150 Red, 62|   2171.2942|             true|   Red|             100|          75|  3578.27| 60-62 CM|                4|         R |   2146.962|    Road-150|This bike is ridd...|01/07/2005 00:00|          53|          AW00021768|1946-08-22|            S|     M|       70000|            5|                   0|       Bachelors|        Licenciatura|        Bac + 4|       Management|          Gesti�n|       Direction|             1|              3|       2005-07-01|      10+ Miles|                  1.0|           0.0|                     0.0|                     0.0|                    0.0|                      2.0|                      2.0|                     2.0|[310.0,3578.27,28...|\n",
      "|      28389|       346|    20101229|  20110110|   20110105|           1|         39|                7|         SO43698|                   1|  3399.99|       3399.99|          1912.1544|       1912.1544|    3399.99|271.9992|84.9998|                 NULL|            NULL|2010-12-29 00:00:00|2011-01-10 00:00:00|2011-01-05 00:00:00|         BK-M82S-44|                    1|Mountain-100 Silv...|   1912.1544|             true|Silver|             100|          75|  3399.99| 42-46 CM|                4|         M |   2039.994|Mountain-100|Top-of-the-line c...|01/07/2005 00:00|         222|          AW00028389|1964-12-18|            S|     F|       20000|            3|                   3|     High School|Educaci�n secundaria|        Bac + 2|           Manual|           Obrero|         Ouvrier|             0|              0|       2005-07-01|      0-1 Miles|                  1.0|           1.0|                     3.0|                     3.0|                    3.0|                      4.0|                      4.0|                     4.0|[346.0,3399.99,27...|\n",
      "|      25863|       346|    20101229|  20110110|   20110105|           1|        100|                1|         SO43699|                   1|  3399.99|       3399.99|          1912.1544|       1912.1544|    3399.99|271.9992|84.9998|                 NULL|            NULL|2010-12-29 00:00:00|2011-01-10 00:00:00|2011-01-05 00:00:00|         BK-M82S-44|                    1|Mountain-100 Silv...|   1912.1544|             true|Silver|             100|          75|  3399.99| 42-46 CM|                4|         M |   2039.994|Mountain-100|Top-of-the-line c...|01/07/2005 00:00|         543|          AW00025863|1946-12-03|            S|     F|       40000|            5|                   0|     High School|Educaci�n secundaria|        Bac + 2|     Professional|      Profesional|           Cadre|             1|              3|       2005-07-01|      10+ Miles|                  1.0|           1.0|                     3.0|                     3.0|                    3.0|                      0.0|                      0.0|                     0.0|[346.0,3399.99,27...|\n",
      "|      14501|       336|    20101229|  20110110|   20110105|           1|        100|                4|         SO43700|                   1| 699.0982|      699.0982|           413.1463|        413.1463|   699.0982| 55.9279|17.4775|                 NULL|            NULL|2010-12-29 00:00:00|2011-01-10 00:00:00|2011-01-05 00:00:00|         BK-R50B-62|                    2|  Road-650 Black, 62|    413.1463|             true| Black|             100|          75| 699.0982| 60-62 CM|                4|         R |   419.4589|    Road-650|Value-priced bike...|01/07/2005 00:00|         300|          AW00014501|1938-05-13|            M|     M|       80000|            4|                   0| Graduate Degree|Estudios de postg...|        Bac + 3|       Management|          Gesti�n|       Direction|             1|              2|       2005-07-01|      1-2 Miles|                  0.0|           0.0|                     2.0|                     2.0|                    2.0|                      2.0|                      2.0|                     2.0|[336.0,699.0982,5...|\n",
      "|      11003|       346|    20101229|  20110110|   20110105|           1|          6|                9|         SO43701|                   1|  3399.99|       3399.99|          1912.1544|       1912.1544|    3399.99|271.9992|84.9998|                 NULL|            NULL|2010-12-29 00:00:00|2011-01-10 00:00:00|2011-01-05 00:00:00|         BK-M82S-44|                    1|Mountain-100 Silv...|   1912.1544|             true|Silver|             100|          75|  3399.99| 42-46 CM|                4|         M |   2039.994|Mountain-100|Top-of-the-line c...|01/07/2005 00:00|          11|          AW00011003|1968-02-15|            S|     F|       70000|            0|                   0|       Bachelors|        Licenciatura|        Bac + 4|     Professional|      Profesional|           Cadre|             0|              1|       2005-07-01|     5-10 Miles|                  1.0|           1.0|                     0.0|                     0.0|                    0.0|                      0.0|                      0.0|                     0.0|(13,[0,1,2,3,4,5,...|\n",
      "+-----------+----------+------------+----------+-----------+------------+-----------+-----------------+----------------+--------------------+---------+--------------+-------------------+----------------+-----------+--------+-------+---------------------+----------------+-------------------+-------------------+-------------------+-------------------+---------------------+--------------------+------------+-----------------+------+----------------+------------+---------+---------+-----------------+-----------+-----------+------------+--------------------+----------------+------------+--------------------+----------+-------------+------+------------+-------------+--------------------+----------------+--------------------+---------------+-----------------+-----------------+----------------+--------------+---------------+-----------------+---------------+---------------------+--------------+------------------------+------------------------+-----------------------+-------------------------+-------------------------+------------------------+--------------------+\n",
      "only showing top 5 rows\n",
      "\n"
     ]
    }
   ],
   "source": [
    "# Using VectorAssembler to combine multiple feature columns into a single vector column\n",
    "feature_column = VectorAssembler(inputCols= ['ProductKey','UnitPrice','TaxAmt','Freight','YearlyIncome', 'Gender_indexed', 'EnglishEducation_indexed', 'SpanishEducation_indexed',\n",
    "                                      'FrenchEducation_indexed', 'EnglishOccupation_indexed', 'SalesAmount', 'SpanishOccupation_indexed', 'FrenchOccupation_indexed'],\n",
    "                           outputCol= 'feature_column')\n",
    "\n",
    "output_column = features.transform(df_234_new)\n",
    "output_column.show(5)"
   ]
  },
  {
   "cell_type": "code",
   "execution_count": null,
   "metadata": {
    "colab": {
     "base_uri": "https://localhost:8080/"
    },
    "executionInfo": {
     "elapsed": 1825,
     "status": "ok",
     "timestamp": 1705095971786,
     "user": {
      "displayName": "Bukola Babalola",
      "userId": "06679246117258314799"
     },
     "user_tz": 0
    },
    "id": "IQI6n6Hho0tV",
    "outputId": "e9370276-0d2f-43de-e68f-21a7ea1dd98c"
   },
   "outputs": [
    {
     "name": "stdout",
     "output_type": "stream",
     "text": [
      "+--------------------+\n",
      "|      feature_column|\n",
      "+--------------------+\n",
      "|[310.0,3578.27,28...|\n",
      "|[346.0,3399.99,27...|\n",
      "|[346.0,3399.99,27...|\n",
      "|[336.0,699.0982,5...|\n",
      "|(13,[0,1,2,3,4,5,...|\n",
      "|[311.0,3578.27,28...|\n",
      "|(13,[0,1,2,3,4,5]...|\n",
      "|(13,[0,1,2,3,4,5]...|\n",
      "|(13,[0,1,2,3,4],[...|\n",
      "|[312.0,3578.27,28...|\n",
      "|[312.0,3578.27,28...|\n",
      "|[330.0,699.0982,5...|\n",
      "|[313.0,3578.27,28...|\n",
      "|[314.0,3578.27,28...|\n",
      "|[314.0,3578.27,28...|\n",
      "|[311.0,3578.27,28...|\n",
      "|[310.0,3578.27,28...|\n",
      "|[311.0,3578.27,28...|\n",
      "|[314.0,3578.27,28...|\n",
      "|[311.0,3578.27,28...|\n",
      "+--------------------+\n",
      "only showing top 20 rows\n",
      "\n"
     ]
    }
   ],
   "source": [
    "# Selecting the 'feature_column' from the DataFrame output_column\n",
    "output_column.select('feature_column').show()"
   ]
  },
  {
   "cell_type": "code",
   "execution_count": null,
   "metadata": {
    "colab": {
     "base_uri": "https://localhost:8080/"
    },
    "executionInfo": {
     "elapsed": 2423,
     "status": "ok",
     "timestamp": 1705095989510,
     "user": {
      "displayName": "Bukola Babalola",
      "userId": "06679246117258314799"
     },
     "user_tz": 0
    },
    "id": "72XvFN9Jo7pz",
    "outputId": "e340688f-3a84-4171-853e-60599f5138f6"
   },
   "outputs": [
    {
     "name": "stdout",
     "output_type": "stream",
     "text": [
      "+--------------------+---------------------+\n",
      "|      feature_column|MaritalStatus_indexed|\n",
      "+--------------------+---------------------+\n",
      "|[310.0,3578.27,28...|                  1.0|\n",
      "|[346.0,3399.99,27...|                  1.0|\n",
      "|[346.0,3399.99,27...|                  1.0|\n",
      "|[336.0,699.0982,5...|                  0.0|\n",
      "|(13,[0,1,2,3,4,5,...|                  1.0|\n",
      "|[311.0,3578.27,28...|                  0.0|\n",
      "|(13,[0,1,2,3,4,5]...|                  1.0|\n",
      "|(13,[0,1,2,3,4,5]...|                  1.0|\n",
      "|(13,[0,1,2,3,4],[...|                  0.0|\n",
      "|[312.0,3578.27,28...|                  1.0|\n",
      "|[312.0,3578.27,28...|                  1.0|\n",
      "|[330.0,699.0982,5...|                  0.0|\n",
      "|[313.0,3578.27,28...|                  1.0|\n",
      "|[314.0,3578.27,28...|                  0.0|\n",
      "|[314.0,3578.27,28...|                  1.0|\n",
      "|[311.0,3578.27,28...|                  0.0|\n",
      "|[310.0,3578.27,28...|                  1.0|\n",
      "|[311.0,3578.27,28...|                  0.0|\n",
      "|[314.0,3578.27,28...|                  0.0|\n",
      "|[311.0,3578.27,28...|                  0.0|\n",
      "+--------------------+---------------------+\n",
      "only showing top 20 rows\n",
      "\n"
     ]
    }
   ],
   "source": [
    "# Displaying target and predictive features\n",
    "X_y = output_column.select('feature_column', 'MaritalStatus_indexed')\n",
    "X_y.show()"
   ]
  },
  {
   "cell_type": "code",
   "execution_count": null,
   "metadata": {
    "id": "2XHMPOIgo_1r"
   },
   "outputs": [],
   "source": []
  },
  {
   "cell_type": "markdown",
   "metadata": {
    "id": "8fVmSCmDpEib"
   },
   "source": [
    "### **SPLITTING OF DATA FOR TRAINING AND TESTING**"
   ]
  },
  {
   "cell_type": "code",
   "execution_count": null,
   "metadata": {
    "id": "7JFMsFe1pMIp"
   },
   "outputs": [],
   "source": [
    "# Train, Test, Split of Data\n",
    "train_data, test_data = X_y.randomSplit([0.8, 0.2], seed=42)"
   ]
  },
  {
   "cell_type": "code",
   "execution_count": null,
   "metadata": {
    "colab": {
     "base_uri": "https://localhost:8080/"
    },
    "executionInfo": {
     "elapsed": 4336,
     "status": "ok",
     "timestamp": 1705096092157,
     "user": {
      "displayName": "Bukola Babalola",
      "userId": "06679246117258314799"
     },
     "user_tz": 0
    },
    "id": "H2exfkqVpO_M",
    "outputId": "5e7f0512-5951-4443-90a5-7f3daf5b395b"
   },
   "outputs": [
    {
     "name": "stdout",
     "output_type": "stream",
     "text": [
      "+--------------------+---------------------+\n",
      "|      feature_column|MaritalStatus_indexed|\n",
      "+--------------------+---------------------+\n",
      "|(13,[0,1,2,3,4],[...|                  0.0|\n",
      "|(13,[0,1,2,3,4],[...|                  0.0|\n",
      "|(13,[0,1,2,3,4],[...|                  0.0|\n",
      "|(13,[0,1,2,3,4],[...|                  0.0|\n",
      "|(13,[0,1,2,3,4],[...|                  0.0|\n",
      "+--------------------+---------------------+\n",
      "only showing top 5 rows\n",
      "\n"
     ]
    }
   ],
   "source": [
    "#  Displaying the first 5 rows of the DataFrame train_data\n",
    "train_data.show(5)"
   ]
  },
  {
   "cell_type": "code",
   "execution_count": null,
   "metadata": {
    "colab": {
     "base_uri": "https://localhost:8080/"
    },
    "executionInfo": {
     "elapsed": 4388,
     "status": "ok",
     "timestamp": 1705096110090,
     "user": {
      "displayName": "Bukola Babalola",
      "userId": "06679246117258314799"
     },
     "user_tz": 0
    },
    "id": "pNxJPMxepYbu",
    "outputId": "6baf8e5b-bb69-4c6e-de13-314f3824d66e"
   },
   "outputs": [
    {
     "name": "stdout",
     "output_type": "stream",
     "text": [
      "+--------------------+---------------------+\n",
      "|      feature_column|MaritalStatus_indexed|\n",
      "+--------------------+---------------------+\n",
      "|(13,[0,1,2,3,4],[...|                  0.0|\n",
      "|(13,[0,1,2,3,4],[...|                  0.0|\n",
      "|(13,[0,1,2,3,4],[...|                  0.0|\n",
      "|(13,[0,1,2,3,4],[...|                  0.0|\n",
      "|(13,[0,1,2,3,4],[...|                  0.0|\n",
      "+--------------------+---------------------+\n",
      "only showing top 5 rows\n",
      "\n"
     ]
    }
   ],
   "source": [
    "# Displaying the first 5 rows of the DataFrame test_data\n",
    "test_data.show(5)"
   ]
  },
  {
   "cell_type": "code",
   "execution_count": null,
   "metadata": {
    "id": "w4lHRjwIpcx6"
   },
   "outputs": [],
   "source": []
  },
  {
   "cell_type": "markdown",
   "metadata": {
    "id": "t1DxTde2pdmW"
   },
   "source": [
    "### **MODEL BUILDING**"
   ]
  },
  {
   "cell_type": "code",
   "execution_count": null,
   "metadata": {
    "id": "93g2aeOBpiqc"
   },
   "outputs": [],
   "source": [
    "# Importing Logistic Regression model library\n",
    "from pyspark.ml.classification import LogisticRegression\n",
    "from pyspark.ml.evaluation import BinaryClassificationEvaluator"
   ]
  },
  {
   "cell_type": "code",
   "execution_count": null,
   "metadata": {
    "colab": {
     "base_uri": "https://localhost:8080/"
    },
    "executionInfo": {
     "elapsed": 259,
     "status": "ok",
     "timestamp": 1705096158454,
     "user": {
      "displayName": "Bukola Babalola",
      "userId": "06679246117258314799"
     },
     "user_tz": 0
    },
    "id": "ZxgO5poQpm9H",
    "outputId": "8a689822-ad90-4a12-efe9-cf2ef4eb2507"
   },
   "outputs": [
    {
     "data": {
      "text/plain": [
       "LogisticRegression_66b9b087f9ae"
      ]
     },
     "execution_count": 122,
     "metadata": {},
     "output_type": "execute_result"
    }
   ],
   "source": [
    "# Logistic Regression model\n",
    "lr_model = LogisticRegression(featuresCol='feature_column', labelCol='MaritalStatus_indexed')\n",
    "lr_model"
   ]
  },
  {
   "cell_type": "code",
   "execution_count": null,
   "metadata": {
    "id": "wtqV2AtSppnb"
   },
   "outputs": [],
   "source": []
  },
  {
   "cell_type": "markdown",
   "metadata": {
    "id": "ls4LNQ3spx86"
   },
   "source": [
    "## **TRAINING THE MODEL**"
   ]
  },
  {
   "cell_type": "code",
   "execution_count": null,
   "metadata": {
    "id": "9saRPsYbp2v2"
   },
   "outputs": [],
   "source": [
    "# Training of the data\n",
    "lr_model = lr_model.fit(train_data)"
   ]
  },
  {
   "cell_type": "code",
   "execution_count": null,
   "metadata": {
    "colab": {
     "base_uri": "https://localhost:8080/"
    },
    "executionInfo": {
     "elapsed": 3865,
     "status": "ok",
     "timestamp": 1705096247733,
     "user": {
      "displayName": "Bukola Babalola",
      "userId": "06679246117258314799"
     },
     "user_tz": 0
    },
    "id": "hporcftPp6Fy",
    "outputId": "d1a4bae9-bf99-4961-ee73-d5c9640e6cd1"
   },
   "outputs": [
    {
     "name": "stdout",
     "output_type": "stream",
     "text": [
      "+---------------------+----------+--------------------+\n",
      "|MaritalStatus_indexed|prediction|         probability|\n",
      "+---------------------+----------+--------------------+\n",
      "|                  0.0|       0.0|[0.99999999350553...|\n",
      "|                  0.0|       0.0|[0.99999999350553...|\n",
      "|                  0.0|       0.0|[0.99999999350553...|\n",
      "|                  0.0|       0.0|[0.99999999378671...|\n",
      "|                  0.0|       0.0|[0.99999999378671...|\n",
      "|                  0.0|       0.0|[0.99999999378671...|\n",
      "|                  0.0|       0.0|[0.99999999378671...|\n",
      "|                  0.0|       0.0|[0.99999999378671...|\n",
      "|                  0.0|       0.0|[0.99999999378671...|\n",
      "|                  0.0|       0.0|[0.99999999378671...|\n",
      "|                  0.0|       0.0|[0.99999999378671...|\n",
      "|                  0.0|       0.0|[0.99999999378671...|\n",
      "|                  0.0|       0.0|[0.99999999378671...|\n",
      "|                  0.0|       0.0|[0.99999999378671...|\n",
      "|                  0.0|       0.0|[0.99999999378671...|\n",
      "|                  0.0|       0.0|[0.99999999378671...|\n",
      "|                  0.0|       0.0|[0.99999999392270...|\n",
      "|                  0.0|       0.0|[0.99999999392270...|\n",
      "|                  0.0|       0.0|[0.99999999392270...|\n",
      "|                  0.0|       0.0|[0.99999999405572...|\n",
      "+---------------------+----------+--------------------+\n",
      "only showing top 20 rows\n",
      "\n"
     ]
    }
   ],
   "source": [
    "# Predicting the Training Data\n",
    "predicted_result =lr_model.transform(train_data)\n",
    "\n",
    "# Showing the Predicted results\n",
    "predicted_result.select('MaritalStatus_indexed', 'prediction', 'probability').show()\n",
    "#predicted_result.show()"
   ]
  },
  {
   "cell_type": "code",
   "execution_count": null,
   "metadata": {
    "id": "q6GEgYqPp-iD"
   },
   "outputs": [],
   "source": []
  },
  {
   "cell_type": "markdown",
   "metadata": {
    "id": "1F6qjdWzqEHa"
   },
   "source": [
    "### **MAKING PREDICTIONS ON TEST DATA**"
   ]
  },
  {
   "cell_type": "code",
   "execution_count": null,
   "metadata": {
    "colab": {
     "base_uri": "https://localhost:8080/"
    },
    "executionInfo": {
     "elapsed": 6168,
     "status": "ok",
     "timestamp": 1705096308569,
     "user": {
      "displayName": "Bukola Babalola",
      "userId": "06679246117258314799"
     },
     "user_tz": 0
    },
    "id": "O7UScC4VqJqM",
    "outputId": "955cd90d-0a97-48e2-b8dc-d7478a958590"
   },
   "outputs": [
    {
     "name": "stdout",
     "output_type": "stream",
     "text": [
      "+---------------------+----------+--------------------+\n",
      "|MaritalStatus_indexed|prediction|         probability|\n",
      "+---------------------+----------+--------------------+\n",
      "|                  0.0|       0.0|[0.99999999350553...|\n",
      "|                  0.0|       0.0|[0.99999999378671...|\n",
      "|                  0.0|       0.0|[0.99999999378671...|\n",
      "|                  0.0|       0.0|[0.99999999378671...|\n",
      "|                  0.0|       0.0|[0.99999999378671...|\n",
      "|                  0.0|       0.0|[0.99999999392270...|\n",
      "|                  0.0|       0.0|[0.99999999418582...|\n",
      "|                  0.0|       0.0|[0.99999999350575...|\n",
      "|                  0.0|       0.0|[0.99999999378692...|\n",
      "|                  0.0|       0.0|[0.99999999378692...|\n",
      "|                  0.0|       0.0|[0.99999999378692...|\n",
      "|                  0.0|       0.0|[0.99999999378692...|\n",
      "|                  0.0|       0.0|[0.99999999378692...|\n",
      "|                  0.0|       0.0|[0.99999999392290...|\n",
      "|                  0.0|       0.0|[0.99999999392290...|\n",
      "|                  0.0|       0.0|[0.99999999418601...|\n",
      "|                  0.0|       0.0|[0.99999999378726...|\n",
      "|                  0.0|       0.0|[0.99999999418634...|\n",
      "|                  0.0|       0.0|[0.99999999378249...|\n",
      "|                  0.0|       0.0|[0.99999999378249...|\n",
      "+---------------------+----------+--------------------+\n",
      "only showing top 20 rows\n",
      "\n"
     ]
    }
   ],
   "source": [
    "# Making Predictions on the test Data\n",
    "predictions = lr_model.transform(test_data)\n",
    "predictions.select('MaritalStatus_indexed', 'prediction', 'probability').show()\n",
    "# predictions.show()"
   ]
  },
  {
   "cell_type": "code",
   "execution_count": null,
   "metadata": {
    "id": "v88L4pmpqM0m"
   },
   "outputs": [],
   "source": []
  },
  {
   "cell_type": "markdown",
   "metadata": {
    "id": "PLvVGJqGqTay"
   },
   "source": [
    "## **PERFORMANCE METRICS**"
   ]
  },
  {
   "cell_type": "code",
   "execution_count": null,
   "metadata": {
    "colab": {
     "base_uri": "https://localhost:8080/"
    },
    "executionInfo": {
     "elapsed": 13892,
     "status": "ok",
     "timestamp": 1705096384356,
     "user": {
      "displayName": "Bukola Babalola",
      "userId": "06679246117258314799"
     },
     "user_tz": 0
    },
    "id": "9rdeWmuNqZ3I",
    "outputId": "ee88e4c6-7853-4ba9-e1c4-37c2ed2d5f27"
   },
   "outputs": [
    {
     "name": "stdout",
     "output_type": "stream",
     "text": [
      "Area under ROC curve (AUC): 0.9999999021870581\n",
      "F1 Score: 1.0\n",
      "+---------------------+----------+-----+\n",
      "|MaritalStatus_indexed|prediction|count|\n",
      "+---------------------+----------+-----+\n",
      "|                  1.0|       1.0| 5453|\n",
      "|                  0.0|       0.0| 6562|\n",
      "+---------------------+----------+-----+\n",
      "\n"
     ]
    }
   ],
   "source": [
    "from pyspark.ml.evaluation import BinaryClassificationEvaluator, MulticlassClassificationEvaluator\n",
    "\n",
    "# Selecting relevant columns for evaluation\n",
    "predictions_eval = predictions.select('MaritalStatus_indexed', 'prediction', 'probability')\n",
    "\n",
    "# Binary Classification Evaluation\n",
    "binary_evaluator = BinaryClassificationEvaluator(labelCol='MaritalStatus_indexed', rawPredictionCol='probability')\n",
    "binary_auc = binary_evaluator.evaluate(predictions_eval)\n",
    "print(f'Area under ROC curve (AUC): {binary_auc}')\n",
    "\n",
    "# Multiclass Classification Evaluation\n",
    "multiclass_evaluator = MulticlassClassificationEvaluator(labelCol='MaritalStatus_indexed', metricName='f1')\n",
    "f1_score = multiclass_evaluator.evaluate(predictions_eval)\n",
    "print(f'F1 Score: {f1_score}')\n",
    "\n",
    "# Confusion Matrix\n",
    "conf_matrix = predictions_eval.groupBy('MaritalStatus_indexed', 'prediction').count()\n",
    "conf_matrix.show()\n"
   ]
  },
  {
   "cell_type": "code",
   "execution_count": null,
   "metadata": {
    "id": "4x8Y8oQvqXaE"
   },
   "outputs": [],
   "source": []
  },
  {
   "cell_type": "markdown",
   "metadata": {
    "id": "4A9wtLXFql7d"
   },
   "source": [
    "## **COMMUNICATION OF THE RESULT OF THE MODEL**"
   ]
  },
  {
   "cell_type": "code",
   "execution_count": null,
   "metadata": {
    "colab": {
     "base_uri": "https://localhost:8080/",
     "height": 472
    },
    "executionInfo": {
     "elapsed": 5721,
     "status": "ok",
     "timestamp": 1705096445873,
     "user": {
      "displayName": "Bukola Babalola",
      "userId": "06679246117258314799"
     },
     "user_tz": 0
    },
    "id": "oMoHBcNCqopI",
    "outputId": "c703c126-d318-4f26-8e20-99c9f221c7d6"
   },
   "outputs": [
    {
     "data": {
      "image/png": "[encoded data removed]",
      "text/plain": [
       "<Figure size 640x480 with 2 Axes>"
      ]
     },
     "metadata": {},
     "output_type": "display_data"
    }
   ],
   "source": [
    "import matplotlib.pyplot as plt\n",
    "import seaborn as sns\n",
    "\n",
    "# Convert predictions_eval to Pandas DataFrame for visualization\n",
    "predictions_pd = predictions_eval.toPandas()\n",
    "\n",
    "# Confusion Matrix Visualization\n",
    "conf_matrix_pd = predictions_pd.groupby(['MaritalStatus_indexed', 'prediction']).size().unstack().fillna(0)\n",
    "sns.heatmap(conf_matrix_pd, annot=True, fmt='g', cmap='Blues')\n",
    "plt.xlabel('Predicted')\n",
    "plt.ylabel('Actual')\n",
    "plt.title('Confusion Matrix')\n",
    "plt.show()"
   ]
  },
  {
   "cell_type": "code",
   "execution_count": null,
   "metadata": {
    "colab": {
     "base_uri": "https://localhost:8080/",
     "height": 472
    },
    "executionInfo": {
     "elapsed": 978,
     "status": "ok",
     "timestamp": 1705096465231,
     "user": {
      "displayName": "Bukola Babalola",
      "userId": "06679246117258314799"
     },
     "user_tz": 0
    },
    "id": "ArMnKNSxqudE",
    "outputId": "7cca237c-d0ea-4072-c8f2-f81000d3be80"
   },
   "outputs": [
    {
     "data": {
      "image/png": "[encoded data removed]",
      "text/plain": [
       "<Figure size 640x480 with 1 Axes>"
      ]
     },
     "metadata": {},
     "output_type": "display_data"
    }
   ],
   "source": [
    "from sklearn.metrics import roc_curve, auc\n",
    "\n",
    "# Convert probability column to Python list\n",
    "probs = predictions_pd['probability'].apply(lambda x: x[1]).tolist()\n",
    "\n",
    "# Compute ROC curve and AUC\n",
    "fpr, tpr, _ = roc_curve(predictions_pd['MaritalStatus_indexed'], probs)\n",
    "roc_auc = auc(fpr, tpr)\n",
    "\n",
    "# ROC Curve Visualization\n",
    "plt.figure()\n",
    "plt.plot(fpr, tpr, color='darkorange', lw=2, label=f'ROC curve (AUC = {roc_auc:.2f})')\n",
    "plt.plot([0, 1], [0, 1], color='navy', lw=2, linestyle='--')\n",
    "plt.xlabel('False Positive Rate')\n",
    "plt.ylabel('True Positive Rate')\n",
    "plt.title('Receiver Operating Characteristic (ROC) Curve')\n",
    "plt.legend(loc='lower right')\n",
    "plt.show()\n"
   ]
  }
 ],
 "metadata": {
  "colab": {
   "authorship_tag": "ABX9TyN92kvNSVcePkAzs0rsOHm2",
   "provenance": []
  },
  "kernelspec": {
   "display_name": "Python 3 (ipykernel)",
   "language": "python",
   "name": "python3"
  },
  "language_info": {
   "codemirror_mode": {
    "name": "ipython",
    "version": 3
   },
   "file_extension": ".py",
   "mimetype": "text/x-python",
   "name": "python",
   "nbconvert_exporter": "python",
   "pygments_lexer": "ipython3",
   "version": "3.11.3"
  }
 },
 "nbformat": 4,
 "nbformat_minor": 1
}
